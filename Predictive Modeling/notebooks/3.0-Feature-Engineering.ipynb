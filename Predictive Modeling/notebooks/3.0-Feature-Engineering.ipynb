{
 "cells": [
  {
   "cell_type": "markdown",
   "metadata": {},
   "source": [
    "# Energy Price Prediction Project"
   ]
  },
  {
   "cell_type": "markdown",
   "metadata": {},
   "source": [
    "## Previous Notebooks\n",
    "\n",
    "- [Energy data import and cleaning](1.0-GME-Data.ipynb)\n",
    "- [Weather data import and cleaning](1.1-Weather-Data.ipynb)\n",
    "- [Energy price futures import and cleaning](1.2-Futures-Data.ipynb)\n",
    "- [Gas price import and cleaning](1.3-Gas-Data.ipynb)\n",
    "- [Merging data](1.5-Merge-Data.ipynb)\n",
    "- [Exploratory data analysis](2.0-EDA.ipynb)"
   ]
  },
  {
   "cell_type": "code",
   "execution_count": 1,
   "metadata": {
    "collapsed": true
   },
   "outputs": [],
   "source": [
    "import numpy as np\n",
    "import pandas as pd\n",
    "import matplotlib.pyplot as plt\n",
    "import seaborn as sns\n",
    "%matplotlib inline"
   ]
  },
  {
   "cell_type": "markdown",
   "metadata": {},
   "source": [
    "As in the previous notebook I'm dropping all rows for which weather data is missing and all the features that have always the same value across all the dataset. I'm also dropping the rows with the 25 hour: these represents the extra hour in the day when daylight saving time ends and are not very representative."
   ]
  },
  {
   "cell_type": "code",
   "execution_count": 2,
   "metadata": {
    "collapsed": true
   },
   "outputs": [],
   "source": [
    "energy = pd.read_pickle('../data/interim/energy.pkl')"
   ]
  },
  {
   "cell_type": "code",
   "execution_count": 3,
   "metadata": {},
   "outputs": [],
   "source": [
    "market_ts = energy.groupby('date').mean().copy()\n",
    "market_ts.drop(['hour', 'AUST-XAUS', 'BRNN-SUD', 'BSP-SLOV', 'CNOR-CORS',\n",
    "                'CNOR-CSUD', 'CNOR-NORD', 'CORS-CNOR', 'CORS-SARD', 'CSUD-CNOR',\n",
    "                'CSUD-SARD', 'FOGN-SUD', 'FRAN-XFRA', 'MALT-SICI', 'NORD-CNOR',\n",
    "                'PRGP-SICI', 'ROSN-SICI', 'ROSN-SUD', 'SARD-CORS', 'SARD-CSUD',\n",
    "                'SICI-MALT', 'SICI-ROSN', 'SLOV-BSP', 'SUD-CSUD', 'XAUS-AUST',\n",
    "                'XFRA-FRAN'], axis=1, inplace=True)"
   ]
  },
  {
   "cell_type": "code",
   "execution_count": 4,
   "metadata": {
    "collapsed": true
   },
   "outputs": [],
   "source": [
    "# market_weather = market_weather[~np.isnan(market_weather['hdd_liml'])].copy()"
   ]
  },
  {
   "cell_type": "code",
   "execution_count": 4,
   "metadata": {
    "collapsed": true
   },
   "outputs": [],
   "source": [
    "unique_value_cols = [col for col in energy.columns if len(energy[col].unique()) == 1]"
   ]
  },
  {
   "cell_type": "code",
   "execution_count": 5,
   "metadata": {
    "collapsed": true
   },
   "outputs": [],
   "source": [
    "energy.drop(unique_value_cols, axis=1, inplace=True)"
   ]
  },
  {
   "cell_type": "code",
   "execution_count": 6,
   "metadata": {
    "collapsed": true
   },
   "outputs": [],
   "source": [
    "energy = energy.loc[energy['hour']!=25].copy()"
   ]
  },
  {
   "cell_type": "markdown",
   "metadata": {},
   "source": [
    "Next, I'm adding the mean value of the PUN in the last 30 days and some dummy variables for:\n",
    "\n",
    "- Holidays (since in the weekends the PUN is lower I expect it to be so also in the holidays)\n",
    "- Months\n",
    "- Day of week\n",
    "- Hour"
   ]
  },
  {
   "cell_type": "code",
   "execution_count": 7,
   "metadata": {
    "collapsed": true
   },
   "outputs": [],
   "source": [
    "def is_holiday(date):\n",
    "    '''\n",
    "    helper functions with the fixed holidays and Easter for 2014, 2015, and 2016\n",
    "    '''\n",
    "    # fixed holidays\n",
    "    if date.month == 1 and date.day == 1:\n",
    "        return 1\n",
    "    if date.month == 1 and date.day == 6:\n",
    "        return 1\n",
    "    if date.month == 4 and date.day == 25:\n",
    "        return 1\n",
    "    if date.month == 5 and date.day == 1:\n",
    "        return 1\n",
    "    if date.month == 6 and date.day == 2:\n",
    "        return 1\n",
    "    if date.month == 8 and date.day == 15:\n",
    "        return 1\n",
    "    if date.month == 11 and date.day == 1:\n",
    "        return 1\n",
    "    if date.month == 12 and date.day == 8:\n",
    "        return 1\n",
    "    if date.month == 12 and date.day == 25:\n",
    "        return 1\n",
    "    if date.month == 12 and date.day == 26:\n",
    "        return 1\n",
    "    # easter\n",
    "    if date.year == 2014 and date.month == 4 and date.day == 20:\n",
    "        return 1\n",
    "    if date.year == 2014 and date.month == 4 and date.day == 21:\n",
    "        return 1\n",
    "    if date.year == 2015 and date.month == 4 and date.day == 5:\n",
    "        return 1\n",
    "    if date.year == 2015 and date.month == 4 and date.day == 6:\n",
    "        return 1\n",
    "    if date.year == 2016 and date.month == 3 and date.day == 27:\n",
    "        return 1\n",
    "    if date.year == 2016 and date.month == 3 and date.day == 28:\n",
    "        return 1\n",
    "    if date.year == 2017 and date.month == 4 and date.day == 16:\n",
    "        return 1\n",
    "    if date.year == 2017 and date.month == 4 and date.day == 17:\n",
    "        return 1\n",
    "    return 0"
   ]
  },
  {
   "cell_type": "code",
   "execution_count": 8,
   "metadata": {
    "collapsed": true
   },
   "outputs": [],
   "source": [
    "energy['holiday'] = energy['date'].apply(is_holiday)"
   ]
  },
  {
   "cell_type": "code",
   "execution_count": 9,
   "metadata": {
    "collapsed": true
   },
   "outputs": [],
   "source": [
    "energy = energy.merge(market_ts['pun'].rolling(window=30).mean()\\\n",
    "                                      .shift(periods=1, freq='d').reset_index()\\\n",
    "                                      .rename(columns={'pun':'pun_last30'}),\n",
    "                                  left_on='date',\n",
    "                                  right_on='date',\n",
    "                                  how='left')"
   ]
  },
  {
   "cell_type": "code",
   "execution_count": 10,
   "metadata": {
    "collapsed": true
   },
   "outputs": [],
   "source": [
    "energy = energy.merge(pd.get_dummies(energy['date'].dt.weekday),\n",
    "                      left_index=True,\n",
    "                      right_index=True,\n",
    "                      how='left')\\\n",
    "                .rename(columns={0:'mon',\n",
    "                                 1:'tue',\n",
    "                                 2:'wed',\n",
    "                                 3:'thu',\n",
    "                                 4:'fri',\n",
    "                                 5:'sat',\n",
    "                                 6:'sun'})"
   ]
  },
  {
   "cell_type": "code",
   "execution_count": 11,
   "metadata": {
    "collapsed": true
   },
   "outputs": [],
   "source": [
    "energy = energy.merge(pd.get_dummies(energy['date'].dt.month),\n",
    "                     left_index=True,\n",
    "                     right_index=True, how='left')\\\n",
    "                .rename(columns={1:'jan',\n",
    "                                 2:'feb',\n",
    "                                 3:'mar',\n",
    "                                 4:'apr',\n",
    "                                 5:'may',\n",
    "                                 6:'jun',\n",
    "                                 7:'jul',\n",
    "                                 8:'aug',\n",
    "                                 9:'sep',\n",
    "                                 10:'oct',\n",
    "                                 11:'nov',\n",
    "                                 12:'dec'})"
   ]
  },
  {
   "cell_type": "code",
   "execution_count": 12,
   "metadata": {
    "collapsed": true
   },
   "outputs": [],
   "source": [
    "energy = energy.merge(pd.get_dummies(energy['hour']),\n",
    "                     left_index=True,\n",
    "                     right_index=True, how='left')\\\n",
    "                .rename(columns={1:'h1',\n",
    "                                 2:'h2',\n",
    "                                 3:'h3',\n",
    "                                 4:'h4',\n",
    "                                 5:'h5',\n",
    "                                 6:'h6',\n",
    "                                 7:'h7',\n",
    "                                 8:'h8',\n",
    "                                 9:'h9',\n",
    "                                 10:'h10',\n",
    "                                 11:'h11',\n",
    "                                 12:'h12',\n",
    "                                 13:'h13',\n",
    "                                 14:'h14',\n",
    "                                 15:'h15',\n",
    "                                 16:'h16',\n",
    "                                 17:'h17',\n",
    "                                 18:'h18',\n",
    "                                 19:'h19',\n",
    "                                 20:'h20',\n",
    "                                 21:'h21',\n",
    "                                 22:'h22',\n",
    "                                 23:'h23',\n",
    "                                 24:'h24'})"
   ]
  },
  {
   "cell_type": "code",
   "execution_count": 13,
   "metadata": {},
   "outputs": [],
   "source": [
    "for hour in np.arange(1, 25):\n",
    "    market_ts = energy.loc[energy['hour']==hour].groupby('date').mean().copy()\n",
    "    market_ts.drop(['AUST-XAUS', 'BRNN-SUD', 'BSP-SLOV', 'CNOR-CORS',\n",
    "                    'CNOR-CSUD', 'CNOR-NORD', 'CORS-CNOR', 'CORS-SARD', 'CSUD-CNOR',\n",
    "                    'CSUD-SARD', 'FOGN-SUD', 'FRAN-XFRA', 'MALT-SICI', 'NORD-CNOR',\n",
    "                    'PRGP-SICI', 'ROSN-SICI', 'ROSN-SUD', 'SARD-CORS', 'SARD-CSUD',\n",
    "                    'SICI-MALT', 'SICI-ROSN', 'SLOV-BSP', 'SUD-CSUD', 'XAUS-AUST',\n",
    "                    'XFRA-FRAN'], axis=1, inplace=True)\n",
    "    energy = energy.merge(market_ts[['pun', 'hour']].rolling(window=7).mean()\\\n",
    "                                          .shift(periods=1, freq='d').reset_index()\\\n",
    "                                          .rename(columns={'pun':'pun_hour_last7_{}'.format(str(hour))}),\n",
    "                                      left_on=['date', 'hour'],\n",
    "                                      right_on=['date', 'hour'],\n",
    "                                      how='left')\n",
    "    energy['hour'] = pd.to_numeric(energy['hour'])"
   ]
  },
  {
   "cell_type": "code",
   "execution_count": 14,
   "metadata": {
    "collapsed": true
   },
   "outputs": [],
   "source": [
    "energy['pun_hour_last7'] = energy['pun_hour_last7_1'].fillna(0) + energy['pun_hour_last7_2'].fillna(0) +\\\n",
    "energy['pun_hour_last7_3'].fillna(0) + energy['pun_hour_last7_4'].fillna(0) +\\\n",
    "energy['pun_hour_last7_5'].fillna(0) + energy['pun_hour_last7_6'].fillna(0) +\\\n",
    "energy['pun_hour_last7_7'].fillna(0) + energy['pun_hour_last7_8'].fillna(0) +\\\n",
    "energy['pun_hour_last7_9'].fillna(0) + energy['pun_hour_last7_10'].fillna(0) +\\\n",
    "energy['pun_hour_last7_11'].fillna(0) + energy['pun_hour_last7_12'].fillna(0) +\\\n",
    "energy['pun_hour_last7_13'].fillna(0) + energy['pun_hour_last7_14'].fillna(0) +\\\n",
    "energy['pun_hour_last7_15'].fillna(0) + energy['pun_hour_last7_16'].fillna(0) +\\\n",
    "energy['pun_hour_last7_17'].fillna(0) + energy['pun_hour_last7_18'].fillna(0) +\\\n",
    "energy['pun_hour_last7_19'].fillna(0) + energy['pun_hour_last7_20'].fillna(0) +\\\n",
    "energy['pun_hour_last7_21'].fillna(0) + energy['pun_hour_last7_22'].fillna(0) +\\\n",
    "energy['pun_hour_last7_23'].fillna(0) + energy['pun_hour_last7_24'].fillna(0)\n",
    "\n",
    "energy.drop(['pun_hour_last7_1', 'pun_hour_last7_2', 'pun_hour_last7_3', 'pun_hour_last7_4', \n",
    "                    'pun_hour_last7_5', 'pun_hour_last7_6', 'pun_hour_last7_7', 'pun_hour_last7_8', \n",
    "                    'pun_hour_last7_9', 'pun_hour_last7_10', 'pun_hour_last7_11', 'pun_hour_last7_12', \n",
    "                    'pun_hour_last7_13', 'pun_hour_last7_14', 'pun_hour_last7_15', 'pun_hour_last7_16', \n",
    "                    'pun_hour_last7_17', 'pun_hour_last7_18', 'pun_hour_last7_19', 'pun_hour_last7_20', \n",
    "                    'pun_hour_last7_21', 'pun_hour_last7_22', 'pun_hour_last7_23', 'pun_hour_last7_24', ], axis=1, inplace=True)"
   ]
  },
  {
   "cell_type": "code",
   "execution_count": 15,
   "metadata": {},
   "outputs": [
    {
     "name": "stdout",
     "output_type": "stream",
     "text": [
      "<class 'pandas.core.frame.DataFrame'>\n",
      "Int64Index: 33596 entries, 0 to 33595\n",
      "Data columns (total 88 columns):\n",
      "date              33596 non-null datetime64[ns]\n",
      "hour              33596 non-null int64\n",
      "pun               33596 non-null float64\n",
      "italy             33596 non-null int64\n",
      "cnorth            33596 non-null int64\n",
      "csouth            33596 non-null int64\n",
      "north             33596 non-null int64\n",
      "sardinia          33596 non-null int64\n",
      "sicily            33596 non-null int64\n",
      "south             33596 non-null int64\n",
      "AUST-XAUS         23853 non-null float64\n",
      "BRNN-SUD          33596 non-null float64\n",
      "BSP-SLOV          33596 non-null float64\n",
      "CNOR-CORS         33596 non-null float64\n",
      "CNOR-CSUD         33596 non-null float64\n",
      "CNOR-NORD         33596 non-null float64\n",
      "CORS-CNOR         33596 non-null float64\n",
      "CORS-SARD         33596 non-null float64\n",
      "CSUD-CNOR         33596 non-null float64\n",
      "CSUD-SARD         33596 non-null float64\n",
      "FOGN-SUD          33596 non-null float64\n",
      "FRAN-XFRA         23853 non-null float64\n",
      "MALT-SICI         23853 non-null float64\n",
      "NORD-CNOR         33596 non-null float64\n",
      "PRGP-SICI         33596 non-null float64\n",
      "ROSN-SICI         33596 non-null float64\n",
      "ROSN-SUD          33596 non-null float64\n",
      "SARD-CORS         33596 non-null float64\n",
      "SARD-CSUD         33596 non-null float64\n",
      "SICI-MALT         23853 non-null float64\n",
      "SICI-ROSN         33596 non-null float64\n",
      "SLOV-BSP          33596 non-null float64\n",
      "SUD-CSUD          33596 non-null float64\n",
      "XAUS-AUST         23853 non-null float64\n",
      "XFRA-FRAN         23853 non-null float64\n",
      "hdd_liml          26277 non-null float64\n",
      "hdd_lira          26277 non-null float64\n",
      "hdd_lirn          26277 non-null float64\n",
      "cdd_liml          26277 non-null float64\n",
      "cdd_lira          26277 non-null float64\n",
      "cdd_lirn          26277 non-null float64\n",
      "gas_price         33596 non-null float64\n",
      "holiday           33596 non-null int64\n",
      "pun_last30        32876 non-null float64\n",
      "mon               33596 non-null uint8\n",
      "tue               33596 non-null uint8\n",
      "wed               33596 non-null uint8\n",
      "thu               33596 non-null uint8\n",
      "fri               33596 non-null uint8\n",
      "sat               33596 non-null uint8\n",
      "sun               33596 non-null uint8\n",
      "jan               33596 non-null uint8\n",
      "feb               33596 non-null uint8\n",
      "mar               33596 non-null uint8\n",
      "apr               33596 non-null uint8\n",
      "may               33596 non-null uint8\n",
      "jun               33596 non-null uint8\n",
      "jul               33596 non-null uint8\n",
      "aug               33596 non-null uint8\n",
      "sep               33596 non-null uint8\n",
      "oct               33596 non-null uint8\n",
      "nov               33596 non-null uint8\n",
      "dec               33596 non-null uint8\n",
      "h1                33596 non-null uint8\n",
      "h2                33596 non-null uint8\n",
      "h3                33596 non-null uint8\n",
      "h4                33596 non-null uint8\n",
      "h5                33596 non-null uint8\n",
      "h6                33596 non-null uint8\n",
      "h7                33596 non-null uint8\n",
      "h8                33596 non-null uint8\n",
      "h9                33596 non-null uint8\n",
      "h10               33596 non-null uint8\n",
      "h11               33596 non-null uint8\n",
      "h12               33596 non-null uint8\n",
      "h13               33596 non-null uint8\n",
      "h14               33596 non-null uint8\n",
      "h15               33596 non-null uint8\n",
      "h16               33596 non-null uint8\n",
      "h17               33596 non-null uint8\n",
      "h18               33596 non-null uint8\n",
      "h19               33596 non-null uint8\n",
      "h20               33596 non-null uint8\n",
      "h21               33596 non-null uint8\n",
      "h22               33596 non-null uint8\n",
      "h23               33596 non-null uint8\n",
      "h24               33596 non-null uint8\n",
      "pun_hour_last7    33596 non-null float64\n",
      "dtypes: datetime64[ns](1), float64(35), int64(9), uint8(43)\n",
      "memory usage: 13.2 MB\n"
     ]
    }
   ],
   "source": [
    "energy.info()"
   ]
  },
  {
   "cell_type": "code",
   "execution_count": 16,
   "metadata": {},
   "outputs": [
    {
     "data": {
      "text/html": [
       "<div>\n",
       "<style>\n",
       "    .dataframe thead tr:only-child th {\n",
       "        text-align: right;\n",
       "    }\n",
       "\n",
       "    .dataframe thead th {\n",
       "        text-align: left;\n",
       "    }\n",
       "\n",
       "    .dataframe tbody tr th {\n",
       "        vertical-align: top;\n",
       "    }\n",
       "</style>\n",
       "<table border=\"1\" class=\"dataframe\">\n",
       "  <thead>\n",
       "    <tr style=\"text-align: right;\">\n",
       "      <th></th>\n",
       "      <th>date</th>\n",
       "      <th>hour</th>\n",
       "      <th>pun</th>\n",
       "      <th>italy</th>\n",
       "      <th>cnorth</th>\n",
       "      <th>csouth</th>\n",
       "      <th>north</th>\n",
       "      <th>sardinia</th>\n",
       "      <th>sicily</th>\n",
       "      <th>south</th>\n",
       "      <th>...</th>\n",
       "      <th>h16</th>\n",
       "      <th>h17</th>\n",
       "      <th>h18</th>\n",
       "      <th>h19</th>\n",
       "      <th>h20</th>\n",
       "      <th>h21</th>\n",
       "      <th>h22</th>\n",
       "      <th>h23</th>\n",
       "      <th>h24</th>\n",
       "      <th>pun_hour_last7</th>\n",
       "    </tr>\n",
       "  </thead>\n",
       "  <tbody>\n",
       "    <tr>\n",
       "      <th>0</th>\n",
       "      <td>2014-01-17</td>\n",
       "      <td>1</td>\n",
       "      <td>50.393484</td>\n",
       "      <td>28430</td>\n",
       "      <td>3174</td>\n",
       "      <td>4275</td>\n",
       "      <td>15963</td>\n",
       "      <td>818</td>\n",
       "      <td>1775</td>\n",
       "      <td>2425</td>\n",
       "      <td>...</td>\n",
       "      <td>0</td>\n",
       "      <td>0</td>\n",
       "      <td>0</td>\n",
       "      <td>0</td>\n",
       "      <td>0</td>\n",
       "      <td>0</td>\n",
       "      <td>0</td>\n",
       "      <td>0</td>\n",
       "      <td>0</td>\n",
       "      <td>55.826318</td>\n",
       "    </tr>\n",
       "    <tr>\n",
       "      <th>1</th>\n",
       "      <td>2014-01-17</td>\n",
       "      <td>2</td>\n",
       "      <td>45.700000</td>\n",
       "      <td>26631</td>\n",
       "      <td>2966</td>\n",
       "      <td>3909</td>\n",
       "      <td>15145</td>\n",
       "      <td>756</td>\n",
       "      <td>1646</td>\n",
       "      <td>2209</td>\n",
       "      <td>...</td>\n",
       "      <td>0</td>\n",
       "      <td>0</td>\n",
       "      <td>0</td>\n",
       "      <td>0</td>\n",
       "      <td>0</td>\n",
       "      <td>0</td>\n",
       "      <td>0</td>\n",
       "      <td>0</td>\n",
       "      <td>0</td>\n",
       "      <td>50.332167</td>\n",
       "    </tr>\n",
       "    <tr>\n",
       "      <th>2</th>\n",
       "      <td>2014-01-17</td>\n",
       "      <td>3</td>\n",
       "      <td>41.973579</td>\n",
       "      <td>25711</td>\n",
       "      <td>2732</td>\n",
       "      <td>3727</td>\n",
       "      <td>14865</td>\n",
       "      <td>727</td>\n",
       "      <td>1570</td>\n",
       "      <td>2090</td>\n",
       "      <td>...</td>\n",
       "      <td>0</td>\n",
       "      <td>0</td>\n",
       "      <td>0</td>\n",
       "      <td>0</td>\n",
       "      <td>0</td>\n",
       "      <td>0</td>\n",
       "      <td>0</td>\n",
       "      <td>0</td>\n",
       "      <td>0</td>\n",
       "      <td>46.041461</td>\n",
       "    </tr>\n",
       "    <tr>\n",
       "      <th>3</th>\n",
       "      <td>2014-01-17</td>\n",
       "      <td>4</td>\n",
       "      <td>40.261427</td>\n",
       "      <td>25468</td>\n",
       "      <td>2688</td>\n",
       "      <td>3655</td>\n",
       "      <td>14830</td>\n",
       "      <td>719</td>\n",
       "      <td>1531</td>\n",
       "      <td>2045</td>\n",
       "      <td>...</td>\n",
       "      <td>0</td>\n",
       "      <td>0</td>\n",
       "      <td>0</td>\n",
       "      <td>0</td>\n",
       "      <td>0</td>\n",
       "      <td>0</td>\n",
       "      <td>0</td>\n",
       "      <td>0</td>\n",
       "      <td>0</td>\n",
       "      <td>40.197408</td>\n",
       "    </tr>\n",
       "    <tr>\n",
       "      <th>4</th>\n",
       "      <td>2014-01-17</td>\n",
       "      <td>5</td>\n",
       "      <td>40.103296</td>\n",
       "      <td>25725</td>\n",
       "      <td>2715</td>\n",
       "      <td>3660</td>\n",
       "      <td>15024</td>\n",
       "      <td>727</td>\n",
       "      <td>1518</td>\n",
       "      <td>2081</td>\n",
       "      <td>...</td>\n",
       "      <td>0</td>\n",
       "      <td>0</td>\n",
       "      <td>0</td>\n",
       "      <td>0</td>\n",
       "      <td>0</td>\n",
       "      <td>0</td>\n",
       "      <td>0</td>\n",
       "      <td>0</td>\n",
       "      <td>0</td>\n",
       "      <td>40.875501</td>\n",
       "    </tr>\n",
       "  </tbody>\n",
       "</table>\n",
       "<p>5 rows × 88 columns</p>\n",
       "</div>"
      ],
      "text/plain": [
       "        date  hour        pun  italy  cnorth  csouth  north  sardinia  sicily  \\\n",
       "0 2014-01-17     1  50.393484  28430    3174    4275  15963       818    1775   \n",
       "1 2014-01-17     2  45.700000  26631    2966    3909  15145       756    1646   \n",
       "2 2014-01-17     3  41.973579  25711    2732    3727  14865       727    1570   \n",
       "3 2014-01-17     4  40.261427  25468    2688    3655  14830       719    1531   \n",
       "4 2014-01-17     5  40.103296  25725    2715    3660  15024       727    1518   \n",
       "\n",
       "   south       ...        h16  h17  h18  h19  h20  h21  h22  h23  h24  \\\n",
       "0   2425       ...          0    0    0    0    0    0    0    0    0   \n",
       "1   2209       ...          0    0    0    0    0    0    0    0    0   \n",
       "2   2090       ...          0    0    0    0    0    0    0    0    0   \n",
       "3   2045       ...          0    0    0    0    0    0    0    0    0   \n",
       "4   2081       ...          0    0    0    0    0    0    0    0    0   \n",
       "\n",
       "   pun_hour_last7  \n",
       "0       55.826318  \n",
       "1       50.332167  \n",
       "2       46.041461  \n",
       "3       40.197408  \n",
       "4       40.875501  \n",
       "\n",
       "[5 rows x 88 columns]"
      ]
     },
     "execution_count": 16,
     "metadata": {},
     "output_type": "execute_result"
    }
   ],
   "source": [
    "energy.head()"
   ]
  },
  {
   "cell_type": "code",
   "execution_count": 17,
   "metadata": {
    "collapsed": true
   },
   "outputs": [],
   "source": [
    "energy.to_pickle('../data/processed/energy_processed.pkl')"
   ]
  },
  {
   "cell_type": "markdown",
   "metadata": {},
   "source": [
    "## Following Notebooks\n",
    "\n",
    "- [More exploratory data analysis](4.0-EDA-Bis.ipynb)\n",
    "- [Predictive model](5.0-Model.ipynb)"
   ]
  }
 ],
 "metadata": {
  "kernelspec": {
   "display_name": "Python 3",
   "language": "python",
   "name": "python3"
  },
  "language_info": {
   "codemirror_mode": {
    "name": "ipython",
    "version": 3
   },
   "file_extension": ".py",
   "mimetype": "text/x-python",
   "name": "python",
   "nbconvert_exporter": "python",
   "pygments_lexer": "ipython3",
   "version": "3.6.2"
  }
 },
 "nbformat": 4,
 "nbformat_minor": 2
}
