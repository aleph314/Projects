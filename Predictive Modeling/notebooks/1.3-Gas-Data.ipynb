{
 "cells": [
  {
   "cell_type": "markdown",
   "metadata": {},
   "source": [
    "# Energy Price Prediction Project"
   ]
  },
  {
   "cell_type": "markdown",
   "metadata": {},
   "source": [
    "## Previous Notebooks\n",
    "\n",
    "- [Energy data import and cleaning](1.0-GME-Data.ipynb)\n",
    "- [Weather data import and cleaning](1.1-Weather-Data.ipynb)\n",
    "- [Energy price futures import and cleaning](1.2-Futures-Data.ipynb)"
   ]
  },
  {
   "cell_type": "code",
   "execution_count": 1,
   "metadata": {
    "collapsed": true
   },
   "outputs": [],
   "source": [
    "import numpy as np\n",
    "import pandas as pd"
   ]
  },
  {
   "cell_type": "code",
   "execution_count": 2,
   "metadata": {
    "collapsed": true
   },
   "outputs": [],
   "source": [
    "import xml.etree.ElementTree\n",
    "import zipfile\n",
    "import os\n",
    "import datetime"
   ]
  },
  {
   "cell_type": "markdown",
   "metadata": {},
   "source": [
    "Among the publicly available data on the [energy market's managing institution (GME)](http://www.mercatoelettrico.org/It/default.aspx) there is the gas market data, which includes some prices for the next few days. Because the aim is to predict next day price and on a given day I have the data from the day before, among all the daily prices in each file I will use the one for two days in the future.\n",
    "\n",
    "First, I'm going to reuse the helper functions for the xml files I used in the previous notebook, but since we have different column structures among the files I'm adding some checks:"
   ]
  },
  {
   "cell_type": "code",
   "execution_count": 3,
   "metadata": {
    "collapsed": true
   },
   "outputs": [],
   "source": [
    "def import_xml_file(file, row_names, cols):\n",
    "    '''\n",
    "    Reads xml file and outputs list of data\n",
    "    Inputs:\n",
    "        file -> file name\n",
    "        row_names -> list of rows tags identifier\n",
    "        cols -> list of columns tags identifier\n",
    "    '''\n",
    "    data = xml.etree.ElementTree.parse(file).getroot()\n",
    "    all_data = []\n",
    "    for row_name in row_names:\n",
    "        for row_data in data.findall(row_name):\n",
    "            row = []\n",
    "            for col in cols:\n",
    "                col_data = row_data.find(col)\n",
    "                if col_data is None:\n",
    "                    row.append('')\n",
    "                else:\n",
    "                    row.append(col_data.text)\n",
    "            all_data.append(row)\n",
    "    \n",
    "    return all_data\n",
    "\n",
    "def import_xml_zip_file(folder, zip_file, row_names, cols, out_cols):\n",
    "    '''\n",
    "    Loops through xml files in zip archive and outputs a pandas dataframe with all xml files data\n",
    "    Uses import_xml_file\n",
    "    Inputs:\n",
    "        folder -> zip file folder\n",
    "        zip_file -> zip file name\n",
    "        row_names -> list of rows tags identifier\n",
    "        cols -> list of columns tags identifier\n",
    "        out_cols -> columns names for the pandas dataframe\n",
    "    '''\n",
    "    with zipfile.ZipFile('{}/{}'.format(folder, zip_file)) as z:\n",
    "        all_data = []\n",
    "        for file in z.namelist():\n",
    "            f = z.open(file)\n",
    "            file_data = import_xml_file(f, row_names, cols)\n",
    "            all_data = all_data + file_data\n",
    "    \n",
    "    xml_df = pd.DataFrame(all_data, columns=out_cols)\n",
    "    return xml_df\n",
    "\n",
    "def import_xml_from_folder(folder, file_name_path, row_names, cols, out_cols, int_cols, num_cols, date_cols):\n",
    "    '''\n",
    "    Loops through all zip archives in a folder and outputs a pandas dataframe with all the zipped data\n",
    "    Uses import_xml_zip_file\n",
    "    Inputs:\n",
    "        folder -> zip file folder\n",
    "        file_name_path -> start of files name to search for\n",
    "        row_names -> list of rows tags identifier\n",
    "        cols -> list of columns tags identifier\n",
    "        out_cols -> columns names for the pandas dataframe\n",
    "        int_cols -> list of columns to convert to int\n",
    "        num_cols -> list of columns to convert to numeric\n",
    "        date_cols -> list of columns to convert to date\n",
    "    '''\n",
    "    directory = os.fsencode(folder)\n",
    "    out_df = pd.DataFrame(columns=out_cols)\n",
    "    for file in os.listdir(directory):\n",
    "        filename = os.fsdecode(file)\n",
    "        if filename.startswith(file_name_path) and (filename.endswith('.zip') or filename.endswith('.7z')):\n",
    "            df = import_xml_zip_file(folder, filename, row_names, cols, out_cols)\n",
    "            out_df = out_df.append(df)\n",
    "    \n",
    "    for col in int_cols:\n",
    "        out_df[col] = pd.to_numeric(out_df[col])\n",
    "    for col in num_cols:\n",
    "        out_df[col] = out_df[col].apply(lambda x: x.replace(',', '.'))\n",
    "        out_df[col] = pd.to_numeric(out_df[col])\n",
    "    for col in date_cols:\n",
    "        out_df[col] = pd.to_datetime(out_df[col])\n",
    "    \n",
    "    return out_df.reset_index(drop=True)"
   ]
  },
  {
   "cell_type": "markdown",
   "metadata": {},
   "source": [
    "Import the data:"
   ]
  },
  {
   "cell_type": "code",
   "execution_count": 4,
   "metadata": {},
   "outputs": [],
   "source": [
    "gas = import_xml_from_folder(folder='../data/raw',\n",
    "                             file_name_path='MGPGAS_SintesiScambio',\n",
    "                             row_names=['negoziazione_continua'],\n",
    "                             cols=['DataSessione', 'NomeProdotto', 'PrimoPrezzo', 'UltimoPrezzo',\n",
    "                                   'PrezzoMassimo', 'PrezzoMinimo', 'PrezzoMedio', 'PrezzoControllo',\n",
    "                                   'Volumi', 'PosizioniAperte', 'Abbinamenti'],\n",
    "                             out_cols=['date', 'market_date', 'opening_price', 'closing_price',\n",
    "                                       'max_price', 'min_price', 'avg_price', 'control_price',\n",
    "                                       'volumes', 'open_positions', 'pairings'],\n",
    "                             int_cols=['pairings'],\n",
    "                             num_cols=['opening_price', 'closing_price', 'max_price', 'min_price',\n",
    "                                       'avg_price', 'control_price', 'volumes', 'open_positions'],\n",
    "                             date_cols=['date'])"
   ]
  },
  {
   "cell_type": "code",
   "execution_count": 5,
   "metadata": {},
   "outputs": [
    {
     "data": {
      "text/html": [
       "<div>\n",
       "<style>\n",
       "    .dataframe thead tr:only-child th {\n",
       "        text-align: right;\n",
       "    }\n",
       "\n",
       "    .dataframe thead th {\n",
       "        text-align: left;\n",
       "    }\n",
       "\n",
       "    .dataframe tbody tr th {\n",
       "        vertical-align: top;\n",
       "    }\n",
       "</style>\n",
       "<table border=\"1\" class=\"dataframe\">\n",
       "  <thead>\n",
       "    <tr style=\"text-align: right;\">\n",
       "      <th></th>\n",
       "      <th>date</th>\n",
       "      <th>market_date</th>\n",
       "      <th>opening_price</th>\n",
       "      <th>closing_price</th>\n",
       "      <th>max_price</th>\n",
       "      <th>min_price</th>\n",
       "      <th>avg_price</th>\n",
       "      <th>control_price</th>\n",
       "      <th>volumes</th>\n",
       "      <th>open_positions</th>\n",
       "      <th>pairings</th>\n",
       "    </tr>\n",
       "  </thead>\n",
       "  <tbody>\n",
       "    <tr>\n",
       "      <th>0</th>\n",
       "      <td>2014-01-02</td>\n",
       "      <td>MGP-2014-01-03</td>\n",
       "      <td>NaN</td>\n",
       "      <td>NaN</td>\n",
       "      <td>NaN</td>\n",
       "      <td>NaN</td>\n",
       "      <td>NaN</td>\n",
       "      <td>27.574</td>\n",
       "      <td>NaN</td>\n",
       "      <td>0.0</td>\n",
       "      <td>0</td>\n",
       "    </tr>\n",
       "    <tr>\n",
       "      <th>1</th>\n",
       "      <td>2014-01-02</td>\n",
       "      <td>MGP-2014-01-04</td>\n",
       "      <td>NaN</td>\n",
       "      <td>NaN</td>\n",
       "      <td>NaN</td>\n",
       "      <td>NaN</td>\n",
       "      <td>NaN</td>\n",
       "      <td>27.574</td>\n",
       "      <td>NaN</td>\n",
       "      <td>0.0</td>\n",
       "      <td>0</td>\n",
       "    </tr>\n",
       "    <tr>\n",
       "      <th>2</th>\n",
       "      <td>2014-01-02</td>\n",
       "      <td>MGP-2014-01-05</td>\n",
       "      <td>NaN</td>\n",
       "      <td>NaN</td>\n",
       "      <td>NaN</td>\n",
       "      <td>NaN</td>\n",
       "      <td>NaN</td>\n",
       "      <td>27.574</td>\n",
       "      <td>NaN</td>\n",
       "      <td>0.0</td>\n",
       "      <td>0</td>\n",
       "    </tr>\n",
       "    <tr>\n",
       "      <th>3</th>\n",
       "      <td>2014-01-21</td>\n",
       "      <td>MGP-2014-01-22</td>\n",
       "      <td>NaN</td>\n",
       "      <td>NaN</td>\n",
       "      <td>NaN</td>\n",
       "      <td>NaN</td>\n",
       "      <td>NaN</td>\n",
       "      <td>27.574</td>\n",
       "      <td>NaN</td>\n",
       "      <td>0.0</td>\n",
       "      <td>0</td>\n",
       "    </tr>\n",
       "    <tr>\n",
       "      <th>4</th>\n",
       "      <td>2014-01-21</td>\n",
       "      <td>MGP-2014-01-23</td>\n",
       "      <td>NaN</td>\n",
       "      <td>NaN</td>\n",
       "      <td>NaN</td>\n",
       "      <td>NaN</td>\n",
       "      <td>NaN</td>\n",
       "      <td>27.574</td>\n",
       "      <td>NaN</td>\n",
       "      <td>0.0</td>\n",
       "      <td>0</td>\n",
       "    </tr>\n",
       "  </tbody>\n",
       "</table>\n",
       "</div>"
      ],
      "text/plain": [
       "        date     market_date  opening_price  closing_price  max_price  \\\n",
       "0 2014-01-02  MGP-2014-01-03            NaN            NaN        NaN   \n",
       "1 2014-01-02  MGP-2014-01-04            NaN            NaN        NaN   \n",
       "2 2014-01-02  MGP-2014-01-05            NaN            NaN        NaN   \n",
       "3 2014-01-21  MGP-2014-01-22            NaN            NaN        NaN   \n",
       "4 2014-01-21  MGP-2014-01-23            NaN            NaN        NaN   \n",
       "\n",
       "   min_price  avg_price  control_price  volumes  open_positions  pairings  \n",
       "0        NaN        NaN         27.574      NaN             0.0         0  \n",
       "1        NaN        NaN         27.574      NaN             0.0         0  \n",
       "2        NaN        NaN         27.574      NaN             0.0         0  \n",
       "3        NaN        NaN         27.574      NaN             0.0         0  \n",
       "4        NaN        NaN         27.574      NaN             0.0         0  "
      ]
     },
     "execution_count": 5,
     "metadata": {},
     "output_type": "execute_result"
    }
   ],
   "source": [
    "gas.head()"
   ]
  },
  {
   "cell_type": "markdown",
   "metadata": {},
   "source": [
    "Make market_date really a date, use the data from two days before and choose `control_price` as the price column to use (it's the one with less missing values)."
   ]
  },
  {
   "cell_type": "code",
   "execution_count": 6,
   "metadata": {},
   "outputs": [],
   "source": [
    "gas['market_date'] = pd.to_datetime(gas['market_date'].str.replace('MGP-',''))\n",
    "gas['market_date'] = gas['market_date'] - datetime.timedelta(days=2)\n",
    "gas_daily = gas.loc[gas['date']==gas['market_date'], ['market_date', 'control_price']]"
   ]
  },
  {
   "cell_type": "markdown",
   "metadata": {},
   "source": [
    "Forward fill missing values."
   ]
  },
  {
   "cell_type": "code",
   "execution_count": 8,
   "metadata": {},
   "outputs": [],
   "source": [
    "gas_daily = gas_daily.sort_values(by='market_date').fillna(method='ffill')"
   ]
  },
  {
   "cell_type": "code",
   "execution_count": 9,
   "metadata": {},
   "outputs": [
    {
     "data": {
      "text/html": [
       "<div>\n",
       "<style>\n",
       "    .dataframe thead tr:only-child th {\n",
       "        text-align: right;\n",
       "    }\n",
       "\n",
       "    .dataframe thead th {\n",
       "        text-align: left;\n",
       "    }\n",
       "\n",
       "    .dataframe tbody tr th {\n",
       "        vertical-align: top;\n",
       "    }\n",
       "</style>\n",
       "<table border=\"1\" class=\"dataframe\">\n",
       "  <thead>\n",
       "    <tr style=\"text-align: right;\">\n",
       "      <th></th>\n",
       "      <th>market_date</th>\n",
       "      <th>control_price</th>\n",
       "    </tr>\n",
       "  </thead>\n",
       "  <tbody>\n",
       "    <tr>\n",
       "      <th>91</th>\n",
       "      <td>2014-01-01</td>\n",
       "      <td>27.574</td>\n",
       "    </tr>\n",
       "    <tr>\n",
       "      <th>1</th>\n",
       "      <td>2014-01-02</td>\n",
       "      <td>27.574</td>\n",
       "    </tr>\n",
       "    <tr>\n",
       "      <th>70</th>\n",
       "      <td>2014-01-03</td>\n",
       "      <td>27.574</td>\n",
       "    </tr>\n",
       "    <tr>\n",
       "      <th>34</th>\n",
       "      <td>2014-01-04</td>\n",
       "      <td>27.574</td>\n",
       "    </tr>\n",
       "    <tr>\n",
       "      <th>31</th>\n",
       "      <td>2014-01-05</td>\n",
       "      <td>27.574</td>\n",
       "    </tr>\n",
       "  </tbody>\n",
       "</table>\n",
       "</div>"
      ],
      "text/plain": [
       "   market_date  control_price\n",
       "91  2014-01-01         27.574\n",
       "1   2014-01-02         27.574\n",
       "70  2014-01-03         27.574\n",
       "34  2014-01-04         27.574\n",
       "31  2014-01-05         27.574"
      ]
     },
     "execution_count": 9,
     "metadata": {},
     "output_type": "execute_result"
    }
   ],
   "source": [
    "gas_daily.head()"
   ]
  },
  {
   "cell_type": "code",
   "execution_count": 10,
   "metadata": {
    "collapsed": true
   },
   "outputs": [],
   "source": [
    "gas_daily.to_pickle('../data/interim/gas.pkl')"
   ]
  },
  {
   "cell_type": "markdown",
   "metadata": {},
   "source": [
    "## Following Notebooks\n",
    "\n",
    "- [Merging data](1.5-Merge-Data.ipynb)\n",
    "- [Exploratory data analysis](2.0-EDA.ipynb)\n",
    "- [Feature engineering](3.0-Feature-Engineering.ipynb)\n",
    "- [More exploratory data analysis](4.0-EDA-Bis.ipynb)\n",
    "- [Predictive model](5.0-Model.ipynb)"
   ]
  }
 ],
 "metadata": {
  "kernelspec": {
   "display_name": "Python 3",
   "language": "python",
   "name": "python3"
  },
  "language_info": {
   "codemirror_mode": {
    "name": "ipython",
    "version": 3
   },
   "file_extension": ".py",
   "mimetype": "text/x-python",
   "name": "python",
   "nbconvert_exporter": "python",
   "pygments_lexer": "ipython3",
   "version": "3.6.2"
  }
 },
 "nbformat": 4,
 "nbformat_minor": 2
}
