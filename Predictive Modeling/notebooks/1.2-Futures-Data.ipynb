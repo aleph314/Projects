{
 "cells": [
  {
   "cell_type": "markdown",
   "metadata": {},
   "source": [
    "# Energy Price Prediction Project"
   ]
  },
  {
   "cell_type": "markdown",
   "metadata": {},
   "source": [
    "## Previous Notebooks\n",
    "\n",
    "- [Energy data import and cleaning](1.0-GME-Data.ipynb)\n",
    "- [Weather data import and cleaning](1.1-Weather-Data.ipynb)"
   ]
  },
  {
   "cell_type": "code",
   "execution_count": 1,
   "metadata": {
    "collapsed": true
   },
   "outputs": [],
   "source": [
    "import numpy as np\n",
    "import pandas as pd"
   ]
  },
  {
   "cell_type": "code",
   "execution_count": 2,
   "metadata": {
    "collapsed": true
   },
   "outputs": [],
   "source": [
    "from tabula import read_pdf\n",
    "import os"
   ]
  },
  {
   "cell_type": "markdown",
   "metadata": {},
   "source": [
    "## Futures Data"
   ]
  },
  {
   "cell_type": "markdown",
   "metadata": {},
   "source": [
    "The future prices of the data predicted for the stock exchange may have some relation with the actual energy price.\n",
    "\n",
    "Here I downloaded the futures from [this archive](http://www.borsaitaliana.it/borsaitaliana/statistiche/mercati/commodities/commodities.htm) and loaded them from the pdf using `tabula-py` module."
   ]
  },
  {
   "cell_type": "markdown",
   "metadata": {},
   "source": [
    "Helper function for reading futures' pdf files:"
   ]
  },
  {
   "cell_type": "code",
   "execution_count": 3,
   "metadata": {
    "collapsed": true
   },
   "outputs": [],
   "source": [
    "def read_futures_pdf(file, page):\n",
    "    '''\n",
    "    Reads futures pdf file and outputs pandas dataframe\n",
    "    '''\n",
    "    pdf = read_pdf(file, pages=page)\n",
    "    # if the dataframe read from the pdf has more than 5 columns then\n",
    "    # the first is the date, the second contains the predicted month\n",
    "    # and the third the price\n",
    "    if pdf.shape[1] >= 5:\n",
    "        pdf_filtered = pdf.loc[pdf['MONTHLY BASELOAD FUTURES'].str[0:3].isin(['Jan', 'Feb', 'Mar',\n",
    "                                                                              'Apr', 'May', 'Jun',\n",
    "                                                                              'Jul', 'Aug', 'Sep',\n",
    "                                                                              'Oct', 'Nov', 'Dec']),\n",
    "                               ['Unnamed: 0', 'MONTHLY BASELOAD FUTURES', 'Unnamed: 2']]\\\n",
    "                            .rename(columns={'Unnamed: 0': 'date',\n",
    "                                             'MONTHLY BASELOAD FUTURES':'futures_month',\n",
    "                                             'Unnamed: 2':'baseload'})\n",
    "        pdf_filtered['futures_month'] = pdf_filtered['futures_month'].str[0:8]\n",
    "    # if the dataframe read from the pdf has more than 4 columns then\n",
    "    # the first is the date and the second contains the predicted month\n",
    "    # and the price\n",
    "    elif pdf.shape[1] == 4:\n",
    "        pdf_filtered = pdf.loc[pdf['MONTHLY BASELOAD FUTURES'].str[0:3].isin(['Jan', 'Feb', 'Mar',\n",
    "                                                                              'Apr', 'May', 'Jun',\n",
    "                                                                              'Jul', 'Aug', 'Sep',\n",
    "                                                                              'Oct', 'Nov', 'Dec']),\n",
    "                               ['Unnamed: 0', 'MONTHLY BASELOAD FUTURES']]\\\n",
    "                            .rename(columns={'Unnamed: 0': 'date',\n",
    "                                             'MONTHLY BASELOAD FUTURES':'futures_month'})\n",
    "\n",
    "        pdf_filtered['baseload'] = pdf_filtered['futures_month'].apply(lambda x: x[x.rfind(' ')+1:])\n",
    "        pdf_filtered['futures_month'] = pdf_filtered['futures_month'].str[0:8]\n",
    "    # in the other cases we have something else going on\n",
    "    else:\n",
    "        print('Yet another format...')\n",
    "    return pdf_filtered"
   ]
  },
  {
   "cell_type": "markdown",
   "metadata": {},
   "source": [
    "Looping through all files in the directory and cleaning dates and price:"
   ]
  },
  {
   "cell_type": "code",
   "execution_count": 4,
   "metadata": {},
   "outputs": [
    {
     "name": "stdout",
     "output_type": "stream",
     "text": [
      "idexstat201310.pdf\n",
      "idexstat201311.pdf\n",
      "idexstat201312.pdf\n",
      "idexstat201401.pdf\n",
      "idexstat201402.pdf\n",
      "idexstat201403.pdf\n",
      "idexstat201404.pdf\n",
      "idexstat201405.pdf\n",
      "idexstat201406.pdf\n",
      "idexstat201407.pdf\n",
      "idexstat201408.pdf\n",
      "idexstat201409.pdf\n",
      "idexstat201410.pdf\n",
      "idexstat201411.pdf\n",
      "idexstat201412.pdf\n",
      "idexstat201501.pdf\n",
      "idexstat201502.pdf\n",
      "idexstat201503.pdf\n",
      "idexstat201504.pdf\n",
      "idexstat201505.pdf\n",
      "idexstat201506.pdf\n",
      "idexstat201507.pdf\n",
      "idexstat201508.pdf\n",
      "idexstat201509.pdf\n",
      "idexstat201510.pdf\n",
      "idexstat201511.pdf\n",
      "idexstat201512.pdf\n",
      "idexstat201601.pdf\n",
      "idexstat201602.pdf\n",
      "idexstat201603.pdf\n",
      "idexstat201604.pdf\n",
      "idexstat201605.pdf\n",
      "idexstat201606.pdf\n",
      "idexstat201607.pdf\n",
      "idexstat201608.pdf\n",
      "idexstat201609.pdf\n",
      "idexstat201610.pdf\n",
      "idexstat201611.pdf\n",
      "idexstat201612.pdf\n",
      "idexstat201701.pdf\n",
      "idexstat201702.pdf\n",
      "idexstat201703.pdf\n",
      "idexstat201704.pdf\n",
      "idexstat201705.pdf\n",
      "idexstat201706.pdf\n",
      "idexstat201707.pdf\n",
      "idexstat201708.pdf\n",
      "idexstat201709.pdf\n"
     ]
    }
   ],
   "source": [
    "directory = os.fsencode('../data/raw')\n",
    "futures = pd.DataFrame(columns=['date', 'futures_month', 'baseload'])\n",
    "for file in os.listdir(directory):\n",
    "    filename = os.fsdecode(file)\n",
    "    if filename.endswith('.pdf'):\n",
    "        print(filename)\n",
    "        df = read_futures_pdf('{}{}'.format('../data/raw/', filename), page=2)\n",
    "        futures = futures.append(df)"
   ]
  },
  {
   "cell_type": "code",
   "execution_count": 5,
   "metadata": {
    "collapsed": true
   },
   "outputs": [],
   "source": [
    "futures['baseload'] = pd.to_numeric(futures['baseload'].str.replace(' ',''))"
   ]
  },
  {
   "cell_type": "code",
   "execution_count": 6,
   "metadata": {
    "collapsed": true
   },
   "outputs": [],
   "source": [
    "# looking at the respective pdf file there is a 'c' instead of the actual date\n",
    "futures.loc[futures['date']=='c', 'date'] = '01/03/2017'"
   ]
  },
  {
   "cell_type": "code",
   "execution_count": 7,
   "metadata": {
    "collapsed": true
   },
   "outputs": [],
   "source": [
    "futures['date'] = pd.to_datetime(futures['date'], format='%d/%m/%Y')\n",
    "futures['futures_month'] = pd.to_datetime(futures['futures_month'], format='%b %Y')"
   ]
  },
  {
   "cell_type": "code",
   "execution_count": null,
   "metadata": {
    "collapsed": true
   },
   "outputs": [],
   "source": [
    "futures.reset_index(inplace=True, drop=True)"
   ]
  },
  {
   "cell_type": "code",
   "execution_count": 35,
   "metadata": {},
   "outputs": [
    {
     "name": "stdout",
     "output_type": "stream",
     "text": [
      "<class 'pandas.core.frame.DataFrame'>\n",
      "Int64Index: 3042 entries, 1 to 63\n",
      "Data columns (total 3 columns):\n",
      "date             3042 non-null datetime64[ns]\n",
      "futures_month    3042 non-null datetime64[ns]\n",
      "baseload         3042 non-null float64\n",
      "dtypes: datetime64[ns](2), float64(1)\n",
      "memory usage: 175.1 KB\n"
     ]
    }
   ],
   "source": [
    "futures.info()"
   ]
  },
  {
   "cell_type": "code",
   "execution_count": 21,
   "metadata": {
    "collapsed": true
   },
   "outputs": [],
   "source": [
    "futures.to_pickle('../data/interim/futures.pkl')"
   ]
  },
  {
   "cell_type": "markdown",
   "metadata": {},
   "source": [
    "## Following Notebooks\n",
    "\n",
    "- [Gas price import and cleaning](1.3-Gas-Data.ipynb)\n",
    "- [Merging data](1.5-Merge-Data.ipynb)\n",
    "- [Exploratory data analysis](2.0-EDA.ipynb)\n",
    "- [Feature engineering](3.0-Feature-Engineering.ipynb)\n",
    "- [More exploratory data analysis](4.0-EDA-Bis.ipynb)\n",
    "- [Predictive model](5.0-Model.ipynb)"
   ]
  }
 ],
 "metadata": {
  "kernelspec": {
   "display_name": "Python 3",
   "language": "python",
   "name": "python3"
  },
  "language_info": {
   "codemirror_mode": {
    "name": "ipython",
    "version": 3
   },
   "file_extension": ".py",
   "mimetype": "text/x-python",
   "name": "python",
   "nbconvert_exporter": "python",
   "pygments_lexer": "ipython3",
   "version": "3.6.2"
  }
 },
 "nbformat": 4,
 "nbformat_minor": 2
}
