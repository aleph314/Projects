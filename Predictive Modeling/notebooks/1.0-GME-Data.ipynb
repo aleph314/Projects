{
 "cells": [
  {
   "cell_type": "markdown",
   "metadata": {},
   "source": [
    "# Energy Price Prediction Project"
   ]
  },
  {
   "cell_type": "markdown",
   "metadata": {},
   "source": [
    "[Energy market in Italy](https://en.wikipedia.org/wiki/Italian_Power_Exchange) takes place every day in order to determine the energy price (**PUN**) for the subsequent day.\n",
    "\n",
    "The PUN is determined as the balance between the supply and demand subject to some conditions on the transit of energy between different zones of Italy and between Italy and neighboring countries.\n",
    "\n",
    "The aim of this project is to predict the energy price starting from the publicly available data on the [energy market's managing institution (GME)](http://www.mercatoelettrico.org/It/default.aspx). Reliable price predictions are very useful to energy producers for two reasons\n",
    "\n",
    "1. it allows them to sell their energy at the best possible price and\n",
    "2. it avoids for them not to succeed in the selling, incurring in the possibility of having to dissipate their energy with all the related costs."
   ]
  },
  {
   "cell_type": "code",
   "execution_count": 1,
   "metadata": {
    "collapsed": true
   },
   "outputs": [],
   "source": [
    "import numpy as np\n",
    "import pandas as pd"
   ]
  },
  {
   "cell_type": "code",
   "execution_count": 2,
   "metadata": {
    "collapsed": true
   },
   "outputs": [],
   "source": [
    "import xml.etree.ElementTree\n",
    "import zipfile\n",
    "import os\n",
    "import datetime"
   ]
  },
  {
   "cell_type": "markdown",
   "metadata": {},
   "source": [
    "Some helper functions to read the xml files in which I have the data, loop through the zip files in which they are compressed and through the various zip files in the data folder:"
   ]
  },
  {
   "cell_type": "code",
   "execution_count": 3,
   "metadata": {
    "collapsed": true
   },
   "outputs": [],
   "source": [
    "def import_xml_file(file, row_names, cols):\n",
    "    '''\n",
    "    Reads xml file and outputs list of data\n",
    "    Inputs:\n",
    "        file -> file name\n",
    "        row_names -> list of rows tags identifier\n",
    "        cols -> list of columns tags identifier\n",
    "    '''\n",
    "    data = xml.etree.ElementTree.parse(file).getroot()\n",
    "    all_data = []\n",
    "    for row_name in row_names:\n",
    "        for row_data in data.findall(row_name):\n",
    "            row = []\n",
    "            for col in cols:\n",
    "                col_data = row_data.find(col).text\n",
    "                row.append(col_data)\n",
    "            all_data.append(row)\n",
    "    \n",
    "    return all_data\n",
    "\n",
    "def import_xml_zip_file(folder, zip_file, row_names, cols, out_cols):\n",
    "    '''\n",
    "    Loops through xml files in zip archive and outputs a pandas dataframe with all xml files data\n",
    "    Uses import_xml_file\n",
    "    Inputs:\n",
    "        folder -> zip file folder\n",
    "        zip_file -> zip file name\n",
    "        row_names -> list of rows tags identifier\n",
    "        cols -> list of columns tags identifier\n",
    "        out_cols -> columns names for the pandas dataframe\n",
    "    '''\n",
    "    with zipfile.ZipFile('{}/{}'.format(folder, zip_file)) as z:\n",
    "        all_data = []\n",
    "        for file in z.namelist():\n",
    "            f = z.open(file)\n",
    "            file_data = import_xml_file(f, row_names, cols)\n",
    "            all_data = all_data + file_data\n",
    "    \n",
    "    xml_df = pd.DataFrame(all_data, columns=out_cols)\n",
    "    return xml_df\n",
    "\n",
    "def import_xml_from_folder(folder, file_name_path, row_names, cols, out_cols, int_cols, num_cols, date_cols):\n",
    "    '''\n",
    "    Loops through all zip archives in a folder and outputs a pandas dataframe with all the zipped data\n",
    "    Uses import_xml_zip_file\n",
    "    Inputs:\n",
    "        folder -> zip file folder\n",
    "        file_name_path -> start of files name to search for\n",
    "        row_names -> list of rows tags identifier\n",
    "        cols -> list of columns tags identifier\n",
    "        out_cols -> columns names for the pandas dataframe\n",
    "        int_cols -> list of columns to convert to int\n",
    "        num_cols -> list of columns to convert to numeric\n",
    "        date_cols -> list of columns to convert to date\n",
    "    '''\n",
    "    directory = os.fsencode(folder)\n",
    "    out_df = pd.DataFrame(columns=out_cols)\n",
    "    for file in os.listdir(directory):\n",
    "        filename = os.fsdecode(file)\n",
    "        if filename.startswith(file_name_path) and (filename.endswith('.zip') or filename.endswith('.7z')):\n",
    "            df = import_xml_zip_file(folder, filename, row_names, cols, out_cols)\n",
    "            out_df = out_df.append(df)\n",
    "    \n",
    "    for col in int_cols:\n",
    "        out_df[col] = pd.to_numeric(out_df[col])\n",
    "    for col in num_cols:\n",
    "        out_df[col] = out_df[col].apply(lambda x: x.replace(',', '.'))\n",
    "        out_df[col] = pd.to_numeric(out_df[col])\n",
    "    for col in date_cols:\n",
    "        out_df[col] = pd.to_datetime(out_df[col])\n",
    "    \n",
    "    return out_df.reset_index(drop=True)"
   ]
  },
  {
   "cell_type": "markdown",
   "metadata": {},
   "source": [
    "Import the data.\n",
    "\n",
    "- Prices data: one row per day and hour, PUN is the national price of energy and the variable to predict.\n",
    "- Demand data: estimates of the energy need for each zone in Italy and for the whole country; again there is one row per day and hour.\n",
    "- Transit data: limits of energy exchange between neighboring zones in Italy and between Italy and neighboring countries, these limits condition the energy price. This dataset has one row per day, hour, zone of origin and zone of destination."
   ]
  },
  {
   "cell_type": "code",
   "execution_count": 4,
   "metadata": {
    "collapsed": true
   },
   "outputs": [],
   "source": [
    "pun = import_xml_from_folder(folder='../data/raw',\n",
    "                             file_name_path='MGP_Prezzi',\n",
    "                             row_names=['Prezzi'],\n",
    "                             cols=['Data', 'Ora', 'Mercato', 'PUN'],\n",
    "                             out_cols=['date', 'hour', 'market', 'pun'],\n",
    "                             int_cols=['hour'],\n",
    "                             num_cols=['pun'],\n",
    "                             date_cols=['date'])\n",
    "demand = import_xml_from_folder(folder='../data/raw',\n",
    "                                file_name_path='MGP_StimeFabbisogno',\n",
    "                                row_names=['Fabbisogno', 'StimeFabbisogno', 'stimeFabbisogno', 'marketintervaldetail'],\n",
    "                                cols=['Data', 'Ora', 'Mercato', 'Totale', 'CNOR', 'CSUD', 'NORD', 'SARD', 'SICI', 'SUD'],\n",
    "                                out_cols=['date', 'hour', 'market', 'italy', 'cnorth', 'csouth', 'north', 'sardinia', 'sicily', 'south'],\n",
    "                                int_cols=['hour'],\n",
    "                                num_cols=['italy', 'cnorth', 'csouth', 'north', 'sardinia', 'sicily', 'south'],\n",
    "                                date_cols=['date'])\n",
    "transit_limit = import_xml_from_folder(folder='../data/raw',\n",
    "                                       file_name_path='MGP_LimitiTransito',\n",
    "                                       row_names=['LimitiTransito'],\n",
    "                                       cols=['Data', 'Ora', 'Mercato', 'Da', 'A', 'Limite', 'Coefficiente'],\n",
    "                                       out_cols=['date', 'hour', 'market', 'zone_from', 'zone_to', 'limit', 'coefficient'],\n",
    "                                       int_cols=['hour'],\n",
    "                                       num_cols=['limit', 'coefficient'],\n",
    "                                       date_cols=['date'])"
   ]
  },
  {
   "cell_type": "code",
   "execution_count": 5,
   "metadata": {},
   "outputs": [
    {
     "data": {
      "text/html": [
       "<div>\n",
       "<style>\n",
       "    .dataframe thead tr:only-child th {\n",
       "        text-align: right;\n",
       "    }\n",
       "\n",
       "    .dataframe thead th {\n",
       "        text-align: left;\n",
       "    }\n",
       "\n",
       "    .dataframe tbody tr th {\n",
       "        vertical-align: top;\n",
       "    }\n",
       "</style>\n",
       "<table border=\"1\" class=\"dataframe\">\n",
       "  <thead>\n",
       "    <tr style=\"text-align: right;\">\n",
       "      <th></th>\n",
       "      <th>date</th>\n",
       "      <th>hour</th>\n",
       "      <th>market</th>\n",
       "      <th>pun</th>\n",
       "    </tr>\n",
       "  </thead>\n",
       "  <tbody>\n",
       "    <tr>\n",
       "      <th>0</th>\n",
       "      <td>2014-01-17</td>\n",
       "      <td>1</td>\n",
       "      <td>MGP</td>\n",
       "      <td>50.393484</td>\n",
       "    </tr>\n",
       "    <tr>\n",
       "      <th>1</th>\n",
       "      <td>2014-01-17</td>\n",
       "      <td>2</td>\n",
       "      <td>MGP</td>\n",
       "      <td>45.700000</td>\n",
       "    </tr>\n",
       "    <tr>\n",
       "      <th>2</th>\n",
       "      <td>2014-01-17</td>\n",
       "      <td>3</td>\n",
       "      <td>MGP</td>\n",
       "      <td>41.973579</td>\n",
       "    </tr>\n",
       "    <tr>\n",
       "      <th>3</th>\n",
       "      <td>2014-01-17</td>\n",
       "      <td>4</td>\n",
       "      <td>MGP</td>\n",
       "      <td>40.261427</td>\n",
       "    </tr>\n",
       "    <tr>\n",
       "      <th>4</th>\n",
       "      <td>2014-01-17</td>\n",
       "      <td>5</td>\n",
       "      <td>MGP</td>\n",
       "      <td>40.103296</td>\n",
       "    </tr>\n",
       "  </tbody>\n",
       "</table>\n",
       "</div>"
      ],
      "text/plain": [
       "        date  hour market        pun\n",
       "0 2014-01-17     1    MGP  50.393484\n",
       "1 2014-01-17     2    MGP  45.700000\n",
       "2 2014-01-17     3    MGP  41.973579\n",
       "3 2014-01-17     4    MGP  40.261427\n",
       "4 2014-01-17     5    MGP  40.103296"
      ]
     },
     "execution_count": 5,
     "metadata": {},
     "output_type": "execute_result"
    }
   ],
   "source": [
    "pun.head()"
   ]
  },
  {
   "cell_type": "code",
   "execution_count": 6,
   "metadata": {},
   "outputs": [
    {
     "data": {
      "text/html": [
       "<div>\n",
       "<style>\n",
       "    .dataframe thead tr:only-child th {\n",
       "        text-align: right;\n",
       "    }\n",
       "\n",
       "    .dataframe thead th {\n",
       "        text-align: left;\n",
       "    }\n",
       "\n",
       "    .dataframe tbody tr th {\n",
       "        vertical-align: top;\n",
       "    }\n",
       "</style>\n",
       "<table border=\"1\" class=\"dataframe\">\n",
       "  <thead>\n",
       "    <tr style=\"text-align: right;\">\n",
       "      <th></th>\n",
       "      <th>date</th>\n",
       "      <th>hour</th>\n",
       "      <th>market</th>\n",
       "      <th>italy</th>\n",
       "      <th>cnorth</th>\n",
       "      <th>csouth</th>\n",
       "      <th>north</th>\n",
       "      <th>sardinia</th>\n",
       "      <th>sicily</th>\n",
       "      <th>south</th>\n",
       "    </tr>\n",
       "  </thead>\n",
       "  <tbody>\n",
       "    <tr>\n",
       "      <th>0</th>\n",
       "      <td>2014-01-17</td>\n",
       "      <td>1</td>\n",
       "      <td>MGP</td>\n",
       "      <td>28430</td>\n",
       "      <td>3174</td>\n",
       "      <td>4275</td>\n",
       "      <td>15963</td>\n",
       "      <td>818</td>\n",
       "      <td>1775</td>\n",
       "      <td>2425</td>\n",
       "    </tr>\n",
       "    <tr>\n",
       "      <th>1</th>\n",
       "      <td>2014-01-17</td>\n",
       "      <td>2</td>\n",
       "      <td>MGP</td>\n",
       "      <td>26631</td>\n",
       "      <td>2966</td>\n",
       "      <td>3909</td>\n",
       "      <td>15145</td>\n",
       "      <td>756</td>\n",
       "      <td>1646</td>\n",
       "      <td>2209</td>\n",
       "    </tr>\n",
       "    <tr>\n",
       "      <th>2</th>\n",
       "      <td>2014-01-17</td>\n",
       "      <td>3</td>\n",
       "      <td>MGP</td>\n",
       "      <td>25711</td>\n",
       "      <td>2732</td>\n",
       "      <td>3727</td>\n",
       "      <td>14865</td>\n",
       "      <td>727</td>\n",
       "      <td>1570</td>\n",
       "      <td>2090</td>\n",
       "    </tr>\n",
       "    <tr>\n",
       "      <th>3</th>\n",
       "      <td>2014-01-17</td>\n",
       "      <td>4</td>\n",
       "      <td>MGP</td>\n",
       "      <td>25468</td>\n",
       "      <td>2688</td>\n",
       "      <td>3655</td>\n",
       "      <td>14830</td>\n",
       "      <td>719</td>\n",
       "      <td>1531</td>\n",
       "      <td>2045</td>\n",
       "    </tr>\n",
       "    <tr>\n",
       "      <th>4</th>\n",
       "      <td>2014-01-17</td>\n",
       "      <td>5</td>\n",
       "      <td>MGP</td>\n",
       "      <td>25725</td>\n",
       "      <td>2715</td>\n",
       "      <td>3660</td>\n",
       "      <td>15024</td>\n",
       "      <td>727</td>\n",
       "      <td>1518</td>\n",
       "      <td>2081</td>\n",
       "    </tr>\n",
       "  </tbody>\n",
       "</table>\n",
       "</div>"
      ],
      "text/plain": [
       "        date  hour market  italy  cnorth  csouth  north  sardinia  sicily  \\\n",
       "0 2014-01-17     1    MGP  28430    3174    4275  15963       818    1775   \n",
       "1 2014-01-17     2    MGP  26631    2966    3909  15145       756    1646   \n",
       "2 2014-01-17     3    MGP  25711    2732    3727  14865       727    1570   \n",
       "3 2014-01-17     4    MGP  25468    2688    3655  14830       719    1531   \n",
       "4 2014-01-17     5    MGP  25725    2715    3660  15024       727    1518   \n",
       "\n",
       "   south  \n",
       "0   2425  \n",
       "1   2209  \n",
       "2   2090  \n",
       "3   2045  \n",
       "4   2081  "
      ]
     },
     "execution_count": 6,
     "metadata": {},
     "output_type": "execute_result"
    }
   ],
   "source": [
    "demand.head()"
   ]
  },
  {
   "cell_type": "code",
   "execution_count": 7,
   "metadata": {},
   "outputs": [
    {
     "data": {
      "text/html": [
       "<div>\n",
       "<style>\n",
       "    .dataframe thead tr:only-child th {\n",
       "        text-align: right;\n",
       "    }\n",
       "\n",
       "    .dataframe thead th {\n",
       "        text-align: left;\n",
       "    }\n",
       "\n",
       "    .dataframe tbody tr th {\n",
       "        vertical-align: top;\n",
       "    }\n",
       "</style>\n",
       "<table border=\"1\" class=\"dataframe\">\n",
       "  <thead>\n",
       "    <tr style=\"text-align: right;\">\n",
       "      <th></th>\n",
       "      <th>date</th>\n",
       "      <th>hour</th>\n",
       "      <th>market</th>\n",
       "      <th>zone_from</th>\n",
       "      <th>zone_to</th>\n",
       "      <th>limit</th>\n",
       "      <th>coefficient</th>\n",
       "    </tr>\n",
       "  </thead>\n",
       "  <tbody>\n",
       "    <tr>\n",
       "      <th>0</th>\n",
       "      <td>2014-01-26</td>\n",
       "      <td>1</td>\n",
       "      <td>MGP</td>\n",
       "      <td>AUST</td>\n",
       "      <td>NORD</td>\n",
       "      <td>10000.0</td>\n",
       "      <td>1.0</td>\n",
       "    </tr>\n",
       "    <tr>\n",
       "      <th>1</th>\n",
       "      <td>2014-01-26</td>\n",
       "      <td>2</td>\n",
       "      <td>MGP</td>\n",
       "      <td>AUST</td>\n",
       "      <td>NORD</td>\n",
       "      <td>10000.0</td>\n",
       "      <td>1.0</td>\n",
       "    </tr>\n",
       "    <tr>\n",
       "      <th>2</th>\n",
       "      <td>2014-01-26</td>\n",
       "      <td>3</td>\n",
       "      <td>MGP</td>\n",
       "      <td>AUST</td>\n",
       "      <td>NORD</td>\n",
       "      <td>10000.0</td>\n",
       "      <td>1.0</td>\n",
       "    </tr>\n",
       "    <tr>\n",
       "      <th>3</th>\n",
       "      <td>2014-01-26</td>\n",
       "      <td>4</td>\n",
       "      <td>MGP</td>\n",
       "      <td>AUST</td>\n",
       "      <td>NORD</td>\n",
       "      <td>10000.0</td>\n",
       "      <td>1.0</td>\n",
       "    </tr>\n",
       "    <tr>\n",
       "      <th>4</th>\n",
       "      <td>2014-01-26</td>\n",
       "      <td>5</td>\n",
       "      <td>MGP</td>\n",
       "      <td>AUST</td>\n",
       "      <td>NORD</td>\n",
       "      <td>10000.0</td>\n",
       "      <td>1.0</td>\n",
       "    </tr>\n",
       "  </tbody>\n",
       "</table>\n",
       "</div>"
      ],
      "text/plain": [
       "        date  hour market zone_from zone_to    limit  coefficient\n",
       "0 2014-01-26     1    MGP      AUST    NORD  10000.0          1.0\n",
       "1 2014-01-26     2    MGP      AUST    NORD  10000.0          1.0\n",
       "2 2014-01-26     3    MGP      AUST    NORD  10000.0          1.0\n",
       "3 2014-01-26     4    MGP      AUST    NORD  10000.0          1.0\n",
       "4 2014-01-26     5    MGP      AUST    NORD  10000.0          1.0"
      ]
     },
     "execution_count": 7,
     "metadata": {},
     "output_type": "execute_result"
    }
   ],
   "source": [
    "transit_limit.head()"
   ]
  },
  {
   "cell_type": "markdown",
   "metadata": {},
   "source": [
    "I want the transit data to have the structure of one row per day and hour, so I add a feature for each pair of zones of origin and destination."
   ]
  },
  {
   "cell_type": "code",
   "execution_count": 8,
   "metadata": {
    "collapsed": true
   },
   "outputs": [],
   "source": [
    "transit_limit['from_to'] = transit_limit['zone_from'] + '-' + transit_limit['zone_to']"
   ]
  },
  {
   "cell_type": "code",
   "execution_count": 9,
   "metadata": {
    "collapsed": true
   },
   "outputs": [],
   "source": [
    "transit_limit = transit_limit.pivot_table(index=['date', 'hour'], columns='from_to', values='limit').reset_index()"
   ]
  },
  {
   "cell_type": "code",
   "execution_count": 10,
   "metadata": {},
   "outputs": [
    {
     "name": "stdout",
     "output_type": "stream",
     "text": [
      "(33600, 4)\n",
      "(33600, 10)\n",
      "(33600, 46)\n"
     ]
    }
   ],
   "source": [
    "print(pun.shape)\n",
    "print(demand.shape)\n",
    "print(transit_limit.shape)"
   ]
  },
  {
   "cell_type": "code",
   "execution_count": 11,
   "metadata": {},
   "outputs": [
    {
     "name": "stdout",
     "output_type": "stream",
     "text": [
      "2014-01-01 00:00:00 2017-10-31 00:00:00\n",
      "2014-01-01 00:00:00 2017-10-31 00:00:00\n",
      "2014-01-01 00:00:00 2017-10-31 00:00:00\n"
     ]
    }
   ],
   "source": [
    "print(pun['date'].min(), pun['date'].max())\n",
    "print(demand['date'].min(), demand['date'].max())\n",
    "print(transit_limit['date'].min(), transit_limit['date'].max())"
   ]
  },
  {
   "cell_type": "markdown",
   "metadata": {},
   "source": [
    "Finally, I merge all the dataset on the date and hour columns."
   ]
  },
  {
   "cell_type": "code",
   "execution_count": 12,
   "metadata": {
    "collapsed": true
   },
   "outputs": [],
   "source": [
    "market = pd.merge(left=pun, right=demand, how='inner', left_on=['date', 'hour'], right_on=['date', 'hour']).drop(['market_x', 'market_y'], axis=1)\n",
    "market = pd.merge(left=market, right=transit_limit, how='inner', left_on=['date', 'hour'], right_on=['date', 'hour'])\n",
    "market.to_pickle('../data/interim/market.pkl')"
   ]
  },
  {
   "cell_type": "markdown",
   "metadata": {},
   "source": [
    "## Following Notebooks\n",
    "\n",
    "- [Weather data import and cleaning](1.1-Weather-Data.ipynb)\n",
    "- [Energy price futures import and cleaning](1.2-Futures-Data.ipynb)\n",
    "- [Gas price import and cleaning](1.3-Gas-Data.ipynb)\n",
    "- [Merging data](1.5-Merge-Data.ipynb)\n",
    "- [Exploratory data analysis](2.0-EDA.ipynb)\n",
    "- [Feature engineering](3.0-Feature-Engineering.ipynb)\n",
    "- [More exploratory data analysis](4.0-EDA-Bis.ipynb)\n",
    "- [Predictive model](5.0-Model.ipynb)"
   ]
  }
 ],
 "metadata": {
  "kernelspec": {
   "display_name": "Python 3",
   "language": "python",
   "name": "python3"
  },
  "language_info": {
   "codemirror_mode": {
    "name": "ipython",
    "version": 3
   },
   "file_extension": ".py",
   "mimetype": "text/x-python",
   "name": "python",
   "nbconvert_exporter": "python",
   "pygments_lexer": "ipython3",
   "version": "3.6.2"
  }
 },
 "nbformat": 4,
 "nbformat_minor": 2
}
