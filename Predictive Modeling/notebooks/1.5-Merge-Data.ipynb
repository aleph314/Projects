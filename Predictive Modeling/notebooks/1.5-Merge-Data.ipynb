{
 "cells": [
  {
   "cell_type": "markdown",
   "metadata": {},
   "source": [
    "# Energy Price Prediction Project"
   ]
  },
  {
   "cell_type": "markdown",
   "metadata": {},
   "source": [
    "## Previous Notebooks\n",
    "\n",
    "- [Energy data import and cleaning](1.0-GME-Data.ipynb)\n",
    "- [Weather data import and cleaning](1.1-Weather-Data.ipynb)\n",
    "- [Energy price futures import and cleaning](1.2-Futures-Data.ipynb)\n",
    "- [Gas price import and cleaning](1.3-Gas-Data.ipynb)"
   ]
  },
  {
   "cell_type": "code",
   "execution_count": 1,
   "metadata": {
    "collapsed": true
   },
   "outputs": [],
   "source": [
    "import numpy as np\n",
    "import pandas as pd"
   ]
  },
  {
   "cell_type": "markdown",
   "metadata": {},
   "source": [
    "Loading pickles and merging them in one dataset:"
   ]
  },
  {
   "cell_type": "code",
   "execution_count": 2,
   "metadata": {
    "collapsed": true
   },
   "outputs": [],
   "source": [
    "market = pd.read_pickle('../data/interim/market.pkl')\n",
    "weather = pd.read_pickle('../data/interim/weather.pkl')\n",
    "# futures = pd.read_pickle('../data/interim/futures.pkl') # I'm not using this for the moment being\n",
    "gas = pd.read_pickle('../data/interim/gas.pkl')"
   ]
  },
  {
   "cell_type": "code",
   "execution_count": 3,
   "metadata": {
    "collapsed": true
   },
   "outputs": [],
   "source": [
    "# today I get weather data till yesterday, so I have to join pun date with yesterday's weather date\n",
    "energy = market.merge(weather.shift(periods=1, freq='d'), left_on='date', right_index=True, how='left')"
   ]
  },
  {
   "cell_type": "code",
   "execution_count": 4,
   "metadata": {
    "collapsed": true
   },
   "outputs": [],
   "source": [
    "energy = energy.merge(gas, left_on='date', right_on='market_date', how='left')\\\n",
    "                .drop('market_date', axis=1)\\\n",
    "                .rename(columns={'control_price':'gas_price'})"
   ]
  },
  {
   "cell_type": "code",
   "execution_count": 5,
   "metadata": {},
   "outputs": [
    {
     "name": "stdout",
     "output_type": "stream",
     "text": [
      "<class 'pandas.core.frame.DataFrame'>\n",
      "Int64Index: 33600 entries, 0 to 33599\n",
      "Data columns (total 61 columns):\n",
      "date         33600 non-null datetime64[ns]\n",
      "hour         33600 non-null int64\n",
      "pun          33600 non-null float64\n",
      "italy        33600 non-null int64\n",
      "cnorth       33600 non-null int64\n",
      "csouth       33600 non-null int64\n",
      "north        33600 non-null int64\n",
      "sardinia     33600 non-null int64\n",
      "sicily       33600 non-null int64\n",
      "south        33600 non-null int64\n",
      "AUST-NORD    33600 non-null float64\n",
      "AUST-XAUS    23856 non-null float64\n",
      "BRNN-GREC    33600 non-null float64\n",
      "BRNN-SUD     33600 non-null float64\n",
      "BSP-SLOV     33600 non-null float64\n",
      "CNOR-CORS    33600 non-null float64\n",
      "CNOR-CSUD    33600 non-null float64\n",
      "CNOR-NORD    33600 non-null float64\n",
      "COAC-SARD    33600 non-null float64\n",
      "CORS-CNOR    33600 non-null float64\n",
      "CORS-SARD    33600 non-null float64\n",
      "CSUD-CNOR    33600 non-null float64\n",
      "CSUD-SARD    33600 non-null float64\n",
      "CSUD-SUD     33600 non-null float64\n",
      "FOGN-SUD     33600 non-null float64\n",
      "FRAN-NORD    33600 non-null float64\n",
      "FRAN-XFRA    23856 non-null float64\n",
      "GREC-BRNN    33600 non-null float64\n",
      "MALT-SICI    23856 non-null float64\n",
      "MFTV-NORD    33600 non-null float64\n",
      "NORD-AUST    33600 non-null float64\n",
      "NORD-CNOR    33600 non-null float64\n",
      "NORD-FRAN    33600 non-null float64\n",
      "NORD-MFTV    33600 non-null float64\n",
      "NORD-SLOV    33600 non-null float64\n",
      "NORD-SVIZ    33600 non-null float64\n",
      "PRGP-SICI    33600 non-null float64\n",
      "ROSN-SICI    33600 non-null float64\n",
      "ROSN-SUD     33600 non-null float64\n",
      "SARD-COAC    33600 non-null float64\n",
      "SARD-CORS    33600 non-null float64\n",
      "SARD-CSUD    33600 non-null float64\n",
      "SICI-MALT    23856 non-null float64\n",
      "SICI-PRGP    33600 non-null float64\n",
      "SICI-ROSN    33600 non-null float64\n",
      "SLOV-BSP     33600 non-null float64\n",
      "SLOV-NORD    33600 non-null float64\n",
      "SUD-BRNN     33600 non-null float64\n",
      "SUD-CSUD     33600 non-null float64\n",
      "SUD-FOGN     33600 non-null float64\n",
      "SUD-ROSN     33600 non-null float64\n",
      "SVIZ-NORD    33600 non-null float64\n",
      "XAUS-AUST    23856 non-null float64\n",
      "XFRA-FRAN    23856 non-null float64\n",
      "hdd_liml     26280 non-null float64\n",
      "hdd_lira     26280 non-null float64\n",
      "hdd_lirn     26280 non-null float64\n",
      "cdd_liml     26280 non-null float64\n",
      "cdd_lira     26280 non-null float64\n",
      "cdd_lirn     26280 non-null float64\n",
      "gas_price    33600 non-null float64\n",
      "dtypes: datetime64[ns](1), float64(52), int64(8)\n",
      "memory usage: 15.9 MB\n"
     ]
    }
   ],
   "source": [
    "energy.info()"
   ]
  },
  {
   "cell_type": "code",
   "execution_count": 6,
   "metadata": {},
   "outputs": [
    {
     "data": {
      "text/html": [
       "<div>\n",
       "<style>\n",
       "    .dataframe thead tr:only-child th {\n",
       "        text-align: right;\n",
       "    }\n",
       "\n",
       "    .dataframe thead th {\n",
       "        text-align: left;\n",
       "    }\n",
       "\n",
       "    .dataframe tbody tr th {\n",
       "        vertical-align: top;\n",
       "    }\n",
       "</style>\n",
       "<table border=\"1\" class=\"dataframe\">\n",
       "  <thead>\n",
       "    <tr style=\"text-align: right;\">\n",
       "      <th></th>\n",
       "      <th>date</th>\n",
       "      <th>hour</th>\n",
       "      <th>pun</th>\n",
       "      <th>italy</th>\n",
       "      <th>cnorth</th>\n",
       "      <th>csouth</th>\n",
       "      <th>north</th>\n",
       "      <th>sardinia</th>\n",
       "      <th>sicily</th>\n",
       "      <th>south</th>\n",
       "      <th>...</th>\n",
       "      <th>SVIZ-NORD</th>\n",
       "      <th>XAUS-AUST</th>\n",
       "      <th>XFRA-FRAN</th>\n",
       "      <th>hdd_liml</th>\n",
       "      <th>hdd_lira</th>\n",
       "      <th>hdd_lirn</th>\n",
       "      <th>cdd_liml</th>\n",
       "      <th>cdd_lira</th>\n",
       "      <th>cdd_lirn</th>\n",
       "      <th>gas_price</th>\n",
       "    </tr>\n",
       "  </thead>\n",
       "  <tbody>\n",
       "    <tr>\n",
       "      <th>33595</th>\n",
       "      <td>2017-10-14</td>\n",
       "      <td>20</td>\n",
       "      <td>65.51901</td>\n",
       "      <td>34858</td>\n",
       "      <td>3872</td>\n",
       "      <td>5843</td>\n",
       "      <td>18188</td>\n",
       "      <td>1068</td>\n",
       "      <td>2304</td>\n",
       "      <td>3583</td>\n",
       "      <td>...</td>\n",
       "      <td>10000.0</td>\n",
       "      <td>276.0</td>\n",
       "      <td>3321.0</td>\n",
       "      <td>1.5</td>\n",
       "      <td>1.0</td>\n",
       "      <td>0.6</td>\n",
       "      <td>1.0</td>\n",
       "      <td>1.3</td>\n",
       "      <td>1.8</td>\n",
       "      <td>19.29</td>\n",
       "    </tr>\n",
       "    <tr>\n",
       "      <th>33596</th>\n",
       "      <td>2017-10-14</td>\n",
       "      <td>21</td>\n",
       "      <td>57.52219</td>\n",
       "      <td>32855</td>\n",
       "      <td>3678</td>\n",
       "      <td>5505</td>\n",
       "      <td>16994</td>\n",
       "      <td>1034</td>\n",
       "      <td>2232</td>\n",
       "      <td>3412</td>\n",
       "      <td>...</td>\n",
       "      <td>10000.0</td>\n",
       "      <td>276.0</td>\n",
       "      <td>3321.0</td>\n",
       "      <td>1.5</td>\n",
       "      <td>1.0</td>\n",
       "      <td>0.6</td>\n",
       "      <td>1.0</td>\n",
       "      <td>1.3</td>\n",
       "      <td>1.8</td>\n",
       "      <td>19.29</td>\n",
       "    </tr>\n",
       "    <tr>\n",
       "      <th>33597</th>\n",
       "      <td>2017-10-14</td>\n",
       "      <td>22</td>\n",
       "      <td>51.64213</td>\n",
       "      <td>30160</td>\n",
       "      <td>3349</td>\n",
       "      <td>5040</td>\n",
       "      <td>15773</td>\n",
       "      <td>959</td>\n",
       "      <td>2043</td>\n",
       "      <td>2996</td>\n",
       "      <td>...</td>\n",
       "      <td>10000.0</td>\n",
       "      <td>276.0</td>\n",
       "      <td>3205.0</td>\n",
       "      <td>1.5</td>\n",
       "      <td>1.0</td>\n",
       "      <td>0.6</td>\n",
       "      <td>1.0</td>\n",
       "      <td>1.3</td>\n",
       "      <td>1.8</td>\n",
       "      <td>19.29</td>\n",
       "    </tr>\n",
       "    <tr>\n",
       "      <th>33598</th>\n",
       "      <td>2017-10-14</td>\n",
       "      <td>23</td>\n",
       "      <td>49.99348</td>\n",
       "      <td>27857</td>\n",
       "      <td>2964</td>\n",
       "      <td>4651</td>\n",
       "      <td>14741</td>\n",
       "      <td>894</td>\n",
       "      <td>1893</td>\n",
       "      <td>2714</td>\n",
       "      <td>...</td>\n",
       "      <td>10000.0</td>\n",
       "      <td>276.0</td>\n",
       "      <td>3205.0</td>\n",
       "      <td>1.5</td>\n",
       "      <td>1.0</td>\n",
       "      <td>0.6</td>\n",
       "      <td>1.0</td>\n",
       "      <td>1.3</td>\n",
       "      <td>1.8</td>\n",
       "      <td>19.29</td>\n",
       "    </tr>\n",
       "    <tr>\n",
       "      <th>33599</th>\n",
       "      <td>2017-10-14</td>\n",
       "      <td>24</td>\n",
       "      <td>46.80189</td>\n",
       "      <td>25891</td>\n",
       "      <td>2795</td>\n",
       "      <td>4236</td>\n",
       "      <td>13739</td>\n",
       "      <td>846</td>\n",
       "      <td>1734</td>\n",
       "      <td>2541</td>\n",
       "      <td>...</td>\n",
       "      <td>10000.0</td>\n",
       "      <td>256.0</td>\n",
       "      <td>3057.0</td>\n",
       "      <td>1.5</td>\n",
       "      <td>1.0</td>\n",
       "      <td>0.6</td>\n",
       "      <td>1.0</td>\n",
       "      <td>1.3</td>\n",
       "      <td>1.8</td>\n",
       "      <td>19.29</td>\n",
       "    </tr>\n",
       "  </tbody>\n",
       "</table>\n",
       "<p>5 rows × 61 columns</p>\n",
       "</div>"
      ],
      "text/plain": [
       "            date  hour       pun  italy  cnorth  csouth  north  sardinia  \\\n",
       "33595 2017-10-14    20  65.51901  34858    3872    5843  18188      1068   \n",
       "33596 2017-10-14    21  57.52219  32855    3678    5505  16994      1034   \n",
       "33597 2017-10-14    22  51.64213  30160    3349    5040  15773       959   \n",
       "33598 2017-10-14    23  49.99348  27857    2964    4651  14741       894   \n",
       "33599 2017-10-14    24  46.80189  25891    2795    4236  13739       846   \n",
       "\n",
       "       sicily  south    ...      SVIZ-NORD  XAUS-AUST  XFRA-FRAN  hdd_liml  \\\n",
       "33595    2304   3583    ...        10000.0      276.0     3321.0       1.5   \n",
       "33596    2232   3412    ...        10000.0      276.0     3321.0       1.5   \n",
       "33597    2043   2996    ...        10000.0      276.0     3205.0       1.5   \n",
       "33598    1893   2714    ...        10000.0      276.0     3205.0       1.5   \n",
       "33599    1734   2541    ...        10000.0      256.0     3057.0       1.5   \n",
       "\n",
       "       hdd_lira  hdd_lirn  cdd_liml  cdd_lira  cdd_lirn  gas_price  \n",
       "33595       1.0       0.6       1.0       1.3       1.8      19.29  \n",
       "33596       1.0       0.6       1.0       1.3       1.8      19.29  \n",
       "33597       1.0       0.6       1.0       1.3       1.8      19.29  \n",
       "33598       1.0       0.6       1.0       1.3       1.8      19.29  \n",
       "33599       1.0       0.6       1.0       1.3       1.8      19.29  \n",
       "\n",
       "[5 rows x 61 columns]"
      ]
     },
     "execution_count": 6,
     "metadata": {},
     "output_type": "execute_result"
    }
   ],
   "source": [
    "energy.tail()"
   ]
  },
  {
   "cell_type": "code",
   "execution_count": 7,
   "metadata": {
    "collapsed": true
   },
   "outputs": [],
   "source": [
    "energy.to_pickle('../data/interim/energy.pkl')"
   ]
  },
  {
   "cell_type": "markdown",
   "metadata": {},
   "source": [
    "## Following Notebooks\n",
    "\n",
    "- [Exploratory data analysis](2.0-EDA.ipynb)\n",
    "- [Feature engineering](3.0-Feature-Engineering.ipynb)\n",
    "- [More exploratory data analysis](4.0-EDA-Bis.ipynb)\n",
    "- [Predictive model](5.0-Model.ipynb)"
   ]
  }
 ],
 "metadata": {
  "kernelspec": {
   "display_name": "Python 3",
   "language": "python",
   "name": "python3"
  },
  "language_info": {
   "codemirror_mode": {
    "name": "ipython",
    "version": 3
   },
   "file_extension": ".py",
   "mimetype": "text/x-python",
   "name": "python",
   "nbconvert_exporter": "python",
   "pygments_lexer": "ipython3",
   "version": "3.6.3"
  }
 },
 "nbformat": 4,
 "nbformat_minor": 2
}
