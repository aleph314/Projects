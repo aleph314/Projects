{
 "cells": [
  {
   "cell_type": "markdown",
   "metadata": {},
   "source": [
    "# Energy Price Prediction Project"
   ]
  },
  {
   "cell_type": "markdown",
   "metadata": {},
   "source": [
    "## Previous Notebooks\n",
    "\n",
    "- [Energy data import and cleaning](1.0-GME-Data.ipynb)"
   ]
  },
  {
   "cell_type": "code",
   "execution_count": 2,
   "metadata": {
    "collapsed": true
   },
   "outputs": [],
   "source": [
    "import numpy as np\n",
    "import pandas as pd\n",
    "import os"
   ]
  },
  {
   "cell_type": "markdown",
   "metadata": {},
   "source": [
    "## Weather Data"
   ]
  },
  {
   "cell_type": "markdown",
   "metadata": {},
   "source": [
    "Degree days are a simplification of outside temperature, as this [website](http://www.degreedays.net/) explains:\n",
    "\n",
    ">Degree days are essentially a simplified representation of outside air-temperature data. They are widely used in the energy industry for calculations relating to the effect of outside air temperature on building energy consumption.\n",
    "\n",
    ">\"Heating degree days\", or \"HDD\", are a measure of how much (in degrees), and for how long (in days), outside air temperature was lower than a specific \"base temperature\" (or \"balance point\"). They are used for calculations relating to the energy consumption required to heat buildings.\n",
    "\n",
    ">\"Cooling degree days\", or \"CDD\", are a measure of how much (in degrees), and for how long (in days), outside air temperature was higher than a specific base temperature. They are used for calculations relating to the energy consumption required to cool buildings.\n",
    "\n",
    "Here I downloaded data for HDDs and CDDs for the last 36 months from three different stations, in Milan, Rome and Naples:"
   ]
  },
  {
   "cell_type": "code",
   "execution_count": 3,
   "metadata": {
    "collapsed": true
   },
   "outputs": [],
   "source": [
    "hdd = pd.DataFrame(columns=['Date', 'HDD', 'station'])\n",
    "\n",
    "for file in os.listdir('../data/raw'):\n",
    "    filename = os.fsdecode(file)\n",
    "    if 'HDD' in filename and filename.endswith('.csv'):\n",
    "        data = pd.read_csv('../data/raw/{}'.format(filename), skiprows=6, sep=';')\n",
    "        data['HDD'] = pd.to_numeric(data['HDD'].str.replace(',', '.'))\n",
    "        data['Date'] = pd.to_datetime(data['Date'])\n",
    "        data['station'] = filename[0:4]\n",
    "        data.drop('% Estimated', axis=1, inplace=True)\n",
    "        hdd = hdd.append(data)"
   ]
  },
  {
   "cell_type": "code",
   "execution_count": 4,
   "metadata": {
    "collapsed": true
   },
   "outputs": [],
   "source": [
    "cdd = pd.DataFrame(columns=['Date', 'CDD', 'station'])\n",
    "\n",
    "for file in os.listdir('../data/raw'):\n",
    "    filename = os.fsdecode(file)\n",
    "    if 'CDD' in filename and filename.endswith('.csv'):\n",
    "        data = pd.read_csv('../data/raw/{}'.format(filename), skiprows=6, sep=';')\n",
    "        data['CDD'] = pd.to_numeric(data['CDD'].str.replace(',', '.'))\n",
    "        data['Date'] = pd.to_datetime(data['Date'])\n",
    "        data['station'] = filename[0:4]\n",
    "        data.drop('% Estimated', axis=1, inplace=True)\n",
    "        cdd = cdd.append(data)"
   ]
  },
  {
   "cell_type": "code",
   "execution_count": 5,
   "metadata": {},
   "outputs": [
    {
     "name": "stdout",
     "output_type": "stream",
     "text": [
      "3302\n",
      "2014-11-01 00:00:00\n",
      "2017-11-05 00:00:00\n",
      "3302\n",
      "2014-11-01 00:00:00\n",
      "2017-11-05 00:00:00\n"
     ]
    }
   ],
   "source": [
    "print(len(hdd))\n",
    "print(min(hdd['Date']))\n",
    "print(max(hdd['Date']))\n",
    "\n",
    "print(len(cdd))\n",
    "print(min(cdd['Date']))\n",
    "print(max(cdd['Date']))"
   ]
  },
  {
   "cell_type": "markdown",
   "metadata": {},
   "source": [
    "Pivoting the data to get one row per day and merging the HDDs and CDDs:"
   ]
  },
  {
   "cell_type": "code",
   "execution_count": 13,
   "metadata": {
    "collapsed": true
   },
   "outputs": [],
   "source": [
    "hdd = hdd.pivot_table(values='HDD', index='Date', columns='station').rename(columns={'LIML':'hdd_liml', 'LIRA':'hdd_lira', 'LIRN':'hdd_lirn'})\n",
    "cdd = cdd.pivot_table(values='CDD', index='Date', columns='station').rename(columns={'LIML':'cdd_liml', 'LIRA':'cdd_lira', 'LIRN':'cdd_lirn'})"
   ]
  },
  {
   "cell_type": "code",
   "execution_count": 16,
   "metadata": {
    "collapsed": true
   },
   "outputs": [],
   "source": [
    "weather = hdd.merge(cdd, how='inner', left_index=True, right_index=True)\n",
    "weather.to_pickle('../data/interim/weather.pkl')"
   ]
  },
  {
   "cell_type": "markdown",
   "metadata": {},
   "source": [
    "## Following Notebooks\n",
    "\n",
    "- [Energy price futures import and cleaning](1.2-Futures-Data.ipynb)\n",
    "- [Gas price import and cleaning](1.3-Gas-Data.ipynb)\n",
    "- [Merging data](1.5-Merge-Data.ipynb)\n",
    "- [Exploratory data analysis](2.0-EDA.ipynb)\n",
    "- [Feature engineering](3.0-Feature-Engineering.ipynb)\n",
    "- [More exploratory data analysis](4.0-EDA-Bis.ipynb)\n",
    "- [Predictive model](5.0-Model.ipynb)"
   ]
  }
 ],
 "metadata": {
  "kernelspec": {
   "display_name": "Python 3",
   "language": "python",
   "name": "python3"
  },
  "language_info": {
   "codemirror_mode": {
    "name": "ipython",
    "version": 3
   },
   "file_extension": ".py",
   "mimetype": "text/x-python",
   "name": "python",
   "nbconvert_exporter": "python",
   "pygments_lexer": "ipython3",
   "version": "3.6.3"
  }
 },
 "nbformat": 4,
 "nbformat_minor": 2
}
