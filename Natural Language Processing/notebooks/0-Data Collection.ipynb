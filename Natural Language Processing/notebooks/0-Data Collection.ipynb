{
 "cells": [
  {
   "cell_type": "markdown",
   "metadata": {},
   "source": [
    "# IT Tickets Classification Project"
   ]
  },
  {
   "cell_type": "markdown",
   "metadata": {},
   "source": [
    "The goal of this project is to use NLP to analyze IT tickets in order to understand how to channel them for a correct resolution.\n",
    "\n",
    "The first advantage of such a project is to pre-sort tickets for the IT structure dedicated to this task, speeding up their work; a second and more ambitious goal could be the possibility to create a processo to assign automatically tickets to the correct workgroups."
   ]
  },
  {
   "cell_type": "code",
   "execution_count": 1,
   "metadata": {},
   "outputs": [],
   "source": [
    "import requests\n",
    "import json\n",
    "import pandas as pd"
   ]
  },
  {
   "cell_type": "markdown",
   "metadata": {},
   "source": [
    "## Data Collection"
   ]
  },
  {
   "cell_type": "markdown",
   "metadata": {},
   "source": [
    "[JIRA](https://www.atlassian.com/software/jira) is a software that can be used to manage requests workflow; for this purpose it has a web interface and a [REST API](https://developer.atlassian.com/cloud/jira/platform/rest/) that allows to get tickets data with a `GET` request.\n",
    "\n",
    "I'm going to collect some basic data about tickets created during the 2017:\n",
    "\n",
    "- ticket key\n",
    "- date of the request and name of the applicant\n",
    "- issue type\n",
    "- ticket's summary and description\n",
    "- eventual ticket's type of resolution and/or workgroup assignment\n",
    "\n",
    "To gather all this data I'm creating three functions:\n",
    "- one that reads data from a single ticket\n",
    "- one that loops through a single day of tickets (being careful about the 50 issues limit returned by the API)\n",
    "- one that loops through all the days in a timespan"
   ]
  },
  {
   "cell_type": "code",
   "execution_count": 2,
   "metadata": {},
   "outputs": [],
   "source": [
    "def get_issue_data(issue):\n",
    "    '''\n",
    "    Given the JSON of an issue it extracts its features\n",
    "    '''\n",
    "    fields = issue['fields']\n",
    "    key = issue['key']\n",
    "    creation_date = fields['created']\n",
    "    creator = fields['creator']['displayName']\n",
    "    description = fields['description']\n",
    "    issue_type = fields['issuetype']['name']\n",
    "    reporter = fields['reporter']['displayName']\n",
    "    summary = fields['summary']\n",
    "    solution = None\n",
    "    if 'customfield_15600' in fields:\n",
    "        if fields['customfield_15600'] is not None:\n",
    "            solution = fields['customfield_15600']['value']\n",
    "    rel_issue = []\n",
    "    for sub_issue in fields['issuelinks']:\n",
    "        if sub_issue['type']['name'] == 'Relates' and 'outwardIssue' in sub_issue:\n",
    "            rel_issue = rel_issue + [sub_issue['outwardIssue']['key']]\n",
    "    return [key, creation_date, creator, description, issue_type, reporter, summary, solution, rel_issue]"
   ]
  },
  {
   "cell_type": "code",
   "execution_count": 3,
   "metadata": {},
   "outputs": [],
   "source": [
    "def get_issues(day):\n",
    "    '''\n",
    "    Extracts all issues in one day (day has to be a non-positive integer indicating how many days in the past\n",
    "    you are interested in), looping each 50 issues to avoid jira limit of 50 issues per-request\n",
    "    '''\n",
    "    url = 'http://iaasjira01.spvita.sanpaoloimiwm.local:8080/rest/api/2/search/?jql='\n",
    "    jql = 'project = \"ISA HELP DESK\" and createdDate >= startOfDay({}) and createdDate <= endOfDay({})'.format(day, day)\n",
    "    response = requests.get(url+jql, auth=('alessandro.diantonio','password'))\n",
    "    response_data = json.loads(response.text)\n",
    "    n_jira = response_data['total']\n",
    "    # print(n_jira)\n",
    "    i = 0\n",
    "    issues = []\n",
    "    while i*50 < n_jira:\n",
    "        response = requests.get(url+jql+'&startAt={}'.format(i*50), auth=('alessandro.diantonio','password'))\n",
    "        response_data = json.loads(response.text)\n",
    "        for issue in response_data['issues']:\n",
    "            issues.append(get_issue_data(issue))\n",
    "        i += 1\n",
    "    return issues"
   ]
  },
  {
   "cell_type": "code",
   "execution_count": 4,
   "metadata": {},
   "outputs": [],
   "source": [
    "def get_all_issues(start_day, end_day):\n",
    "    '''\n",
    "    Gets all issues in a timespan (start_day and end_day have to be non-positive integers, with start_day <= end_day)\n",
    "    '''\n",
    "    all_issues = []\n",
    "    for day in range(end_day, start_day, -1):\n",
    "        all_issues = all_issues + get_issues(day)\n",
    "        if day%10 == 0:\n",
    "            print(day)\n",
    "    return all_issues"
   ]
  },
  {
   "cell_type": "code",
   "execution_count": 5,
   "metadata": {
    "scrolled": true
   },
   "outputs": [
    {
     "name": "stdout",
     "output_type": "stream",
     "text": [
      "-60\n",
      "-70\n",
      "-80\n",
      "-90\n",
      "-100\n",
      "-110\n",
      "-120\n",
      "-130\n",
      "-140\n",
      "-150\n",
      "-160\n",
      "-170\n",
      "-180\n",
      "-190\n",
      "-200\n",
      "-210\n",
      "-220\n",
      "-230\n",
      "-240\n",
      "-250\n",
      "-260\n",
      "-270\n",
      "-280\n",
      "-290\n",
      "-300\n",
      "-310\n",
      "-320\n",
      "-330\n",
      "-340\n",
      "-350\n",
      "-360\n",
      "-370\n",
      "-380\n",
      "-390\n",
      "-400\n",
      "-410\n"
     ]
    }
   ],
   "source": [
    "# -419 = 02/01/2017 \n",
    "# -57 = 30/12/2017\n",
    "issues = get_all_issues(-419, -57)"
   ]
  },
  {
   "cell_type": "code",
   "execution_count": 6,
   "metadata": {},
   "outputs": [],
   "source": [
    "issues_df = pd.DataFrame(issues, columns=['key', 'creation_date', 'creator', 'description', 'issue_type', 'reporter', 'summary', 'solution', 'rel_issue'])"
   ]
  },
  {
   "cell_type": "code",
   "execution_count": 9,
   "metadata": {},
   "outputs": [
    {
     "data": {
      "text/html": [
       "<div>\n",
       "<style>\n",
       "    .dataframe thead tr:only-child th {\n",
       "        text-align: right;\n",
       "    }\n",
       "\n",
       "    .dataframe thead th {\n",
       "        text-align: left;\n",
       "    }\n",
       "\n",
       "    .dataframe tbody tr th {\n",
       "        vertical-align: top;\n",
       "    }\n",
       "</style>\n",
       "<table border=\"1\" class=\"dataframe\">\n",
       "  <thead>\n",
       "    <tr style=\"text-align: right;\">\n",
       "      <th></th>\n",
       "      <th>key</th>\n",
       "      <th>creation_date</th>\n",
       "      <th>creator</th>\n",
       "      <th>description</th>\n",
       "      <th>issue_type</th>\n",
       "      <th>reporter</th>\n",
       "      <th>summary</th>\n",
       "      <th>solution</th>\n",
       "      <th>rel_issue</th>\n",
       "    </tr>\n",
       "  </thead>\n",
       "  <tbody>\n",
       "    <tr>\n",
       "      <th>20141</th>\n",
       "      <td>ISAHD-11765</td>\n",
       "      <td>2017-01-03T13:13:31.000+0100</td>\n",
       "      <td>Back Office</td>\n",
       "      <td>Ciao\\nchiedo di generare la PRP per la polizza...</td>\n",
       "      <td>Modifica dati</td>\n",
       "      <td>Back Office</td>\n",
       "      <td>GENERARE PRP 104011318615  TARGA CD282RE POLET...</td>\n",
       "      <td>Riesecuzione procedura</td>\n",
       "      <td>[]</td>\n",
       "    </tr>\n",
       "    <tr>\n",
       "      <th>20154</th>\n",
       "      <td>ISAHD-11752</td>\n",
       "      <td>2017-01-03T11:46:06.000+0100</td>\n",
       "      <td>Back Office</td>\n",
       "      <td>Ciao nel preventivo di sostituzione n° PRE0020...</td>\n",
       "      <td>Modifica dati</td>\n",
       "      <td>Back Office</td>\n",
       "      <td>VARIAZIONE DICITURA ASSICURATIVA CIGNETTI - MA...</td>\n",
       "      <td>Forzatura dati</td>\n",
       "      <td>[]</td>\n",
       "    </tr>\n",
       "    <tr>\n",
       "      <th>20163</th>\n",
       "      <td>ISAHD-11743</td>\n",
       "      <td>2017-01-03T10:45:28.000+0100</td>\n",
       "      <td>Back Office</td>\n",
       "      <td>Ciao,\\nper questa posizione 304012069489  01/0...</td>\n",
       "      <td>Modifica dati</td>\n",
       "      <td>Back Office</td>\n",
       "      <td>generare tasto paga su psp</td>\n",
       "      <td>Riesecuzione procedura</td>\n",
       "      <td>[]</td>\n",
       "    </tr>\n",
       "    <tr>\n",
       "      <th>20166</th>\n",
       "      <td>ISAHD-11740</td>\n",
       "      <td>2017-01-03T10:27:20.000+0100</td>\n",
       "      <td>Back Office</td>\n",
       "      <td>GENERARE LA PRP PER IL CONTRATTO 304012079294 ...</td>\n",
       "      <td>HD - segnalazione anomalie</td>\n",
       "      <td>Back Office</td>\n",
       "      <td>GENERARE PRP 304012079294  - COSTA S</td>\n",
       "      <td>Riesecuzione procedura</td>\n",
       "      <td>[]</td>\n",
       "    </tr>\n",
       "    <tr>\n",
       "      <th>20172</th>\n",
       "      <td>ISAHD-11734</td>\n",
       "      <td>2017-01-03T09:50:04.000+0100</td>\n",
       "      <td>Back Office</td>\n",
       "      <td>Buongiorno,\\nvi chiedo di emettere un preventi...</td>\n",
       "      <td>Modifica dati</td>\n",
       "      <td>Back Office</td>\n",
       "      <td>GENERARE PRP 734015167154 DY526PF DE LAURENTII...</td>\n",
       "      <td>Riesecuzione procedura</td>\n",
       "      <td>[]</td>\n",
       "    </tr>\n",
       "  </tbody>\n",
       "</table>\n",
       "</div>"
      ],
      "text/plain": [
       "               key                 creation_date      creator  \\\n",
       "20141  ISAHD-11765  2017-01-03T13:13:31.000+0100  Back Office   \n",
       "20154  ISAHD-11752  2017-01-03T11:46:06.000+0100  Back Office   \n",
       "20163  ISAHD-11743  2017-01-03T10:45:28.000+0100  Back Office   \n",
       "20166  ISAHD-11740  2017-01-03T10:27:20.000+0100  Back Office   \n",
       "20172  ISAHD-11734  2017-01-03T09:50:04.000+0100  Back Office   \n",
       "\n",
       "                                             description  \\\n",
       "20141  Ciao\\nchiedo di generare la PRP per la polizza...   \n",
       "20154  Ciao nel preventivo di sostituzione n° PRE0020...   \n",
       "20163  Ciao,\\nper questa posizione 304012069489  01/0...   \n",
       "20166  GENERARE LA PRP PER IL CONTRATTO 304012079294 ...   \n",
       "20172  Buongiorno,\\nvi chiedo di emettere un preventi...   \n",
       "\n",
       "                       issue_type     reporter  \\\n",
       "20141               Modifica dati  Back Office   \n",
       "20154               Modifica dati  Back Office   \n",
       "20163               Modifica dati  Back Office   \n",
       "20166  HD - segnalazione anomalie  Back Office   \n",
       "20172               Modifica dati  Back Office   \n",
       "\n",
       "                                                 summary  \\\n",
       "20141  GENERARE PRP 104011318615  TARGA CD282RE POLET...   \n",
       "20154  VARIAZIONE DICITURA ASSICURATIVA CIGNETTI - MA...   \n",
       "20163                         generare tasto paga su psp   \n",
       "20166               GENERARE PRP 304012079294  - COSTA S   \n",
       "20172  GENERARE PRP 734015167154 DY526PF DE LAURENTII...   \n",
       "\n",
       "                     solution rel_issue  \n",
       "20141  Riesecuzione procedura        []  \n",
       "20154          Forzatura dati        []  \n",
       "20163  Riesecuzione procedura        []  \n",
       "20166  Riesecuzione procedura        []  \n",
       "20172  Riesecuzione procedura        []  "
      ]
     },
     "execution_count": 9,
     "metadata": {},
     "output_type": "execute_result"
    }
   ],
   "source": [
    "issues_df.loc[issues_df['reporter']=='Back Office'].tail()"
   ]
  },
  {
   "cell_type": "code",
   "execution_count": 11,
   "metadata": {},
   "outputs": [],
   "source": [
    "issues_df.to_pickle('../data/raw/issues.pkl')"
   ]
  },
  {
   "cell_type": "markdown",
   "metadata": {},
   "source": [
    "## Following Notebooks\n",
    "\n",
    "- [Data Cleaning and EDA](1-Data Cleaning and EDA.ipynb)\n",
    "- [Document-Term Matrix](2-Document-Term Matrix.ipynb)\n",
    "- [Topic Modeling](3-Topic Modeling.ipynb)\n",
    "- [Random Forest Prediction](4-Model.ipynb)"
   ]
  }
 ],
 "metadata": {
  "kernelspec": {
   "display_name": "Python 3",
   "language": "python",
   "name": "python3"
  },
  "language_info": {
   "codemirror_mode": {
    "name": "ipython",
    "version": 3
   },
   "file_extension": ".py",
   "mimetype": "text/x-python",
   "name": "python",
   "nbconvert_exporter": "python",
   "pygments_lexer": "ipython3",
   "version": "3.6.3"
  }
 },
 "nbformat": 4,
 "nbformat_minor": 2
}
