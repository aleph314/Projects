{
 "cells": [
  {
   "cell_type": "markdown",
   "metadata": {},
   "source": [
    "# IT Tickets Classification Project"
   ]
  },
  {
   "cell_type": "markdown",
   "metadata": {},
   "source": [
    "## Previous Notebooks\n",
    "\n",
    "- [Data Collection](0-Data Collection.ipynb)\n",
    "- [Data Cleaning and EDA](1-Data Cleaning and EDA.ipynb)\n",
    "- [Document-Term Matrix](2-Document-Term Matrix.ipynb)\n",
    "- [Topic Modeling](3-Topic Modeling.ipynb)"
   ]
  },
  {
   "cell_type": "code",
   "execution_count": 1,
   "metadata": {},
   "outputs": [],
   "source": [
    "import numpy as np\n",
    "import pandas as pd\n",
    "from sklearn.preprocessing import LabelEncoder\n",
    "from sklearn.ensemble import RandomForestClassifier\n",
    "from sklearn.model_selection import train_test_split, GridSearchCV, StratifiedKFold\n",
    "from sklearn.metrics import f1_score, precision_recall_curve, confusion_matrix, accuracy_score, recall_score, precision_score, make_scorer"
   ]
  },
  {
   "cell_type": "markdown",
   "metadata": {},
   "source": [
    "## Random Forest"
   ]
  },
  {
   "cell_type": "markdown",
   "metadata": {},
   "source": [
    "In this last notebook I use the topics determined in the previous steps and the issue type to predict the tickets' labels using a random forest.\n",
    "\n",
    "I try using different numbers of topics and determine the best one using 5-fold cross-validation."
   ]
  },
  {
   "cell_type": "code",
   "execution_count": 2,
   "metadata": {},
   "outputs": [],
   "source": [
    "processed_data = pd.read_pickle('../data/processed/proc_data.pkl')"
   ]
  },
  {
   "cell_type": "code",
   "execution_count": 3,
   "metadata": {},
   "outputs": [],
   "source": [
    "le1 = LabelEncoder()\n",
    "processed_data['issue_type'] = le1.fit_transform(processed_data['issue_type'])\n",
    "le2 = LabelEncoder()\n",
    "processed_data['label'] = le2.fit_transform(processed_data['label'])"
   ]
  },
  {
   "cell_type": "code",
   "execution_count": 4,
   "metadata": {},
   "outputs": [],
   "source": [
    "Xtr, Xts, ytr, yts = train_test_split(processed_data.drop('label', axis=1),\n",
    "                                      processed_data['label'],\n",
    "                                      test_size=0.2, random_state=42, stratify=processed_data['label'])"
   ]
  },
  {
   "cell_type": "code",
   "execution_count": 5,
   "metadata": {},
   "outputs": [],
   "source": [
    "rfc = RandomForestClassifier()"
   ]
  },
  {
   "cell_type": "code",
   "execution_count": 6,
   "metadata": {},
   "outputs": [],
   "source": [
    "param_grid = {'n_estimators':np.arange(30, 110, 10),\n",
    "              'max_features':np.arange(0.1, 1.1, 0.1),\n",
    "              'min_samples_split': np.arange(2, 6, 1)}\n",
    "f1scorer = make_scorer(f1_score, average='weighted')\n",
    "kf = StratifiedKFold(n_splits=5, random_state=74)"
   ]
  },
  {
   "cell_type": "code",
   "execution_count": 7,
   "metadata": {},
   "outputs": [
    {
     "name": "stdout",
     "output_type": "stream",
     "text": [
      "Fitting 5 folds for each of 320 candidates, totalling 1600 fits\n"
     ]
    },
    {
     "name": "stderr",
     "output_type": "stream",
     "text": [
      "[Parallel(n_jobs=-1)]: Done   5 tasks      | elapsed:    8.2s\n",
      "[Parallel(n_jobs=-1)]: Done  10 tasks      | elapsed:   10.6s\n",
      "[Parallel(n_jobs=-1)]: Done  17 tasks      | elapsed:   15.1s\n",
      "[Parallel(n_jobs=-1)]: Done  24 tasks      | elapsed:   20.8s\n",
      "[Parallel(n_jobs=-1)]: Done  33 tasks      | elapsed:   29.5s\n",
      "[Parallel(n_jobs=-1)]: Done  42 tasks      | elapsed:   37.4s\n",
      "[Parallel(n_jobs=-1)]: Done  53 tasks      | elapsed:   42.7s\n",
      "[Parallel(n_jobs=-1)]: Done  64 tasks      | elapsed:   50.7s\n",
      "[Parallel(n_jobs=-1)]: Done  77 tasks      | elapsed:  1.1min\n",
      "[Parallel(n_jobs=-1)]: Done  90 tasks      | elapsed:  1.2min\n",
      "[Parallel(n_jobs=-1)]: Done 105 tasks      | elapsed:  1.4min\n",
      "[Parallel(n_jobs=-1)]: Done 120 tasks      | elapsed:  1.6min\n",
      "[Parallel(n_jobs=-1)]: Done 137 tasks      | elapsed:  1.7min\n",
      "[Parallel(n_jobs=-1)]: Done 154 tasks      | elapsed:  2.0min\n",
      "[Parallel(n_jobs=-1)]: Done 173 tasks      | elapsed:  2.2min\n",
      "[Parallel(n_jobs=-1)]: Done 192 tasks      | elapsed:  2.7min\n",
      "[Parallel(n_jobs=-1)]: Done 213 tasks      | elapsed:  3.1min\n",
      "[Parallel(n_jobs=-1)]: Done 234 tasks      | elapsed:  3.6min\n",
      "[Parallel(n_jobs=-1)]: Done 257 tasks      | elapsed:  4.0min\n",
      "[Parallel(n_jobs=-1)]: Done 280 tasks      | elapsed:  4.5min\n",
      "[Parallel(n_jobs=-1)]: Done 305 tasks      | elapsed:  4.9min\n",
      "[Parallel(n_jobs=-1)]: Done 330 tasks      | elapsed:  5.5min\n",
      "[Parallel(n_jobs=-1)]: Done 357 tasks      | elapsed:  6.5min\n",
      "[Parallel(n_jobs=-1)]: Done 384 tasks      | elapsed:  7.2min\n",
      "[Parallel(n_jobs=-1)]: Done 413 tasks      | elapsed:  7.9min\n",
      "[Parallel(n_jobs=-1)]: Done 442 tasks      | elapsed:  8.7min\n",
      "[Parallel(n_jobs=-1)]: Done 473 tasks      | elapsed:  9.4min\n",
      "[Parallel(n_jobs=-1)]: Done 504 tasks      | elapsed: 10.2min\n",
      "[Parallel(n_jobs=-1)]: Done 537 tasks      | elapsed: 11.1min\n",
      "[Parallel(n_jobs=-1)]: Done 570 tasks      | elapsed: 12.2min\n",
      "[Parallel(n_jobs=-1)]: Done 605 tasks      | elapsed: 13.3min\n",
      "[Parallel(n_jobs=-1)]: Done 640 tasks      | elapsed: 14.4min\n",
      "[Parallel(n_jobs=-1)]: Done 677 tasks      | elapsed: 16.0min\n",
      "[Parallel(n_jobs=-1)]: Done 714 tasks      | elapsed: 17.6min\n",
      "[Parallel(n_jobs=-1)]: Done 753 tasks      | elapsed: 19.2min\n",
      "[Parallel(n_jobs=-1)]: Done 792 tasks      | elapsed: 20.8min\n",
      "[Parallel(n_jobs=-1)]: Done 833 tasks      | elapsed: 22.9min\n",
      "[Parallel(n_jobs=-1)]: Done 874 tasks      | elapsed: 25.2min\n",
      "[Parallel(n_jobs=-1)]: Done 917 tasks      | elapsed: 27.3min\n",
      "[Parallel(n_jobs=-1)]: Done 960 tasks      | elapsed: 29.3min\n",
      "[Parallel(n_jobs=-1)]: Done 1005 tasks      | elapsed: 31.5min\n",
      "[Parallel(n_jobs=-1)]: Done 1050 tasks      | elapsed: 33.7min\n",
      "[Parallel(n_jobs=-1)]: Done 1097 tasks      | elapsed: 36.1min\n",
      "[Parallel(n_jobs=-1)]: Done 1144 tasks      | elapsed: 38.7min\n",
      "[Parallel(n_jobs=-1)]: Done 1193 tasks      | elapsed: 41.7min\n",
      "[Parallel(n_jobs=-1)]: Done 1242 tasks      | elapsed: 44.6min\n",
      "[Parallel(n_jobs=-1)]: Done 1293 tasks      | elapsed: 47.3min\n",
      "[Parallel(n_jobs=-1)]: Done 1344 tasks      | elapsed: 50.7min\n",
      "[Parallel(n_jobs=-1)]: Done 1397 tasks      | elapsed: 54.7min\n",
      "[Parallel(n_jobs=-1)]: Done 1450 tasks      | elapsed: 57.8min\n",
      "[Parallel(n_jobs=-1)]: Done 1505 tasks      | elapsed: 61.9min\n",
      "[Parallel(n_jobs=-1)]: Done 1560 tasks      | elapsed: 66.4min\n",
      "[Parallel(n_jobs=-1)]: Done 1600 out of 1600 | elapsed: 69.5min finished\n"
     ]
    },
    {
     "data": {
      "text/plain": [
       "GridSearchCV(cv=StratifiedKFold(n_splits=5, random_state=74, shuffle=False),\n",
       "       error_score='raise',\n",
       "       estimator=RandomForestClassifier(bootstrap=True, class_weight=None, criterion='gini',\n",
       "            max_depth=None, max_features='auto', max_leaf_nodes=None,\n",
       "            min_impurity_decrease=0.0, min_impurity_split=None,\n",
       "            min_samples_leaf=1, min_samples_split=2,\n",
       "            min_weight_fraction_leaf=0.0, n_estimators=10, n_jobs=1,\n",
       "            oob_score=False, random_state=None, verbose=0,\n",
       "            warm_start=False),\n",
       "       fit_params=None, iid=True, n_jobs=-1,\n",
       "       param_grid={'n_estimators': array([ 30,  40,  50,  60,  70,  80,  90, 100]), 'max_features': array([ 0.1,  0.2,  0.3,  0.4,  0.5,  0.6,  0.7,  0.8,  0.9,  1. ]), 'min_samples_split': array([2, 3, 4, 5])},\n",
       "       pre_dispatch='2*n_jobs', refit=True, return_train_score='warn',\n",
       "       scoring=make_scorer(f1_score, average=weighted), verbose=10)"
      ]
     },
     "execution_count": 7,
     "metadata": {},
     "output_type": "execute_result"
    }
   ],
   "source": [
    "gs10 = GridSearchCV(estimator=rfc, param_grid=param_grid, n_jobs=-1, cv=kf, verbose=10, scoring=f1scorer)\n",
    "gs10.fit(Xtr[['issue_type', 'topic10','topic11', 'topic12', 'topic13', 'topic14',\n",
    "              'topic15', 'topic16', 'topic17', 'topic18', 'topic19', 'topic20']], ytr)"
   ]
  },
  {
   "cell_type": "code",
   "execution_count": 8,
   "metadata": {},
   "outputs": [
    {
     "name": "stdout",
     "output_type": "stream",
     "text": [
      "0.678711405911\n",
      "{'max_features': 0.30000000000000004, 'min_samples_split': 5, 'n_estimators': 100}\n"
     ]
    }
   ],
   "source": [
    "print(gs10.best_score_)\n",
    "print(gs10.best_params_)"
   ]
  },
  {
   "cell_type": "code",
   "execution_count": 9,
   "metadata": {},
   "outputs": [
    {
     "name": "stdout",
     "output_type": "stream",
     "text": [
      "Fitting 5 folds for each of 320 candidates, totalling 1600 fits\n"
     ]
    },
    {
     "name": "stderr",
     "output_type": "stream",
     "text": [
      "[Parallel(n_jobs=-1)]: Done   5 tasks      | elapsed:    8.6s\n",
      "[Parallel(n_jobs=-1)]: Done  10 tasks      | elapsed:   11.2s\n",
      "[Parallel(n_jobs=-1)]: Done  17 tasks      | elapsed:   16.1s\n",
      "[Parallel(n_jobs=-1)]: Done  24 tasks      | elapsed:   21.8s\n",
      "[Parallel(n_jobs=-1)]: Done  33 tasks      | elapsed:   29.9s\n",
      "[Parallel(n_jobs=-1)]: Done  42 tasks      | elapsed:   36.9s\n",
      "[Parallel(n_jobs=-1)]: Done  53 tasks      | elapsed:   42.1s\n",
      "[Parallel(n_jobs=-1)]: Done  64 tasks      | elapsed:   50.1s\n",
      "[Parallel(n_jobs=-1)]: Done  77 tasks      | elapsed:  1.0min\n",
      "[Parallel(n_jobs=-1)]: Done  90 tasks      | elapsed:  1.1min\n",
      "[Parallel(n_jobs=-1)]: Done 105 tasks      | elapsed:  1.3min\n",
      "[Parallel(n_jobs=-1)]: Done 120 tasks      | elapsed:  1.5min\n",
      "[Parallel(n_jobs=-1)]: Done 137 tasks      | elapsed:  1.7min\n",
      "[Parallel(n_jobs=-1)]: Done 154 tasks      | elapsed:  1.9min\n",
      "[Parallel(n_jobs=-1)]: Done 173 tasks      | elapsed:  2.2min\n",
      "[Parallel(n_jobs=-1)]: Done 192 tasks      | elapsed:  2.7min\n",
      "[Parallel(n_jobs=-1)]: Done 213 tasks      | elapsed:  3.1min\n",
      "[Parallel(n_jobs=-1)]: Done 234 tasks      | elapsed:  3.7min\n",
      "[Parallel(n_jobs=-1)]: Done 257 tasks      | elapsed:  4.2min\n",
      "[Parallel(n_jobs=-1)]: Done 280 tasks      | elapsed:  4.8min\n",
      "[Parallel(n_jobs=-1)]: Done 305 tasks      | elapsed:  5.3min\n",
      "[Parallel(n_jobs=-1)]: Done 330 tasks      | elapsed:  6.0min\n",
      "[Parallel(n_jobs=-1)]: Done 357 tasks      | elapsed:  7.1min\n",
      "[Parallel(n_jobs=-1)]: Done 384 tasks      | elapsed:  7.9min\n",
      "[Parallel(n_jobs=-1)]: Done 413 tasks      | elapsed:  9.0min\n",
      "[Parallel(n_jobs=-1)]: Done 442 tasks      | elapsed: 10.1min\n",
      "[Parallel(n_jobs=-1)]: Done 473 tasks      | elapsed: 11.2min\n",
      "[Parallel(n_jobs=-1)]: Done 504 tasks      | elapsed: 12.4min\n",
      "[Parallel(n_jobs=-1)]: Done 537 tasks      | elapsed: 13.7min\n",
      "[Parallel(n_jobs=-1)]: Done 570 tasks      | elapsed: 15.2min\n",
      "[Parallel(n_jobs=-1)]: Done 605 tasks      | elapsed: 16.7min\n",
      "[Parallel(n_jobs=-1)]: Done 640 tasks      | elapsed: 18.3min\n",
      "[Parallel(n_jobs=-1)]: Done 677 tasks      | elapsed: 20.3min\n",
      "[Parallel(n_jobs=-1)]: Done 714 tasks      | elapsed: 22.2min\n",
      "[Parallel(n_jobs=-1)]: Done 753 tasks      | elapsed: 24.4min\n",
      "[Parallel(n_jobs=-1)]: Done 792 tasks      | elapsed: 26.5min\n",
      "[Parallel(n_jobs=-1)]: Done 833 tasks      | elapsed: 29.1min\n",
      "[Parallel(n_jobs=-1)]: Done 874 tasks      | elapsed: 32.0min\n",
      "[Parallel(n_jobs=-1)]: Done 917 tasks      | elapsed: 35.0min\n",
      "[Parallel(n_jobs=-1)]: Done 960 tasks      | elapsed: 37.9min\n",
      "[Parallel(n_jobs=-1)]: Done 1005 tasks      | elapsed: 41.0min\n",
      "[Parallel(n_jobs=-1)]: Done 1050 tasks      | elapsed: 44.2min\n",
      "[Parallel(n_jobs=-1)]: Done 1097 tasks      | elapsed: 47.7min\n",
      "[Parallel(n_jobs=-1)]: Done 1144 tasks      | elapsed: 51.4min\n",
      "[Parallel(n_jobs=-1)]: Done 1193 tasks      | elapsed: 55.9min\n",
      "[Parallel(n_jobs=-1)]: Done 1242 tasks      | elapsed: 60.3min\n",
      "[Parallel(n_jobs=-1)]: Done 1293 tasks      | elapsed: 64.5min\n",
      "[Parallel(n_jobs=-1)]: Done 1344 tasks      | elapsed: 69.6min\n",
      "[Parallel(n_jobs=-1)]: Done 1397 tasks      | elapsed: 75.3min\n",
      "[Parallel(n_jobs=-1)]: Done 1450 tasks      | elapsed: 80.3min\n",
      "[Parallel(n_jobs=-1)]: Done 1505 tasks      | elapsed: 86.5min\n",
      "[Parallel(n_jobs=-1)]: Done 1560 tasks      | elapsed: 93.3min\n",
      "[Parallel(n_jobs=-1)]: Done 1600 out of 1600 | elapsed: 98.0min finished\n"
     ]
    },
    {
     "data": {
      "text/plain": [
       "GridSearchCV(cv=StratifiedKFold(n_splits=5, random_state=74, shuffle=False),\n",
       "       error_score='raise',\n",
       "       estimator=RandomForestClassifier(bootstrap=True, class_weight=None, criterion='gini',\n",
       "            max_depth=None, max_features='auto', max_leaf_nodes=None,\n",
       "            min_impurity_decrease=0.0, min_impurity_split=None,\n",
       "            min_samples_leaf=1, min_samples_split=2,\n",
       "            min_weight_fraction_leaf=0.0, n_estimators=10, n_jobs=1,\n",
       "            oob_score=False, random_state=None, verbose=0,\n",
       "            warm_start=False),\n",
       "       fit_params=None, iid=True, n_jobs=-1,\n",
       "       param_grid={'n_estimators': array([ 30,  40,  50,  60,  70,  80,  90, 100]), 'max_features': array([ 0.1,  0.2,  0.3,  0.4,  0.5,  0.6,  0.7,  0.8,  0.9,  1. ]), 'min_samples_split': array([2, 3, 4, 5])},\n",
       "       pre_dispatch='2*n_jobs', refit=True, return_train_score='warn',\n",
       "       scoring=make_scorer(f1_score, average=weighted), verbose=10)"
      ]
     },
     "execution_count": 9,
     "metadata": {},
     "output_type": "execute_result"
    }
   ],
   "source": [
    "gs15 = GridSearchCV(estimator=rfc, param_grid=param_grid, n_jobs=-1, cv=kf, verbose=10, scoring=f1scorer)\n",
    "gs15.fit(Xtr[['issue_type', 'topic5','topic6', 'topic7', 'topic8', 'topic9',\n",
    "              'topic10','topic11', 'topic12', 'topic13', 'topic14',\n",
    "              'topic15', 'topic16', 'topic17', 'topic18', 'topic19', 'topic20']], ytr)"
   ]
  },
  {
   "cell_type": "code",
   "execution_count": 10,
   "metadata": {},
   "outputs": [
    {
     "name": "stdout",
     "output_type": "stream",
     "text": [
      "0.690890917993\n",
      "{'max_features': 0.20000000000000001, 'min_samples_split': 4, 'n_estimators': 70}\n"
     ]
    }
   ],
   "source": [
    "print(gs15.best_score_)\n",
    "print(gs15.best_params_)"
   ]
  },
  {
   "cell_type": "code",
   "execution_count": 11,
   "metadata": {},
   "outputs": [
    {
     "name": "stdout",
     "output_type": "stream",
     "text": [
      "Fitting 5 folds for each of 320 candidates, totalling 1600 fits\n"
     ]
    },
    {
     "name": "stderr",
     "output_type": "stream",
     "text": [
      "[Parallel(n_jobs=-1)]: Done   5 tasks      | elapsed:    9.4s\n",
      "[Parallel(n_jobs=-1)]: Done  10 tasks      | elapsed:   12.8s\n",
      "[Parallel(n_jobs=-1)]: Done  17 tasks      | elapsed:   19.6s\n",
      "[Parallel(n_jobs=-1)]: Done  24 tasks      | elapsed:   28.3s\n",
      "[Parallel(n_jobs=-1)]: Done  33 tasks      | elapsed:   40.1s\n",
      "[Parallel(n_jobs=-1)]: Done  42 tasks      | elapsed:   50.8s\n",
      "[Parallel(n_jobs=-1)]: Done  53 tasks      | elapsed:   58.9s\n",
      "[Parallel(n_jobs=-1)]: Done  64 tasks      | elapsed:  1.2min\n",
      "[Parallel(n_jobs=-1)]: Done  77 tasks      | elapsed:  1.5min\n",
      "[Parallel(n_jobs=-1)]: Done  90 tasks      | elapsed:  1.6min\n",
      "[Parallel(n_jobs=-1)]: Done 105 tasks      | elapsed:  1.9min\n",
      "[Parallel(n_jobs=-1)]: Done 120 tasks      | elapsed:  2.2min\n",
      "[Parallel(n_jobs=-1)]: Done 137 tasks      | elapsed:  2.5min\n",
      "[Parallel(n_jobs=-1)]: Done 154 tasks      | elapsed:  2.8min\n",
      "[Parallel(n_jobs=-1)]: Done 173 tasks      | elapsed:  3.2min\n",
      "[Parallel(n_jobs=-1)]: Done 192 tasks      | elapsed:  3.9min\n",
      "[Parallel(n_jobs=-1)]: Done 213 tasks      | elapsed:  4.4min\n",
      "[Parallel(n_jobs=-1)]: Done 234 tasks      | elapsed:  5.2min\n",
      "[Parallel(n_jobs=-1)]: Done 257 tasks      | elapsed:  5.7min\n",
      "[Parallel(n_jobs=-1)]: Done 280 tasks      | elapsed:  6.6min\n",
      "[Parallel(n_jobs=-1)]: Done 305 tasks      | elapsed:  7.2min\n",
      "[Parallel(n_jobs=-1)]: Done 330 tasks      | elapsed:  8.1min\n",
      "[Parallel(n_jobs=-1)]: Done 357 tasks      | elapsed:  9.4min\n",
      "[Parallel(n_jobs=-1)]: Done 384 tasks      | elapsed: 10.4min\n",
      "[Parallel(n_jobs=-1)]: Done 413 tasks      | elapsed: 11.7min\n",
      "[Parallel(n_jobs=-1)]: Done 442 tasks      | elapsed: 13.1min\n",
      "[Parallel(n_jobs=-1)]: Done 473 tasks      | elapsed: 14.4min\n",
      "[Parallel(n_jobs=-1)]: Done 504 tasks      | elapsed: 15.9min\n",
      "[Parallel(n_jobs=-1)]: Done 537 tasks      | elapsed: 17.7min\n",
      "[Parallel(n_jobs=-1)]: Done 570 tasks      | elapsed: 19.7min\n",
      "[Parallel(n_jobs=-1)]: Done 605 tasks      | elapsed: 21.8min\n",
      "[Parallel(n_jobs=-1)]: Done 640 tasks      | elapsed: 23.9min\n",
      "[Parallel(n_jobs=-1)]: Done 677 tasks      | elapsed: 26.7min\n",
      "[Parallel(n_jobs=-1)]: Done 714 tasks      | elapsed: 29.4min\n",
      "[Parallel(n_jobs=-1)]: Done 753 tasks      | elapsed: 32.3min\n",
      "[Parallel(n_jobs=-1)]: Done 792 tasks      | elapsed: 35.3min\n",
      "[Parallel(n_jobs=-1)]: Done 833 tasks      | elapsed: 39.0min\n",
      "[Parallel(n_jobs=-1)]: Done 874 tasks      | elapsed: 43.7min\n",
      "[Parallel(n_jobs=-1)]: Done 917 tasks      | elapsed: 49.3min\n",
      "[Parallel(n_jobs=-1)]: Done 960 tasks      | elapsed: 54.4min\n",
      "[Parallel(n_jobs=-1)]: Done 1005 tasks      | elapsed: 60.1min\n",
      "[Parallel(n_jobs=-1)]: Done 1050 tasks      | elapsed: 65.7min\n",
      "[Parallel(n_jobs=-1)]: Done 1097 tasks      | elapsed: 71.5min\n",
      "[Parallel(n_jobs=-1)]: Done 1144 tasks      | elapsed: 78.2min\n",
      "[Parallel(n_jobs=-1)]: Done 1193 tasks      | elapsed: 85.8min\n",
      "[Parallel(n_jobs=-1)]: Done 1242 tasks      | elapsed: 93.2min\n",
      "[Parallel(n_jobs=-1)]: Done 1293 tasks      | elapsed: 100.0min\n",
      "[Parallel(n_jobs=-1)]: Done 1344 tasks      | elapsed: 106.9min\n",
      "[Parallel(n_jobs=-1)]: Done 1397 tasks      | elapsed: 114.7min\n",
      "[Parallel(n_jobs=-1)]: Done 1450 tasks      | elapsed: 121.4min\n",
      "[Parallel(n_jobs=-1)]: Done 1505 tasks      | elapsed: 130.2min\n",
      "[Parallel(n_jobs=-1)]: Done 1560 tasks      | elapsed: 139.9min\n",
      "[Parallel(n_jobs=-1)]: Done 1600 out of 1600 | elapsed: 146.2min finished\n"
     ]
    },
    {
     "data": {
      "text/plain": [
       "GridSearchCV(cv=StratifiedKFold(n_splits=5, random_state=74, shuffle=False),\n",
       "       error_score='raise',\n",
       "       estimator=RandomForestClassifier(bootstrap=True, class_weight=None, criterion='gini',\n",
       "            max_depth=None, max_features='auto', max_leaf_nodes=None,\n",
       "            min_impurity_decrease=0.0, min_impurity_split=None,\n",
       "            min_samples_leaf=1, min_samples_split=2,\n",
       "            min_weight_fraction_leaf=0.0, n_estimators=10, n_jobs=1,\n",
       "            oob_score=False, random_state=None, verbose=0,\n",
       "            warm_start=False),\n",
       "       fit_params=None, iid=True, n_jobs=-1,\n",
       "       param_grid={'n_estimators': array([ 30,  40,  50,  60,  70,  80,  90, 100]), 'max_features': array([ 0.1,  0.2,  0.3,  0.4,  0.5,  0.6,  0.7,  0.8,  0.9,  1. ]), 'min_samples_split': array([2, 3, 4, 5])},\n",
       "       pre_dispatch='2*n_jobs', refit=True, return_train_score='warn',\n",
       "       scoring=make_scorer(f1_score, average=weighted), verbose=10)"
      ]
     },
     "execution_count": 11,
     "metadata": {},
     "output_type": "execute_result"
    }
   ],
   "source": [
    "gs20 = GridSearchCV(estimator=rfc, param_grid=param_grid, n_jobs=-1, cv=kf, verbose=10, scoring=f1scorer)\n",
    "gs20.fit(Xtr[['issue_type', 'topic1','topic2', 'topic3', 'topic4', 'topic5',\n",
    "              'topic5','topic6', 'topic7', 'topic8', 'topic9',\n",
    "              'topic10','topic11', 'topic12', 'topic13', 'topic14',\n",
    "              'topic15', 'topic16', 'topic17', 'topic18', 'topic19', 'topic20']], ytr)"
   ]
  },
  {
   "cell_type": "code",
   "execution_count": 12,
   "metadata": {},
   "outputs": [
    {
     "name": "stdout",
     "output_type": "stream",
     "text": [
      "0.697161725092\n",
      "{'max_features': 0.30000000000000004, 'min_samples_split': 2, 'n_estimators': 90}\n"
     ]
    }
   ],
   "source": [
    "print(gs20.best_score_)\n",
    "print(gs20.best_params_)"
   ]
  },
  {
   "cell_type": "markdown",
   "metadata": {},
   "source": [
    "The best model is the one with all the 20 most relevant topics in it, even if its cv score is not much greater than the model with 15 topics."
   ]
  },
  {
   "cell_type": "code",
   "execution_count": 13,
   "metadata": {},
   "outputs": [
    {
     "data": {
      "text/plain": [
       "RandomForestClassifier(bootstrap=True, class_weight=None, criterion='gini',\n",
       "            max_depth=None, max_features=0.3, max_leaf_nodes=None,\n",
       "            min_impurity_decrease=0.0, min_impurity_split=None,\n",
       "            min_samples_leaf=1, min_samples_split=2,\n",
       "            min_weight_fraction_leaf=0.0, n_estimators=90, n_jobs=1,\n",
       "            oob_score=False, random_state=None, verbose=0,\n",
       "            warm_start=False)"
      ]
     },
     "execution_count": 13,
     "metadata": {},
     "output_type": "execute_result"
    }
   ],
   "source": [
    "rfc.set_params(max_features=0.3, min_samples_split=2, n_estimators=90)\n",
    "rfc.fit(Xtr, ytr)"
   ]
  },
  {
   "cell_type": "code",
   "execution_count": 14,
   "metadata": {},
   "outputs": [
    {
     "name": "stdout",
     "output_type": "stream",
     "text": [
      "topic19 importance: 0.12848\n",
      "issue_type importance: 0.08766\n",
      "topic20 importance: 0.07580\n",
      "topic6 importance: 0.05249\n",
      "topic7 importance: 0.05021\n",
      "topic13 importance: 0.04892\n",
      "topic18 importance: 0.04671\n",
      "topic12 importance: 0.04375\n",
      "topic9 importance: 0.04246\n",
      "topic10 importance: 0.04217\n",
      "topic11 importance: 0.04078\n",
      "topic17 importance: 0.03844\n",
      "topic2 importance: 0.03708\n",
      "topic3 importance: 0.03657\n",
      "topic5 importance: 0.03517\n",
      "topic1 importance: 0.03403\n",
      "topic4 importance: 0.03336\n",
      "topic14 importance: 0.03253\n",
      "topic8 importance: 0.03199\n",
      "topic16 importance: 0.03072\n",
      "topic15 importance: 0.03068\n"
     ]
    }
   ],
   "source": [
    "for imp, col in sorted(zip(rfc.feature_importances_, Xtr.columns), reverse=True):\n",
    "    print('{} importance: {:.5f}'.format(col, imp))"
   ]
  },
  {
   "cell_type": "code",
   "execution_count": 15,
   "metadata": {},
   "outputs": [
    {
     "name": "stdout",
     "output_type": "stream",
     "text": [
      "Accuracy: 0.7106045589692765\n",
      "Recall: 0.7106045589692765\n",
      "Precision: 0.6895518954054446\n",
      "F1: 0.6964414982971537\n"
     ]
    }
   ],
   "source": [
    "ypred_ts = rfc.predict(Xts)\n",
    "ypred_ts_proba = rfc.predict_proba(Xts)\n",
    "print('Accuracy: {}'.format(accuracy_score(yts, ypred_ts)))\n",
    "print('Recall: {}'.format(recall_score(yts, ypred_ts, average='weighted')))\n",
    "print('Precision: {}'.format(precision_score(yts, ypred_ts, average='weighted')))\n",
    "print('F1: {}'.format(f1_score(yts, ypred_ts, average='weighted')))"
   ]
  },
  {
   "cell_type": "markdown",
   "metadata": {},
   "source": [
    "This model gives me an F1 score of almost 0.7, with very balanced accuracy, precision and recall.\n",
    "\n",
    "The confusion matrix tells me that the model is not very precise in determining \"ISAHD Altro\" label, which is quite generic and in general it's confused with many other issues' categories. There are also problems in identifying the least numerous categories, such as \"OTHER\", \"ISAHD Rilascio\" and \"ISAHD Estrazione effettuata\"."
   ]
  },
  {
   "cell_type": "code",
   "execution_count": 16,
   "metadata": {},
   "outputs": [
    {
     "data": {
      "text/html": [
       "<div>\n",
       "<style>\n",
       "    .dataframe thead tr:only-child th {\n",
       "        text-align: right;\n",
       "    }\n",
       "\n",
       "    .dataframe thead th {\n",
       "        text-align: left;\n",
       "    }\n",
       "\n",
       "    .dataframe tbody tr th {\n",
       "        vertical-align: top;\n",
       "    }\n",
       "</style>\n",
       "<table border=\"1\" class=\"dataframe\">\n",
       "  <thead>\n",
       "    <tr style=\"text-align: right;\">\n",
       "      <th></th>\n",
       "      <th>ISAHD Altro</th>\n",
       "      <th>ISAHD Estrazione effettuata</th>\n",
       "      <th>ISAHD Forzatura dati</th>\n",
       "      <th>ISAHD Intervento</th>\n",
       "      <th>ISAHD Riesecuzione procedura</th>\n",
       "      <th>ISAHD Rilascio</th>\n",
       "      <th>ISAITAMDWH</th>\n",
       "      <th>ISAITAMS</th>\n",
       "      <th>OTHER</th>\n",
       "      <th>SCAI</th>\n",
       "    </tr>\n",
       "  </thead>\n",
       "  <tbody>\n",
       "    <tr>\n",
       "      <th>ISAHD Altro</th>\n",
       "      <td>189</td>\n",
       "      <td>9</td>\n",
       "      <td>151</td>\n",
       "      <td>88</td>\n",
       "      <td>82</td>\n",
       "      <td>1</td>\n",
       "      <td>12</td>\n",
       "      <td>43</td>\n",
       "      <td>1</td>\n",
       "      <td>15</td>\n",
       "    </tr>\n",
       "    <tr>\n",
       "      <th>ISAHD Estrazione effettuata</th>\n",
       "      <td>13</td>\n",
       "      <td>6</td>\n",
       "      <td>15</td>\n",
       "      <td>6</td>\n",
       "      <td>2</td>\n",
       "      <td>0</td>\n",
       "      <td>14</td>\n",
       "      <td>1</td>\n",
       "      <td>0</td>\n",
       "      <td>0</td>\n",
       "    </tr>\n",
       "    <tr>\n",
       "      <th>ISAHD Forzatura dati</th>\n",
       "      <td>79</td>\n",
       "      <td>0</td>\n",
       "      <td>1520</td>\n",
       "      <td>22</td>\n",
       "      <td>15</td>\n",
       "      <td>0</td>\n",
       "      <td>2</td>\n",
       "      <td>14</td>\n",
       "      <td>0</td>\n",
       "      <td>14</td>\n",
       "    </tr>\n",
       "    <tr>\n",
       "      <th>ISAHD Intervento</th>\n",
       "      <td>67</td>\n",
       "      <td>0</td>\n",
       "      <td>69</td>\n",
       "      <td>298</td>\n",
       "      <td>22</td>\n",
       "      <td>0</td>\n",
       "      <td>2</td>\n",
       "      <td>5</td>\n",
       "      <td>0</td>\n",
       "      <td>7</td>\n",
       "    </tr>\n",
       "    <tr>\n",
       "      <th>ISAHD Riesecuzione procedura</th>\n",
       "      <td>53</td>\n",
       "      <td>3</td>\n",
       "      <td>20</td>\n",
       "      <td>7</td>\n",
       "      <td>612</td>\n",
       "      <td>2</td>\n",
       "      <td>3</td>\n",
       "      <td>11</td>\n",
       "      <td>0</td>\n",
       "      <td>4</td>\n",
       "    </tr>\n",
       "    <tr>\n",
       "      <th>ISAHD Rilascio</th>\n",
       "      <td>2</td>\n",
       "      <td>0</td>\n",
       "      <td>4</td>\n",
       "      <td>1</td>\n",
       "      <td>2</td>\n",
       "      <td>0</td>\n",
       "      <td>1</td>\n",
       "      <td>1</td>\n",
       "      <td>0</td>\n",
       "      <td>2</td>\n",
       "    </tr>\n",
       "    <tr>\n",
       "      <th>ISAITAMDWH</th>\n",
       "      <td>15</td>\n",
       "      <td>3</td>\n",
       "      <td>0</td>\n",
       "      <td>0</td>\n",
       "      <td>1</td>\n",
       "      <td>0</td>\n",
       "      <td>82</td>\n",
       "      <td>0</td>\n",
       "      <td>0</td>\n",
       "      <td>0</td>\n",
       "    </tr>\n",
       "    <tr>\n",
       "      <th>ISAITAMS</th>\n",
       "      <td>88</td>\n",
       "      <td>0</td>\n",
       "      <td>33</td>\n",
       "      <td>7</td>\n",
       "      <td>25</td>\n",
       "      <td>0</td>\n",
       "      <td>0</td>\n",
       "      <td>108</td>\n",
       "      <td>1</td>\n",
       "      <td>2</td>\n",
       "    </tr>\n",
       "    <tr>\n",
       "      <th>OTHER</th>\n",
       "      <td>3</td>\n",
       "      <td>0</td>\n",
       "      <td>0</td>\n",
       "      <td>2</td>\n",
       "      <td>0</td>\n",
       "      <td>0</td>\n",
       "      <td>1</td>\n",
       "      <td>7</td>\n",
       "      <td>4</td>\n",
       "      <td>0</td>\n",
       "    </tr>\n",
       "    <tr>\n",
       "      <th>SCAI</th>\n",
       "      <td>36</td>\n",
       "      <td>0</td>\n",
       "      <td>23</td>\n",
       "      <td>4</td>\n",
       "      <td>18</td>\n",
       "      <td>0</td>\n",
       "      <td>0</td>\n",
       "      <td>12</td>\n",
       "      <td>0</td>\n",
       "      <td>49</td>\n",
       "    </tr>\n",
       "  </tbody>\n",
       "</table>\n",
       "</div>"
      ],
      "text/plain": [
       "                              ISAHD Altro  ISAHD Estrazione effettuata  \\\n",
       "ISAHD Altro                           189                            9   \n",
       "ISAHD Estrazione effettuata            13                            6   \n",
       "ISAHD Forzatura dati                   79                            0   \n",
       "ISAHD Intervento                       67                            0   \n",
       "ISAHD Riesecuzione procedura           53                            3   \n",
       "ISAHD Rilascio                          2                            0   \n",
       "ISAITAMDWH                             15                            3   \n",
       "ISAITAMS                               88                            0   \n",
       "OTHER                                   3                            0   \n",
       "SCAI                                   36                            0   \n",
       "\n",
       "                              ISAHD Forzatura dati  ISAHD Intervento  \\\n",
       "ISAHD Altro                                    151                88   \n",
       "ISAHD Estrazione effettuata                     15                 6   \n",
       "ISAHD Forzatura dati                          1520                22   \n",
       "ISAHD Intervento                                69               298   \n",
       "ISAHD Riesecuzione procedura                    20                 7   \n",
       "ISAHD Rilascio                                   4                 1   \n",
       "ISAITAMDWH                                       0                 0   \n",
       "ISAITAMS                                        33                 7   \n",
       "OTHER                                            0                 2   \n",
       "SCAI                                            23                 4   \n",
       "\n",
       "                              ISAHD Riesecuzione procedura  ISAHD Rilascio  \\\n",
       "ISAHD Altro                                             82               1   \n",
       "ISAHD Estrazione effettuata                              2               0   \n",
       "ISAHD Forzatura dati                                    15               0   \n",
       "ISAHD Intervento                                        22               0   \n",
       "ISAHD Riesecuzione procedura                           612               2   \n",
       "ISAHD Rilascio                                           2               0   \n",
       "ISAITAMDWH                                               1               0   \n",
       "ISAITAMS                                                25               0   \n",
       "OTHER                                                    0               0   \n",
       "SCAI                                                    18               0   \n",
       "\n",
       "                              ISAITAMDWH  ISAITAMS  OTHER  SCAI  \n",
       "ISAHD Altro                           12        43      1    15  \n",
       "ISAHD Estrazione effettuata           14         1      0     0  \n",
       "ISAHD Forzatura dati                   2        14      0    14  \n",
       "ISAHD Intervento                       2         5      0     7  \n",
       "ISAHD Riesecuzione procedura           3        11      0     4  \n",
       "ISAHD Rilascio                         1         1      0     2  \n",
       "ISAITAMDWH                            82         0      0     0  \n",
       "ISAITAMS                               0       108      1     2  \n",
       "OTHER                                  1         7      4     0  \n",
       "SCAI                                   0        12      0    49  "
      ]
     },
     "execution_count": 16,
     "metadata": {},
     "output_type": "execute_result"
    }
   ],
   "source": [
    "pd.DataFrame(confusion_matrix(le2.inverse_transform(yts), le2.inverse_transform(ypred_ts)),\n",
    "             index=le2.classes_,\n",
    "             columns=le2.classes_)"
   ]
  },
  {
   "cell_type": "markdown",
   "metadata": {},
   "source": [
    "## Conclusions"
   ]
  },
  {
   "cell_type": "markdown",
   "metadata": {},
   "source": [
    "In this project I used some NLP techniques to analyze textual data about incoming IT requests, using topic modeling to try and predict how an issues has to be addressed in order to correctly solve it. Since there are a lot of ways to solve an issue this is a multi-class prediction, in which some of the classes are very difficult to predict correctly since they occur rarely.\n",
    "\n",
    "The final F1 score is near 0.7, which leaves room for improvement for sure: I could be more precise in eliminating noise words and try to collect more issues in order to have more data for the least frequent categories."
   ]
  },
  {
   "cell_type": "markdown",
   "metadata": {},
   "source": [
    "## Further Analysis"
   ]
  },
  {
   "cell_type": "markdown",
   "metadata": {},
   "source": [
    "If I had more time I would have tried:\n",
    "\n",
    "- to add more topics to my dataset\n",
    "- to determine a list of words inherent to the language used in requesting something (such as greetings, thanking and so on)\n",
    "- to see how the predictions change by adding the name of the person who created the ticket"
   ]
  }
 ],
 "metadata": {
  "kernelspec": {
   "display_name": "Python 3",
   "language": "python",
   "name": "python3"
  },
  "language_info": {
   "codemirror_mode": {
    "name": "ipython",
    "version": 3
   },
   "file_extension": ".py",
   "mimetype": "text/x-python",
   "name": "python",
   "nbconvert_exporter": "python",
   "pygments_lexer": "ipython3",
   "version": "3.6.3"
  }
 },
 "nbformat": 4,
 "nbformat_minor": 2
}
