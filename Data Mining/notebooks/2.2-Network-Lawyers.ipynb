{
 "cells": [
  {
   "cell_type": "markdown",
   "metadata": {},
   "source": [
    "# Fraud Detection Project"
   ]
  },
  {
   "cell_type": "markdown",
   "metadata": {},
   "source": [
    "## Previous Notebooks\n",
    "\n",
    "- [EDA](1-EDA.ipynb)\n",
    "- [Network Analysis](2.1-Network.ipynb)"
   ]
  },
  {
   "cell_type": "code",
   "execution_count": 1,
   "metadata": {},
   "outputs": [],
   "source": [
    "import numpy as np\n",
    "import pandas as pd\n",
    "import networkx as nx"
   ]
  },
  {
   "cell_type": "markdown",
   "metadata": {},
   "source": [
    "In this notebook I will propagate the PageRank calculated for the entities involved in a claim to all the lawyers involved in a claim; then again I will use this scores to calculate an overall score for a claim.\n",
    "\n",
    "To propagate the score I will create a network of all lawyers and entities, using claims as links, and calculate PageRank on the resulting graph assigning the previously calculated weights to the entities and 0 to the lawyers as a starting score."
   ]
  },
  {
   "cell_type": "code",
   "execution_count": 2,
   "metadata": {},
   "outputs": [],
   "source": [
    "network = pd.read_csv('../data/raw/network_lawyers.csv', sep=';')"
   ]
  },
  {
   "cell_type": "code",
   "execution_count": 3,
   "metadata": {},
   "outputs": [],
   "source": [
    "nw = nx.MultiGraph()\n",
    "nw.add_edges_from(network[['id_lt', 'id_rt']].values);"
   ]
  },
  {
   "cell_type": "code",
   "execution_count": 4,
   "metadata": {},
   "outputs": [
    {
     "name": "stdout",
     "output_type": "stream",
     "text": [
      "Number of nodes: 62523\n",
      "Number of edges: 98945\n",
      "Number of connected components: 8652\n"
     ]
    }
   ],
   "source": [
    "print('Number of nodes: {}\\nNumber of edges: {}\\nNumber of connected components: {}'\n",
    "      .format(nw.number_of_nodes(), nw.number_of_edges(), nx.number_connected_components(nw)))"
   ]
  },
  {
   "cell_type": "code",
   "execution_count": 5,
   "metadata": {},
   "outputs": [],
   "source": [
    "node_scores = pd.read_pickle('../data/interim/node_scores.pkl')"
   ]
  },
  {
   "cell_type": "code",
   "execution_count": 6,
   "metadata": {},
   "outputs": [],
   "source": [
    "weights_df = pd.DataFrame(list(nw.nodes())).merge(node_scores, how='left', left_on=0, right_index=True)\\\n",
    "                .drop('weights', axis=1).rename(columns={0:'id'})"
   ]
  },
  {
   "cell_type": "code",
   "execution_count": 7,
   "metadata": {},
   "outputs": [
    {
     "data": {
      "text/plain": [
       "0.2930087487668862"
      ]
     },
     "execution_count": 7,
     "metadata": {},
     "output_type": "execute_result"
    }
   ],
   "source": [
    "weights_df['pagerank'].sum()"
   ]
  },
  {
   "cell_type": "markdown",
   "metadata": {},
   "source": [
    "I'm normalizing the weights to make them sum to 1, as it is requested by PageRank:"
   ]
  },
  {
   "cell_type": "code",
   "execution_count": 8,
   "metadata": {},
   "outputs": [
    {
     "data": {
      "text/plain": [
       "1.0000000000005436"
      ]
     },
     "execution_count": 8,
     "metadata": {},
     "output_type": "execute_result"
    }
   ],
   "source": [
    "weights = (weights_df['pagerank'] / weights_df['pagerank'].sum()).fillna(0).values\n",
    "weights.sum()"
   ]
  },
  {
   "cell_type": "markdown",
   "metadata": {},
   "source": [
    "## PageRank"
   ]
  },
  {
   "cell_type": "code",
   "execution_count": 9,
   "metadata": {},
   "outputs": [],
   "source": [
    "from scipy import sparse\n",
    "from sklearn.preprocessing import normalize"
   ]
  },
  {
   "cell_type": "code",
   "execution_count": 10,
   "metadata": {},
   "outputs": [],
   "source": [
    "adj = nx.adj_matrix(nw, weight=None)\n",
    "M = normalize(adj, norm='l1', axis=1)"
   ]
  },
  {
   "cell_type": "code",
   "execution_count": 11,
   "metadata": {},
   "outputs": [],
   "source": [
    "v = weights.reshape(-1, 1)"
   ]
  },
  {
   "cell_type": "code",
   "execution_count": 12,
   "metadata": {},
   "outputs": [],
   "source": [
    "# initializing the rank with 1/number of nodes\n",
    "r = np.ones(len(v)) / len(v)\n",
    "r = r.reshape(-1, 1)"
   ]
  },
  {
   "cell_type": "code",
   "execution_count": 13,
   "metadata": {},
   "outputs": [],
   "source": [
    "# precision level\n",
    "eps = 1e-9\n",
    "d = 0.9 # damping factor\n",
    "r_prev = r\n",
    "r = d * M.T.dot(r_prev) + (1-d) * v\n",
    "while np.linalg.norm(r - r_prev) > eps:\n",
    "    r_prev = r\n",
    "    r = d * M.T.dot(r_prev) + (1-d) * v"
   ]
  },
  {
   "cell_type": "code",
   "execution_count": 14,
   "metadata": {},
   "outputs": [],
   "source": [
    "node_scores = pd.DataFrame(np.hstack([v, r]), index=list(weights_df['id']))\n",
    "node_scores.rename(columns={0: 'weights', 1:'pagerank'}, inplace=True)"
   ]
  },
  {
   "cell_type": "code",
   "execution_count": 15,
   "metadata": {},
   "outputs": [
    {
     "data": {
      "text/html": [
       "<div>\n",
       "<style>\n",
       "    .dataframe thead tr:only-child th {\n",
       "        text-align: right;\n",
       "    }\n",
       "\n",
       "    .dataframe thead th {\n",
       "        text-align: left;\n",
       "    }\n",
       "\n",
       "    .dataframe tbody tr th {\n",
       "        vertical-align: top;\n",
       "    }\n",
       "</style>\n",
       "<table border=\"1\" class=\"dataframe\">\n",
       "  <thead>\n",
       "    <tr style=\"text-align: right;\">\n",
       "      <th></th>\n",
       "      <th>weights</th>\n",
       "      <th>pagerank</th>\n",
       "    </tr>\n",
       "  </thead>\n",
       "  <tbody>\n",
       "    <tr>\n",
       "      <th>195922</th>\n",
       "      <td>0.0</td>\n",
       "      <td>0.008453</td>\n",
       "    </tr>\n",
       "    <tr>\n",
       "      <th>197116</th>\n",
       "      <td>0.0</td>\n",
       "      <td>0.002025</td>\n",
       "    </tr>\n",
       "    <tr>\n",
       "      <th>194163</th>\n",
       "      <td>0.0</td>\n",
       "      <td>0.001858</td>\n",
       "    </tr>\n",
       "    <tr>\n",
       "      <th>193391</th>\n",
       "      <td>0.0</td>\n",
       "      <td>0.001026</td>\n",
       "    </tr>\n",
       "    <tr>\n",
       "      <th>196018</th>\n",
       "      <td>0.0</td>\n",
       "      <td>0.000982</td>\n",
       "    </tr>\n",
       "    <tr>\n",
       "      <th>194995</th>\n",
       "      <td>0.0</td>\n",
       "      <td>0.000827</td>\n",
       "    </tr>\n",
       "    <tr>\n",
       "      <th>207774</th>\n",
       "      <td>0.0</td>\n",
       "      <td>0.000786</td>\n",
       "    </tr>\n",
       "    <tr>\n",
       "      <th>200277</th>\n",
       "      <td>0.0</td>\n",
       "      <td>0.000775</td>\n",
       "    </tr>\n",
       "    <tr>\n",
       "      <th>195022</th>\n",
       "      <td>0.0</td>\n",
       "      <td>0.000742</td>\n",
       "    </tr>\n",
       "    <tr>\n",
       "      <th>199514</th>\n",
       "      <td>0.0</td>\n",
       "      <td>0.000720</td>\n",
       "    </tr>\n",
       "    <tr>\n",
       "      <th>196850</th>\n",
       "      <td>0.0</td>\n",
       "      <td>0.000719</td>\n",
       "    </tr>\n",
       "    <tr>\n",
       "      <th>193900</th>\n",
       "      <td>0.0</td>\n",
       "      <td>0.000685</td>\n",
       "    </tr>\n",
       "    <tr>\n",
       "      <th>195837</th>\n",
       "      <td>0.0</td>\n",
       "      <td>0.000658</td>\n",
       "    </tr>\n",
       "    <tr>\n",
       "      <th>200406</th>\n",
       "      <td>0.0</td>\n",
       "      <td>0.000602</td>\n",
       "    </tr>\n",
       "    <tr>\n",
       "      <th>193100</th>\n",
       "      <td>0.0</td>\n",
       "      <td>0.000593</td>\n",
       "    </tr>\n",
       "    <tr>\n",
       "      <th>196666</th>\n",
       "      <td>0.0</td>\n",
       "      <td>0.000587</td>\n",
       "    </tr>\n",
       "    <tr>\n",
       "      <th>194998</th>\n",
       "      <td>0.0</td>\n",
       "      <td>0.000557</td>\n",
       "    </tr>\n",
       "    <tr>\n",
       "      <th>198777</th>\n",
       "      <td>0.0</td>\n",
       "      <td>0.000537</td>\n",
       "    </tr>\n",
       "    <tr>\n",
       "      <th>193481</th>\n",
       "      <td>0.0</td>\n",
       "      <td>0.000526</td>\n",
       "    </tr>\n",
       "    <tr>\n",
       "      <th>204617</th>\n",
       "      <td>0.0</td>\n",
       "      <td>0.000524</td>\n",
       "    </tr>\n",
       "    <tr>\n",
       "      <th>201000</th>\n",
       "      <td>0.0</td>\n",
       "      <td>0.000476</td>\n",
       "    </tr>\n",
       "    <tr>\n",
       "      <th>203386</th>\n",
       "      <td>0.0</td>\n",
       "      <td>0.000474</td>\n",
       "    </tr>\n",
       "    <tr>\n",
       "      <th>208177</th>\n",
       "      <td>0.0</td>\n",
       "      <td>0.000473</td>\n",
       "    </tr>\n",
       "    <tr>\n",
       "      <th>193421</th>\n",
       "      <td>0.0</td>\n",
       "      <td>0.000465</td>\n",
       "    </tr>\n",
       "    <tr>\n",
       "      <th>201307</th>\n",
       "      <td>0.0</td>\n",
       "      <td>0.000443</td>\n",
       "    </tr>\n",
       "  </tbody>\n",
       "</table>\n",
       "</div>"
      ],
      "text/plain": [
       "        weights  pagerank\n",
       "195922      0.0  0.008453\n",
       "197116      0.0  0.002025\n",
       "194163      0.0  0.001858\n",
       "193391      0.0  0.001026\n",
       "196018      0.0  0.000982\n",
       "194995      0.0  0.000827\n",
       "207774      0.0  0.000786\n",
       "200277      0.0  0.000775\n",
       "195022      0.0  0.000742\n",
       "199514      0.0  0.000720\n",
       "196850      0.0  0.000719\n",
       "193900      0.0  0.000685\n",
       "195837      0.0  0.000658\n",
       "200406      0.0  0.000602\n",
       "193100      0.0  0.000593\n",
       "196666      0.0  0.000587\n",
       "194998      0.0  0.000557\n",
       "198777      0.0  0.000537\n",
       "193481      0.0  0.000526\n",
       "204617      0.0  0.000524\n",
       "201000      0.0  0.000476\n",
       "203386      0.0  0.000474\n",
       "208177      0.0  0.000473\n",
       "193421      0.0  0.000465\n",
       "201307      0.0  0.000443"
      ]
     },
     "execution_count": 15,
     "metadata": {},
     "output_type": "execute_result"
    }
   ],
   "source": [
    "node_scores.loc[network['id_rt'].unique()].sort_values(by='pagerank', ascending=False).head(25)"
   ]
  },
  {
   "cell_type": "markdown",
   "metadata": {},
   "source": [
    "## Scoring the Claims\n",
    "\n",
    "As previously I'm going to use the mean of the scores of all the lawyers involved."
   ]
  },
  {
   "cell_type": "code",
   "execution_count": 16,
   "metadata": {},
   "outputs": [],
   "source": [
    "network = network.merge(node_scores, how='left', left_on='id_rt', right_index=True)\\\n",
    "                .drop('weights', axis=1).rename(columns={'pagerank':'lawyer_pagerank'})"
   ]
  },
  {
   "cell_type": "code",
   "execution_count": 17,
   "metadata": {},
   "outputs": [],
   "source": [
    "network['lawyer_score'] = network['lawyer_pagerank']"
   ]
  },
  {
   "cell_type": "code",
   "execution_count": 18,
   "metadata": {
    "scrolled": false
   },
   "outputs": [],
   "source": [
    "nw_scores = network.groupby('claim_code')['lawyer_score'].mean().reset_index()\n",
    "nw_scores.to_pickle('../data/interim/lawyers_network_scores.pkl')"
   ]
  },
  {
   "cell_type": "markdown",
   "metadata": {},
   "source": [
    "## Following Notebooks\n",
    "\n",
    "- [Witnesses' Network Analysis](2.3-Network-Witnesses.ipynb)\n",
    "- [Dataset Creation](3-Input_dataset_creation.ipynb)\n",
    "- [Random Forest Prediction](4-Model.ipynb)"
   ]
  }
 ],
 "metadata": {
  "kernelspec": {
   "display_name": "Python 3",
   "language": "python",
   "name": "python3"
  },
  "language_info": {
   "codemirror_mode": {
    "name": "ipython",
    "version": 3
   },
   "file_extension": ".py",
   "mimetype": "text/x-python",
   "name": "python",
   "nbconvert_exporter": "python",
   "pygments_lexer": "ipython3",
   "version": "3.6.3"
  }
 },
 "nbformat": 4,
 "nbformat_minor": 2
}
