{
 "cells": [
  {
   "cell_type": "markdown",
   "metadata": {},
   "source": [
    "# Fraud Detection Project"
   ]
  },
  {
   "cell_type": "markdown",
   "metadata": {},
   "source": [
    "## Previous Notebooks\n",
    "\n",
    "- [EDA](1-EDA.ipynb)\n",
    "- [Network Analysis](2.1-Network.ipynb)\n",
    "- [Lawyers' Network Analysis](2.2-Network-Lawyers.ipynb)\n",
    "- [Witnesses' Network Analysis](2.3-Network-Witnesses.ipynb)\n",
    "- [Dataset Creation](3-Input_dataset_creation.ipynb)"
   ]
  },
  {
   "cell_type": "code",
   "execution_count": 1,
   "metadata": {},
   "outputs": [],
   "source": [
    "import numpy as np\n",
    "import pandas as pd\n",
    "import matplotlib.pyplot as plt\n",
    "# import seaborn as sns\n",
    "%matplotlib inline"
   ]
  },
  {
   "cell_type": "code",
   "execution_count": 2,
   "metadata": {},
   "outputs": [],
   "source": [
    "from sklearn.model_selection import train_test_split, GridSearchCV, StratifiedKFold\n",
    "from sklearn.ensemble import RandomForestClassifier\n",
    "from sklearn.linear_model import LogisticRegression\n",
    "from sklearn.preprocessing import LabelEncoder, StandardScaler\n",
    "from sklearn.cluster import KMeans\n",
    "from sklearn.neighbors import LocalOutlierFactor\n",
    "from sklearn.metrics import f1_score, precision_recall_curve, confusion_matrix, accuracy_score, recall_score, precision_score, make_scorer"
   ]
  },
  {
   "cell_type": "markdown",
   "metadata": {},
   "source": [
    "## Model\n",
    "\n",
    "In this last notebook I'm going to compare various models to determine whether a claim is fraudolent or not:\n",
    "\n",
    "- random forest\n",
    "- random forest without province\n",
    "- stacking of random forests with different input features\n",
    "- anomaly detection"
   ]
  },
  {
   "cell_type": "code",
   "execution_count": 3,
   "metadata": {},
   "outputs": [],
   "source": [
    "X = pd.read_pickle('../data/processed/claims.pkl')"
   ]
  },
  {
   "cell_type": "code",
   "execution_count": 4,
   "metadata": {},
   "outputs": [
    {
     "name": "stdout",
     "output_type": "stream",
     "text": [
      "<class 'pandas.core.frame.DataFrame'>\n",
      "Int64Index: 92245 entries, 2010010000083100 to 2017079430026300\n",
      "Data columns (total 17 columns):\n",
      "black_box                   92245 non-null int64\n",
      "black_box_active            92245 non-null int64\n",
      "accident_province           92245 non-null object\n",
      "n_vehicles                  92245 non-null int64\n",
      "n_people                    92245 non-null int64\n",
      "card                        92245 non-null int64\n",
      "injury                      92245 non-null int64\n",
      "rca                         92245 non-null int64\n",
      "n_signatures                92245 non-null int64\n",
      "filing_diff                 92245 non-null int64\n",
      "filing_month                92245 non-null int64\n",
      "company_score               92245 non-null float64\n",
      "score                       92245 non-null float64\n",
      "lawyer_score                92245 non-null float64\n",
      "witness_score               92245 non-null float64\n",
      "total_outgoing_provision    92245 non-null float64\n",
      "fraud_indicator             92245 non-null int64\n",
      "dtypes: float64(5), int64(11), object(1)\n",
      "memory usage: 12.7+ MB\n"
     ]
    }
   ],
   "source": [
    "X.info()"
   ]
  },
  {
   "cell_type": "code",
   "execution_count": 5,
   "metadata": {},
   "outputs": [],
   "source": [
    "le = LabelEncoder()\n",
    "le.fit(X['accident_province'])\n",
    "X['accident_province'] = le.transform(X['accident_province'])"
   ]
  },
  {
   "cell_type": "code",
   "execution_count": 6,
   "metadata": {},
   "outputs": [],
   "source": [
    "Xtrain, Xtest, ytrain, ytest = train_test_split(X.drop(['company_score', 'fraud_indicator'], axis=1),\n",
    "                                                X[['company_score', 'fraud_indicator']],\n",
    "                                                test_size=0.2,\n",
    "                                                stratify=X['fraud_indicator'],\n",
    "                                                random_state=7)"
   ]
  },
  {
   "cell_type": "code",
   "execution_count": 7,
   "metadata": {},
   "outputs": [],
   "source": [
    "ytrain_score = ytrain['company_score']\n",
    "ytest_score = ytest['company_score']\n",
    "ytrain_ind = ytrain['fraud_indicator']\n",
    "ytest_ind = ytest['fraud_indicator']"
   ]
  },
  {
   "cell_type": "code",
   "execution_count": 8,
   "metadata": {},
   "outputs": [],
   "source": [
    "kf = StratifiedKFold(n_splits=5, random_state=25)"
   ]
  },
  {
   "cell_type": "markdown",
   "metadata": {},
   "source": [
    "## Random Forest"
   ]
  },
  {
   "cell_type": "code",
   "execution_count": 9,
   "metadata": {},
   "outputs": [],
   "source": [
    "rfc = RandomForestClassifier()"
   ]
  },
  {
   "cell_type": "code",
   "execution_count": 10,
   "metadata": {
    "scrolled": false
   },
   "outputs": [
    {
     "name": "stdout",
     "output_type": "stream",
     "text": [
      "Fitting 5 folds for each of 480 candidates, totalling 2400 fits\n"
     ]
    },
    {
     "name": "stderr",
     "output_type": "stream",
     "text": [
      "[Parallel(n_jobs=-1)]: Done   5 tasks      | elapsed:    7.7s\n",
      "[Parallel(n_jobs=-1)]: Done  10 tasks      | elapsed:   11.0s\n",
      "[Parallel(n_jobs=-1)]: Done  17 tasks      | elapsed:   18.2s\n",
      "[Parallel(n_jobs=-1)]: Done  24 tasks      | elapsed:   27.5s\n",
      "[Parallel(n_jobs=-1)]: Done  33 tasks      | elapsed:   40.0s\n",
      "[Parallel(n_jobs=-1)]: Done  42 tasks      | elapsed:   51.4s\n",
      "[Parallel(n_jobs=-1)]: Done  53 tasks      | elapsed:   59.4s\n",
      "[Parallel(n_jobs=-1)]: Done  64 tasks      | elapsed:  1.2min\n",
      "[Parallel(n_jobs=-1)]: Done  77 tasks      | elapsed:  1.5min\n",
      "[Parallel(n_jobs=-1)]: Done  90 tasks      | elapsed:  1.7min\n",
      "[Parallel(n_jobs=-1)]: Done 105 tasks      | elapsed:  1.9min\n",
      "[Parallel(n_jobs=-1)]: Done 120 tasks      | elapsed:  2.3min\n",
      "[Parallel(n_jobs=-1)]: Done 137 tasks      | elapsed:  2.5min\n",
      "[Parallel(n_jobs=-1)]: Done 154 tasks      | elapsed:  2.8min\n",
      "[Parallel(n_jobs=-1)]: Done 173 tasks      | elapsed:  3.1min\n",
      "[Parallel(n_jobs=-1)]: Done 192 tasks      | elapsed:  3.5min\n",
      "[Parallel(n_jobs=-1)]: Done 213 tasks      | elapsed:  3.9min\n",
      "[Parallel(n_jobs=-1)]: Done 234 tasks      | elapsed:  4.3min\n",
      "[Parallel(n_jobs=-1)]: Done 257 tasks      | elapsed:  4.7min\n",
      "[Parallel(n_jobs=-1)]: Done 280 tasks      | elapsed:  5.3min\n",
      "[Parallel(n_jobs=-1)]: Done 305 tasks      | elapsed:  5.7min\n",
      "[Parallel(n_jobs=-1)]: Done 330 tasks      | elapsed:  6.2min\n",
      "[Parallel(n_jobs=-1)]: Done 357 tasks      | elapsed:  6.9min\n",
      "[Parallel(n_jobs=-1)]: Done 384 tasks      | elapsed:  7.4min\n",
      "[Parallel(n_jobs=-1)]: Done 413 tasks      | elapsed:  8.1min\n",
      "[Parallel(n_jobs=-1)]: Done 442 tasks      | elapsed:  8.9min\n",
      "[Parallel(n_jobs=-1)]: Done 473 tasks      | elapsed:  9.5min\n",
      "[Parallel(n_jobs=-1)]: Done 504 tasks      | elapsed: 10.3min\n",
      "[Parallel(n_jobs=-1)]: Done 537 tasks      | elapsed: 11.1min\n",
      "[Parallel(n_jobs=-1)]: Done 570 tasks      | elapsed: 12.0min\n",
      "[Parallel(n_jobs=-1)]: Done 605 tasks      | elapsed: 13.0min\n",
      "[Parallel(n_jobs=-1)]: Done 640 tasks      | elapsed: 14.0min\n",
      "[Parallel(n_jobs=-1)]: Done 677 tasks      | elapsed: 15.1min\n",
      "[Parallel(n_jobs=-1)]: Done 714 tasks      | elapsed: 16.2min\n",
      "[Parallel(n_jobs=-1)]: Done 753 tasks      | elapsed: 17.4min\n",
      "[Parallel(n_jobs=-1)]: Done 792 tasks      | elapsed: 18.5min\n",
      "[Parallel(n_jobs=-1)]: Done 833 tasks      | elapsed: 19.9min\n",
      "[Parallel(n_jobs=-1)]: Done 874 tasks      | elapsed: 21.3min\n",
      "[Parallel(n_jobs=-1)]: Done 917 tasks      | elapsed: 22.8min\n",
      "[Parallel(n_jobs=-1)]: Done 960 tasks      | elapsed: 24.4min\n",
      "[Parallel(n_jobs=-1)]: Done 1005 tasks      | elapsed: 26.1min\n",
      "[Parallel(n_jobs=-1)]: Done 1050 tasks      | elapsed: 27.8min\n",
      "[Parallel(n_jobs=-1)]: Done 1097 tasks      | elapsed: 29.7min\n",
      "[Parallel(n_jobs=-1)]: Done 1144 tasks      | elapsed: 31.7min\n",
      "[Parallel(n_jobs=-1)]: Done 1193 tasks      | elapsed: 33.8min\n",
      "[Parallel(n_jobs=-1)]: Done 1242 tasks      | elapsed: 35.9min\n",
      "[Parallel(n_jobs=-1)]: Done 1293 tasks      | elapsed: 37.9min\n",
      "[Parallel(n_jobs=-1)]: Done 1344 tasks      | elapsed: 40.2min\n",
      "[Parallel(n_jobs=-1)]: Done 1397 tasks      | elapsed: 42.9min\n",
      "[Parallel(n_jobs=-1)]: Done 1450 tasks      | elapsed: 45.2min\n",
      "[Parallel(n_jobs=-1)]: Done 1505 tasks      | elapsed: 48.0min\n",
      "[Parallel(n_jobs=-1)]: Done 1560 tasks      | elapsed: 51.0min\n",
      "[Parallel(n_jobs=-1)]: Done 1617 tasks      | elapsed: 53.7min\n",
      "[Parallel(n_jobs=-1)]: Done 1674 tasks      | elapsed: 57.1min\n",
      "[Parallel(n_jobs=-1)]: Done 1733 tasks      | elapsed: 60.1min\n",
      "[Parallel(n_jobs=-1)]: Done 1792 tasks      | elapsed: 63.5min\n",
      "[Parallel(n_jobs=-1)]: Done 1853 tasks      | elapsed: 66.8min\n",
      "[Parallel(n_jobs=-1)]: Done 1914 tasks      | elapsed: 70.5min\n",
      "[Parallel(n_jobs=-1)]: Done 1977 tasks      | elapsed: 74.1min\n",
      "[Parallel(n_jobs=-1)]: Done 2040 tasks      | elapsed: 78.4min\n",
      "[Parallel(n_jobs=-1)]: Done 2105 tasks      | elapsed: 82.3min\n",
      "[Parallel(n_jobs=-1)]: Done 2170 tasks      | elapsed: 86.8min\n",
      "[Parallel(n_jobs=-1)]: Done 2237 tasks      | elapsed: 91.9min\n",
      "[Parallel(n_jobs=-1)]: Done 2304 tasks      | elapsed: 96.4min\n",
      "[Parallel(n_jobs=-1)]: Done 2373 tasks      | elapsed: 101.5min\n",
      "[Parallel(n_jobs=-1)]: Done 2400 out of 2400 | elapsed: 103.8min finished\n"
     ]
    },
    {
     "data": {
      "text/plain": [
       "GridSearchCV(cv=StratifiedKFold(n_splits=5, random_state=25, shuffle=False),\n",
       "       error_score='raise',\n",
       "       estimator=RandomForestClassifier(bootstrap=True, class_weight=None, criterion='gini',\n",
       "            max_depth=None, max_features='auto', max_leaf_nodes=None,\n",
       "            min_impurity_decrease=0.0, min_impurity_split=None,\n",
       "            min_samples_leaf=1, min_samples_split=2,\n",
       "            min_weight_fraction_leaf=0.0, n_estimators=10, n_jobs=1,\n",
       "            oob_score=False, random_state=None, verbose=0,\n",
       "            warm_start=False),\n",
       "       fit_params=None, iid=True, n_jobs=-1,\n",
       "       param_grid={'n_estimators': array([ 30,  40,  50,  60,  70,  80,  90, 100]), 'max_features': array([ 1,  2,  3,  4,  5,  6,  7,  8,  9, 10, 11, 12, 13, 14, 15]), 'min_samples_split': array([2, 3, 4, 5])},\n",
       "       pre_dispatch='2*n_jobs', refit=True, return_train_score='warn',\n",
       "       scoring=make_scorer(f1_score), verbose=10)"
      ]
     },
     "execution_count": 10,
     "metadata": {},
     "output_type": "execute_result"
    }
   ],
   "source": [
    "param_grid_rfc = {'n_estimators':np.arange(30, 110, 10),\n",
    "              'max_features':np.arange(1, Xtrain.shape[1]+1, 1),\n",
    "              'min_samples_split': np.arange(2, 6, 1)}\n",
    "\n",
    "gs_rfc = GridSearchCV(estimator=rfc, param_grid=param_grid_rfc, n_jobs=-1, cv=kf, verbose=10, scoring=make_scorer(f1_score))\n",
    "gs_rfc.fit(Xtrain, ytrain_ind)"
   ]
  },
  {
   "cell_type": "code",
   "execution_count": 11,
   "metadata": {},
   "outputs": [
    {
     "name": "stdout",
     "output_type": "stream",
     "text": [
      "0.418412323364\n",
      "{'max_features': 9, 'min_samples_split': 5, 'n_estimators': 60}\n"
     ]
    }
   ],
   "source": [
    "print(gs_rfc.best_score_)\n",
    "print(gs_rfc.best_params_)"
   ]
  },
  {
   "cell_type": "markdown",
   "metadata": {},
   "source": [
    "## Random Forest without Province"
   ]
  },
  {
   "cell_type": "code",
   "execution_count": 12,
   "metadata": {},
   "outputs": [],
   "source": [
    "rfc_noprov = RandomForestClassifier()"
   ]
  },
  {
   "cell_type": "code",
   "execution_count": 15,
   "metadata": {
    "scrolled": false
   },
   "outputs": [
    {
     "name": "stdout",
     "output_type": "stream",
     "text": [
      "Fitting 5 folds for each of 320 candidates, totalling 1600 fits\n"
     ]
    },
    {
     "name": "stderr",
     "output_type": "stream",
     "text": [
      "[Parallel(n_jobs=2)]: Done   1 tasks      | elapsed:    4.7s\n",
      "[Parallel(n_jobs=2)]: Done   4 tasks      | elapsed:    9.0s\n",
      "[Parallel(n_jobs=2)]: Done   9 tasks      | elapsed:   16.7s\n",
      "[Parallel(n_jobs=2)]: Done  14 tasks      | elapsed:   27.3s\n",
      "[Parallel(n_jobs=2)]: Done  21 tasks      | elapsed:   43.8s\n",
      "[Parallel(n_jobs=2)]: Done  28 tasks      | elapsed:  1.1min\n",
      "[Parallel(n_jobs=2)]: Done  37 tasks      | elapsed:  1.6min\n",
      "[Parallel(n_jobs=2)]: Done  46 tasks      | elapsed:  1.9min\n",
      "[Parallel(n_jobs=2)]: Done  57 tasks      | elapsed:  2.3min\n",
      "[Parallel(n_jobs=2)]: Done  68 tasks      | elapsed:  2.8min\n",
      "[Parallel(n_jobs=2)]: Done  81 tasks      | elapsed:  3.5min\n",
      "[Parallel(n_jobs=2)]: Done  94 tasks      | elapsed:  3.9min\n",
      "[Parallel(n_jobs=2)]: Done 109 tasks      | elapsed:  4.5min\n",
      "[Parallel(n_jobs=2)]: Done 124 tasks      | elapsed:  5.3min\n",
      "[Parallel(n_jobs=2)]: Done 141 tasks      | elapsed:  5.8min\n",
      "[Parallel(n_jobs=2)]: Done 158 tasks      | elapsed:  6.9min\n",
      "[Parallel(n_jobs=2)]: Done 177 tasks      | elapsed:  7.5min\n",
      "[Parallel(n_jobs=2)]: Done 196 tasks      | elapsed:  8.8min\n",
      "[Parallel(n_jobs=2)]: Done 217 tasks      | elapsed:  9.6min\n",
      "[Parallel(n_jobs=2)]: Done 238 tasks      | elapsed: 10.9min\n",
      "[Parallel(n_jobs=2)]: Done 261 tasks      | elapsed: 11.9min\n",
      "[Parallel(n_jobs=2)]: Done 284 tasks      | elapsed: 13.2min\n",
      "[Parallel(n_jobs=2)]: Done 309 tasks      | elapsed: 14.4min\n",
      "[Parallel(n_jobs=2)]: Done 334 tasks      | elapsed: 15.7min\n",
      "[Parallel(n_jobs=2)]: Done 361 tasks      | elapsed: 17.5min\n",
      "[Parallel(n_jobs=2)]: Done 388 tasks      | elapsed: 18.8min\n",
      "[Parallel(n_jobs=2)]: Done 417 tasks      | elapsed: 20.4min\n",
      "[Parallel(n_jobs=2)]: Done 446 tasks      | elapsed: 22.3min\n",
      "[Parallel(n_jobs=2)]: Done 477 tasks      | elapsed: 24.1min\n",
      "[Parallel(n_jobs=2)]: Done 508 tasks      | elapsed: 25.8min\n",
      "[Parallel(n_jobs=2)]: Done 541 tasks      | elapsed: 27.7min\n",
      "[Parallel(n_jobs=2)]: Done 574 tasks      | elapsed: 29.7min\n",
      "[Parallel(n_jobs=2)]: Done 609 tasks      | elapsed: 31.8min\n",
      "[Parallel(n_jobs=2)]: Done 644 tasks      | elapsed: 34.0min\n",
      "[Parallel(n_jobs=2)]: Done 681 tasks      | elapsed: 36.4min\n",
      "[Parallel(n_jobs=2)]: Done 718 tasks      | elapsed: 38.7min\n",
      "[Parallel(n_jobs=2)]: Done 757 tasks      | elapsed: 41.1min\n",
      "[Parallel(n_jobs=2)]: Done 796 tasks      | elapsed: 43.5min\n",
      "[Parallel(n_jobs=2)]: Done 837 tasks      | elapsed: 46.3min\n",
      "[Parallel(n_jobs=2)]: Done 878 tasks      | elapsed: 49.2min\n",
      "[Parallel(n_jobs=2)]: Done 921 tasks      | elapsed: 52.1min\n",
      "[Parallel(n_jobs=2)]: Done 964 tasks      | elapsed: 54.9min\n",
      "[Parallel(n_jobs=2)]: Done 1009 tasks      | elapsed: 58.1min\n",
      "[Parallel(n_jobs=2)]: Done 1054 tasks      | elapsed: 61.3min\n",
      "[Parallel(n_jobs=2)]: Done 1101 tasks      | elapsed: 64.7min\n",
      "[Parallel(n_jobs=2)]: Done 1148 tasks      | elapsed: 68.4min\n",
      "[Parallel(n_jobs=2)]: Done 1197 tasks      | elapsed: 72.6min\n",
      "[Parallel(n_jobs=2)]: Done 1246 tasks      | elapsed: 76.2min\n",
      "[Parallel(n_jobs=2)]: Done 1297 tasks      | elapsed: 80.0min\n",
      "[Parallel(n_jobs=2)]: Done 1348 tasks      | elapsed: 84.4min\n",
      "[Parallel(n_jobs=2)]: Done 1401 tasks      | elapsed: 89.2min\n",
      "[Parallel(n_jobs=2)]: Done 1454 tasks      | elapsed: 93.3min\n",
      "[Parallel(n_jobs=2)]: Done 1509 tasks      | elapsed: 98.3min\n",
      "[Parallel(n_jobs=2)]: Done 1564 tasks      | elapsed: 103.4min\n",
      "[Parallel(n_jobs=2)]: Done 1600 out of 1600 | elapsed: 106.8min finished\n"
     ]
    },
    {
     "data": {
      "text/plain": [
       "GridSearchCV(cv=StratifiedKFold(n_splits=5, random_state=25, shuffle=False),\n",
       "       error_score='raise',\n",
       "       estimator=RandomForestClassifier(bootstrap=True, class_weight=None, criterion='gini',\n",
       "            max_depth=None, max_features='auto', max_leaf_nodes=None,\n",
       "            min_impurity_decrease=0.0, min_impurity_split=None,\n",
       "            min_samples_leaf=1, min_samples_split=2,\n",
       "            min_weight_fraction_leaf=0.0, n_estimators=10, n_jobs=1,\n",
       "            oob_score=False, random_state=None, verbose=0,\n",
       "            warm_start=False),\n",
       "       fit_params=None, iid=True, n_jobs=2,\n",
       "       param_grid={'n_estimators': array([ 30,  40,  50,  60,  70,  80,  90, 100]), 'max_features': array([ 5,  6,  7,  8,  9, 10, 11, 12, 13, 14]), 'min_samples_split': array([2, 3, 4, 5])},\n",
       "       pre_dispatch='2*n_jobs', refit=True, return_train_score='warn',\n",
       "       scoring=make_scorer(f1_score), verbose=10)"
      ]
     },
     "execution_count": 15,
     "metadata": {},
     "output_type": "execute_result"
    }
   ],
   "source": [
    "param_grid_noprov = {'n_estimators':np.arange(30, 110, 10),\n",
    "                      'max_features':np.arange(5, Xtrain.shape[1], 1),\n",
    "                      'min_samples_split': np.arange(2, 6, 1)}\n",
    "\n",
    "gs_noprov = GridSearchCV(estimator=rfc_noprov, param_grid=param_grid_noprov, n_jobs=2, cv=kf, verbose=10, scoring=make_scorer(f1_score))\n",
    "gs_noprov.fit(Xtrain.drop(['accident_province'], axis=1), ytrain_ind)"
   ]
  },
  {
   "cell_type": "code",
   "execution_count": 16,
   "metadata": {},
   "outputs": [
    {
     "name": "stdout",
     "output_type": "stream",
     "text": [
      "0.41478661964\n",
      "{'max_features': 12, 'min_samples_split': 3, 'n_estimators': 30}\n"
     ]
    }
   ],
   "source": [
    "print(gs_noprov.best_score_)\n",
    "print(gs_noprov.best_params_)"
   ]
  },
  {
   "cell_type": "markdown",
   "metadata": {},
   "source": [
    "## Stacking"
   ]
  },
  {
   "cell_type": "markdown",
   "metadata": {},
   "source": [
    "For stacking I'm going to further split the data in two separate datasets, one for training three separate random forests with different input features and the other for training a fourth model using the predictions of the first three as features."
   ]
  },
  {
   "cell_type": "code",
   "execution_count": 17,
   "metadata": {},
   "outputs": [],
   "source": [
    "Xtrain_lev1, Xtrain_lev2, ytrain_lev1, ytrain_lev2 = train_test_split(Xtrain,\n",
    "                                                                    ytrain,\n",
    "                                                                    test_size=0.5,\n",
    "                                                                    stratify=ytrain['fraud_indicator'],\n",
    "                                                                    random_state=87)"
   ]
  },
  {
   "cell_type": "code",
   "execution_count": 18,
   "metadata": {},
   "outputs": [],
   "source": [
    "ytrain_lev1_score = ytrain_lev1['company_score']\n",
    "ytrain_lev2_score = ytrain_lev2['company_score']\n",
    "ytrain_lev1_ind = ytrain_lev1['fraud_indicator']\n",
    "ytrain_lev2_ind = ytrain_lev2['fraud_indicator']"
   ]
  },
  {
   "cell_type": "code",
   "execution_count": 19,
   "metadata": {},
   "outputs": [
    {
     "name": "stdout",
     "output_type": "stream",
     "text": [
      "<class 'pandas.core.frame.DataFrame'>\n",
      "Int64Index: 36898 entries, 2016010401853900 to 2015020530004900\n",
      "Data columns (total 15 columns):\n",
      "black_box                   36898 non-null int64\n",
      "black_box_active            36898 non-null int64\n",
      "accident_province           36898 non-null int64\n",
      "n_vehicles                  36898 non-null int64\n",
      "n_people                    36898 non-null int64\n",
      "card                        36898 non-null int64\n",
      "injury                      36898 non-null int64\n",
      "rca                         36898 non-null int64\n",
      "n_signatures                36898 non-null int64\n",
      "filing_diff                 36898 non-null int64\n",
      "filing_month                36898 non-null int64\n",
      "score                       36898 non-null float64\n",
      "lawyer_score                36898 non-null float64\n",
      "witness_score               36898 non-null float64\n",
      "total_outgoing_provision    36898 non-null float64\n",
      "dtypes: float64(4), int64(11)\n",
      "memory usage: 4.5 MB\n"
     ]
    }
   ],
   "source": [
    "Xtrain_lev1.info()"
   ]
  },
  {
   "cell_type": "code",
   "execution_count": 21,
   "metadata": {},
   "outputs": [],
   "source": [
    "Xtrain_rfc1 = Xtrain_lev1[['score', 'card', 'injury', 'rca', 'n_signatures', 'lawyer_score', 'witness_score', 'filing_diff']]\n",
    "Xtrain_rfc2 = Xtrain_lev1[['score', 'card', 'injury', 'rca', 'n_signatures', 'accident_province', 'black_box', 'black_box_active', 'filing_month']]\n",
    "Xtrain_rfc3 = Xtrain_lev1[['score', 'card', 'injury', 'rca', 'n_signatures', 'filing_diff', 'total_outgoing_provision', 'n_vehicles','n_people']]"
   ]
  },
  {
   "cell_type": "markdown",
   "metadata": {},
   "source": [
    "**First Learner**"
   ]
  },
  {
   "cell_type": "code",
   "execution_count": 22,
   "metadata": {},
   "outputs": [],
   "source": [
    "rfc1 = RandomForestClassifier()"
   ]
  },
  {
   "cell_type": "code",
   "execution_count": 23,
   "metadata": {},
   "outputs": [
    {
     "name": "stdout",
     "output_type": "stream",
     "text": [
      "Fitting 5 folds for each of 192 candidates, totalling 960 fits\n"
     ]
    },
    {
     "name": "stderr",
     "output_type": "stream",
     "text": [
      "[Parallel(n_jobs=-1)]: Done   5 tasks      | elapsed:   20.6s\n",
      "[Parallel(n_jobs=-1)]: Done  10 tasks      | elapsed:   23.4s\n",
      "[Parallel(n_jobs=-1)]: Done  17 tasks      | elapsed:   30.3s\n",
      "[Parallel(n_jobs=-1)]: Done  24 tasks      | elapsed:   38.9s\n",
      "[Parallel(n_jobs=-1)]: Done  33 tasks      | elapsed:   50.9s\n",
      "[Parallel(n_jobs=-1)]: Done  42 tasks      | elapsed:  1.0min\n",
      "[Parallel(n_jobs=-1)]: Done  53 tasks      | elapsed:  1.1min\n",
      "[Parallel(n_jobs=-1)]: Done  64 tasks      | elapsed:  1.3min\n",
      "[Parallel(n_jobs=-1)]: Done  77 tasks      | elapsed:  1.6min\n",
      "[Parallel(n_jobs=-1)]: Done  90 tasks      | elapsed:  1.7min\n",
      "[Parallel(n_jobs=-1)]: Done 105 tasks      | elapsed:  1.9min\n",
      "[Parallel(n_jobs=-1)]: Done 120 tasks      | elapsed:  2.2min\n",
      "[Parallel(n_jobs=-1)]: Done 137 tasks      | elapsed:  2.4min\n",
      "[Parallel(n_jobs=-1)]: Done 154 tasks      | elapsed:  2.7min\n",
      "[Parallel(n_jobs=-1)]: Done 173 tasks      | elapsed:  3.0min\n",
      "[Parallel(n_jobs=-1)]: Done 192 tasks      | elapsed:  3.3min\n",
      "[Parallel(n_jobs=-1)]: Done 213 tasks      | elapsed:  3.6min\n",
      "[Parallel(n_jobs=-1)]: Done 234 tasks      | elapsed:  4.0min\n",
      "[Parallel(n_jobs=-1)]: Done 257 tasks      | elapsed:  4.3min\n",
      "[Parallel(n_jobs=-1)]: Done 280 tasks      | elapsed:  4.8min\n",
      "[Parallel(n_jobs=-1)]: Done 305 tasks      | elapsed:  5.1min\n",
      "[Parallel(n_jobs=-1)]: Done 330 tasks      | elapsed:  5.6min\n",
      "[Parallel(n_jobs=-1)]: Done 357 tasks      | elapsed:  6.1min\n",
      "[Parallel(n_jobs=-1)]: Done 384 tasks      | elapsed:  6.6min\n",
      "[Parallel(n_jobs=-1)]: Done 413 tasks      | elapsed:  7.1min\n",
      "[Parallel(n_jobs=-1)]: Done 442 tasks      | elapsed:  7.7min\n",
      "[Parallel(n_jobs=-1)]: Done 473 tasks      | elapsed:  8.2min\n",
      "[Parallel(n_jobs=-1)]: Done 504 tasks      | elapsed:  8.8min\n",
      "[Parallel(n_jobs=-1)]: Done 537 tasks      | elapsed:  9.5min\n",
      "[Parallel(n_jobs=-1)]: Done 570 tasks      | elapsed: 10.2min\n",
      "[Parallel(n_jobs=-1)]: Done 605 tasks      | elapsed: 10.9min\n",
      "[Parallel(n_jobs=-1)]: Done 640 tasks      | elapsed: 11.7min\n",
      "[Parallel(n_jobs=-1)]: Done 677 tasks      | elapsed: 12.6min\n",
      "[Parallel(n_jobs=-1)]: Done 714 tasks      | elapsed: 13.4min\n",
      "[Parallel(n_jobs=-1)]: Done 753 tasks      | elapsed: 14.3min\n",
      "[Parallel(n_jobs=-1)]: Done 792 tasks      | elapsed: 15.1min\n",
      "[Parallel(n_jobs=-1)]: Done 833 tasks      | elapsed: 16.1min\n",
      "[Parallel(n_jobs=-1)]: Done 874 tasks      | elapsed: 17.2min\n",
      "[Parallel(n_jobs=-1)]: Done 917 tasks      | elapsed: 18.3min\n",
      "[Parallel(n_jobs=-1)]: Done 960 out of 960 | elapsed: 19.4min finished\n"
     ]
    },
    {
     "data": {
      "text/plain": [
       "GridSearchCV(cv=StratifiedKFold(n_splits=5, random_state=25, shuffle=False),\n",
       "       error_score='raise',\n",
       "       estimator=RandomForestClassifier(bootstrap=True, class_weight=None, criterion='gini',\n",
       "            max_depth=None, max_features='auto', max_leaf_nodes=None,\n",
       "            min_impurity_decrease=0.0, min_impurity_split=None,\n",
       "            min_samples_leaf=1, min_samples_split=2,\n",
       "            min_weight_fraction_leaf=0.0, n_estimators=10, n_jobs=1,\n",
       "            oob_score=False, random_state=None, verbose=0,\n",
       "            warm_start=False),\n",
       "       fit_params=None, iid=True, n_jobs=-1,\n",
       "       param_grid={'n_estimators': array([ 30,  40,  50,  60,  70,  80,  90, 100]), 'max_features': array([3, 4, 5, 6, 7, 8]), 'min_samples_split': array([2, 3, 4, 5])},\n",
       "       pre_dispatch='2*n_jobs', refit=True, return_train_score='warn',\n",
       "       scoring=make_scorer(f1_score), verbose=10)"
      ]
     },
     "execution_count": 23,
     "metadata": {},
     "output_type": "execute_result"
    }
   ],
   "source": [
    "param_grid_l1 = {'n_estimators':np.arange(30, 110, 10),\n",
    "              'max_features':np.arange(3, Xtrain_rfc1.shape[1]+1, 1),\n",
    "              'min_samples_split': np.arange(2, 6, 1)}\n",
    "\n",
    "gs_l1 = GridSearchCV(estimator=rfc1, param_grid=param_grid_l1, n_jobs=-1, cv=kf, verbose=10, scoring=make_scorer(f1_score))\n",
    "gs_l1.fit(Xtrain_rfc1, ytrain_lev1_ind)"
   ]
  },
  {
   "cell_type": "code",
   "execution_count": 24,
   "metadata": {},
   "outputs": [
    {
     "name": "stdout",
     "output_type": "stream",
     "text": [
      "0.384899008854\n",
      "{'max_features': 5, 'min_samples_split': 3, 'n_estimators': 40}\n"
     ]
    }
   ],
   "source": [
    "print(gs_l1.best_score_)\n",
    "print(gs_l1.best_params_)"
   ]
  },
  {
   "cell_type": "code",
   "execution_count": 25,
   "metadata": {},
   "outputs": [
    {
     "data": {
      "text/plain": [
       "RandomForestClassifier(bootstrap=True, class_weight=None, criterion='gini',\n",
       "            max_depth=None, max_features=5, max_leaf_nodes=None,\n",
       "            min_impurity_decrease=0.0, min_impurity_split=None,\n",
       "            min_samples_leaf=1, min_samples_split=3,\n",
       "            min_weight_fraction_leaf=0.0, n_estimators=40, n_jobs=1,\n",
       "            oob_score=False, random_state=None, verbose=0,\n",
       "            warm_start=False)"
      ]
     },
     "execution_count": 25,
     "metadata": {},
     "output_type": "execute_result"
    }
   ],
   "source": [
    "rfc1.set_params(max_features=5, min_samples_split=3, n_estimators=40)\n",
    "rfc1.fit(Xtrain_rfc1, ytrain_lev1_ind)"
   ]
  },
  {
   "cell_type": "markdown",
   "metadata": {},
   "source": [
    "**Second Learner**"
   ]
  },
  {
   "cell_type": "code",
   "execution_count": 26,
   "metadata": {},
   "outputs": [],
   "source": [
    "rfc2 = RandomForestClassifier()"
   ]
  },
  {
   "cell_type": "code",
   "execution_count": 27,
   "metadata": {
    "scrolled": false
   },
   "outputs": [
    {
     "name": "stdout",
     "output_type": "stream",
     "text": [
      "Fitting 5 folds for each of 224 candidates, totalling 1120 fits\n"
     ]
    },
    {
     "name": "stderr",
     "output_type": "stream",
     "text": [
      "[Parallel(n_jobs=-1)]: Done   5 tasks      | elapsed:   12.5s\n",
      "[Parallel(n_jobs=-1)]: Done  10 tasks      | elapsed:   15.4s\n",
      "[Parallel(n_jobs=-1)]: Done  17 tasks      | elapsed:   20.8s\n",
      "[Parallel(n_jobs=-1)]: Done  24 tasks      | elapsed:   27.5s\n",
      "[Parallel(n_jobs=-1)]: Done  33 tasks      | elapsed:   37.3s\n",
      "[Parallel(n_jobs=-1)]: Done  42 tasks      | elapsed:   46.3s\n",
      "[Parallel(n_jobs=-1)]: Done  53 tasks      | elapsed:   52.5s\n",
      "[Parallel(n_jobs=-1)]: Done  64 tasks      | elapsed:  1.1min\n",
      "[Parallel(n_jobs=-1)]: Done  77 tasks      | elapsed:  1.3min\n",
      "[Parallel(n_jobs=-1)]: Done  90 tasks      | elapsed:  1.4min\n",
      "[Parallel(n_jobs=-1)]: Done 105 tasks      | elapsed:  1.6min\n",
      "[Parallel(n_jobs=-1)]: Done 120 tasks      | elapsed:  1.9min\n",
      "[Parallel(n_jobs=-1)]: Done 137 tasks      | elapsed:  2.0min\n",
      "[Parallel(n_jobs=-1)]: Done 154 tasks      | elapsed:  2.3min\n",
      "[Parallel(n_jobs=-1)]: Done 173 tasks      | elapsed:  2.5min\n",
      "[Parallel(n_jobs=-1)]: Done 192 tasks      | elapsed:  2.8min\n",
      "[Parallel(n_jobs=-1)]: Done 213 tasks      | elapsed:  3.1min\n",
      "[Parallel(n_jobs=-1)]: Done 234 tasks      | elapsed:  3.4min\n",
      "[Parallel(n_jobs=-1)]: Done 257 tasks      | elapsed:  3.7min\n",
      "[Parallel(n_jobs=-1)]: Done 280 tasks      | elapsed:  4.1min\n",
      "[Parallel(n_jobs=-1)]: Done 305 tasks      | elapsed:  4.4min\n",
      "[Parallel(n_jobs=-1)]: Done 330 tasks      | elapsed:  4.8min\n",
      "[Parallel(n_jobs=-1)]: Done 357 tasks      | elapsed:  5.3min\n",
      "[Parallel(n_jobs=-1)]: Done 384 tasks      | elapsed:  5.7min\n",
      "[Parallel(n_jobs=-1)]: Done 413 tasks      | elapsed:  6.1min\n",
      "[Parallel(n_jobs=-1)]: Done 442 tasks      | elapsed:  6.6min\n",
      "[Parallel(n_jobs=-1)]: Done 473 tasks      | elapsed:  7.1min\n",
      "[Parallel(n_jobs=-1)]: Done 504 tasks      | elapsed:  7.6min\n",
      "[Parallel(n_jobs=-1)]: Done 537 tasks      | elapsed:  8.2min\n",
      "[Parallel(n_jobs=-1)]: Done 570 tasks      | elapsed:  8.8min\n",
      "[Parallel(n_jobs=-1)]: Done 605 tasks      | elapsed:  9.4min\n",
      "[Parallel(n_jobs=-1)]: Done 640 tasks      | elapsed: 10.1min\n",
      "[Parallel(n_jobs=-1)]: Done 677 tasks      | elapsed: 10.8min\n",
      "[Parallel(n_jobs=-1)]: Done 714 tasks      | elapsed: 11.5min\n",
      "[Parallel(n_jobs=-1)]: Done 753 tasks      | elapsed: 12.2min\n",
      "[Parallel(n_jobs=-1)]: Done 792 tasks      | elapsed: 13.0min\n",
      "[Parallel(n_jobs=-1)]: Done 833 tasks      | elapsed: 13.8min\n",
      "[Parallel(n_jobs=-1)]: Done 874 tasks      | elapsed: 14.6min\n",
      "[Parallel(n_jobs=-1)]: Done 917 tasks      | elapsed: 15.5min\n",
      "[Parallel(n_jobs=-1)]: Done 960 tasks      | elapsed: 16.5min\n",
      "[Parallel(n_jobs=-1)]: Done 1005 tasks      | elapsed: 17.5min\n",
      "[Parallel(n_jobs=-1)]: Done 1050 tasks      | elapsed: 18.5min\n",
      "[Parallel(n_jobs=-1)]: Done 1097 tasks      | elapsed: 19.5min\n",
      "[Parallel(n_jobs=-1)]: Done 1120 out of 1120 | elapsed: 20.1min finished\n"
     ]
    },
    {
     "data": {
      "text/plain": [
       "GridSearchCV(cv=StratifiedKFold(n_splits=5, random_state=25, shuffle=False),\n",
       "       error_score='raise',\n",
       "       estimator=RandomForestClassifier(bootstrap=True, class_weight=None, criterion='gini',\n",
       "            max_depth=None, max_features='auto', max_leaf_nodes=None,\n",
       "            min_impurity_decrease=0.0, min_impurity_split=None,\n",
       "            min_samples_leaf=1, min_samples_split=2,\n",
       "            min_weight_fraction_leaf=0.0, n_estimators=10, n_jobs=1,\n",
       "            oob_score=False, random_state=None, verbose=0,\n",
       "            warm_start=False),\n",
       "       fit_params=None, iid=True, n_jobs=-1,\n",
       "       param_grid={'n_estimators': array([ 30,  40,  50,  60,  70,  80,  90, 100]), 'max_features': array([3, 4, 5, 6, 7, 8, 9]), 'min_samples_split': array([2, 3, 4, 5])},\n",
       "       pre_dispatch='2*n_jobs', refit=True, return_train_score='warn',\n",
       "       scoring=make_scorer(f1_score), verbose=10)"
      ]
     },
     "execution_count": 27,
     "metadata": {},
     "output_type": "execute_result"
    }
   ],
   "source": [
    "param_grid_l2 = {'n_estimators':np.arange(30, 110, 10),\n",
    "              'max_features':np.arange(3, Xtrain_rfc2.shape[1]+1, 1),\n",
    "              'min_samples_split': np.arange(2, 6, 1)}\n",
    "\n",
    "gs_l2 = GridSearchCV(estimator=rfc2, param_grid=param_grid_l2, n_jobs=-1, cv=kf, verbose=10, scoring=make_scorer(f1_score))\n",
    "gs_l2.fit(Xtrain_rfc2, ytrain_lev1_ind)"
   ]
  },
  {
   "cell_type": "code",
   "execution_count": 28,
   "metadata": {},
   "outputs": [
    {
     "name": "stdout",
     "output_type": "stream",
     "text": [
      "0.347042255299\n",
      "{'max_features': 9, 'min_samples_split': 4, 'n_estimators': 80}\n"
     ]
    }
   ],
   "source": [
    "print(gs_l2.best_score_)\n",
    "print(gs_l2.best_params_)"
   ]
  },
  {
   "cell_type": "code",
   "execution_count": 29,
   "metadata": {},
   "outputs": [
    {
     "data": {
      "text/plain": [
       "RandomForestClassifier(bootstrap=True, class_weight=None, criterion='gini',\n",
       "            max_depth=None, max_features=9, max_leaf_nodes=None,\n",
       "            min_impurity_decrease=0.0, min_impurity_split=None,\n",
       "            min_samples_leaf=1, min_samples_split=4,\n",
       "            min_weight_fraction_leaf=0.0, n_estimators=80, n_jobs=1,\n",
       "            oob_score=False, random_state=None, verbose=0,\n",
       "            warm_start=False)"
      ]
     },
     "execution_count": 29,
     "metadata": {},
     "output_type": "execute_result"
    }
   ],
   "source": [
    "rfc2.set_params(max_features=9, min_samples_split=4, n_estimators=80)\n",
    "rfc2.fit(Xtrain_rfc2, ytrain_lev1_ind)"
   ]
  },
  {
   "cell_type": "markdown",
   "metadata": {},
   "source": [
    "**Third Learner**"
   ]
  },
  {
   "cell_type": "code",
   "execution_count": 30,
   "metadata": {},
   "outputs": [],
   "source": [
    "rfc3 = RandomForestClassifier()"
   ]
  },
  {
   "cell_type": "code",
   "execution_count": 31,
   "metadata": {},
   "outputs": [
    {
     "name": "stdout",
     "output_type": "stream",
     "text": [
      "Fitting 5 folds for each of 224 candidates, totalling 1120 fits\n"
     ]
    },
    {
     "name": "stderr",
     "output_type": "stream",
     "text": [
      "[Parallel(n_jobs=-1)]: Done   5 tasks      | elapsed:   11.0s\n",
      "[Parallel(n_jobs=-1)]: Done  10 tasks      | elapsed:   13.8s\n",
      "[Parallel(n_jobs=-1)]: Done  17 tasks      | elapsed:   19.2s\n",
      "[Parallel(n_jobs=-1)]: Done  24 tasks      | elapsed:   26.2s\n",
      "[Parallel(n_jobs=-1)]: Done  33 tasks      | elapsed:   35.9s\n",
      "[Parallel(n_jobs=-1)]: Done  42 tasks      | elapsed:   44.5s\n",
      "[Parallel(n_jobs=-1)]: Done  53 tasks      | elapsed:   50.6s\n",
      "[Parallel(n_jobs=-1)]: Done  64 tasks      | elapsed:  1.0min\n",
      "[Parallel(n_jobs=-1)]: Done  77 tasks      | elapsed:  1.3min\n",
      "[Parallel(n_jobs=-1)]: Done  90 tasks      | elapsed:  1.4min\n",
      "[Parallel(n_jobs=-1)]: Done 105 tasks      | elapsed:  1.6min\n",
      "[Parallel(n_jobs=-1)]: Done 120 tasks      | elapsed:  1.9min\n",
      "[Parallel(n_jobs=-1)]: Done 137 tasks      | elapsed:  2.1min\n",
      "[Parallel(n_jobs=-1)]: Done 154 tasks      | elapsed:  2.4min\n",
      "[Parallel(n_jobs=-1)]: Done 173 tasks      | elapsed:  2.6min\n",
      "[Parallel(n_jobs=-1)]: Done 192 tasks      | elapsed:  3.0min\n",
      "[Parallel(n_jobs=-1)]: Done 213 tasks      | elapsed:  3.3min\n",
      "[Parallel(n_jobs=-1)]: Done 234 tasks      | elapsed:  3.6min\n",
      "[Parallel(n_jobs=-1)]: Done 257 tasks      | elapsed:  4.0min\n",
      "[Parallel(n_jobs=-1)]: Done 280 tasks      | elapsed:  4.4min\n",
      "[Parallel(n_jobs=-1)]: Done 305 tasks      | elapsed:  4.7min\n",
      "[Parallel(n_jobs=-1)]: Done 330 tasks      | elapsed:  5.2min\n",
      "[Parallel(n_jobs=-1)]: Done 357 tasks      | elapsed:  5.7min\n",
      "[Parallel(n_jobs=-1)]: Done 384 tasks      | elapsed:  6.2min\n",
      "[Parallel(n_jobs=-1)]: Done 413 tasks      | elapsed:  6.7min\n",
      "[Parallel(n_jobs=-1)]: Done 442 tasks      | elapsed:  7.3min\n",
      "[Parallel(n_jobs=-1)]: Done 473 tasks      | elapsed:  7.8min\n",
      "[Parallel(n_jobs=-1)]: Done 504 tasks      | elapsed:  8.4min\n",
      "[Parallel(n_jobs=-1)]: Done 537 tasks      | elapsed:  9.0min\n",
      "[Parallel(n_jobs=-1)]: Done 570 tasks      | elapsed:  9.7min\n",
      "[Parallel(n_jobs=-1)]: Done 605 tasks      | elapsed: 10.4min\n",
      "[Parallel(n_jobs=-1)]: Done 640 tasks      | elapsed: 11.2min\n",
      "[Parallel(n_jobs=-1)]: Done 677 tasks      | elapsed: 12.0min\n",
      "[Parallel(n_jobs=-1)]: Done 714 tasks      | elapsed: 12.8min\n",
      "[Parallel(n_jobs=-1)]: Done 753 tasks      | elapsed: 13.6min\n",
      "[Parallel(n_jobs=-1)]: Done 792 tasks      | elapsed: 14.5min\n",
      "[Parallel(n_jobs=-1)]: Done 833 tasks      | elapsed: 15.5min\n",
      "[Parallel(n_jobs=-1)]: Done 874 tasks      | elapsed: 16.5min\n",
      "[Parallel(n_jobs=-1)]: Done 917 tasks      | elapsed: 17.5min\n",
      "[Parallel(n_jobs=-1)]: Done 960 tasks      | elapsed: 18.6min\n",
      "[Parallel(n_jobs=-1)]: Done 1005 tasks      | elapsed: 19.7min\n",
      "[Parallel(n_jobs=-1)]: Done 1050 tasks      | elapsed: 20.8min\n",
      "[Parallel(n_jobs=-1)]: Done 1097 tasks      | elapsed: 22.0min\n",
      "[Parallel(n_jobs=-1)]: Done 1120 out of 1120 | elapsed: 22.8min finished\n"
     ]
    },
    {
     "data": {
      "text/plain": [
       "GridSearchCV(cv=StratifiedKFold(n_splits=5, random_state=25, shuffle=False),\n",
       "       error_score='raise',\n",
       "       estimator=RandomForestClassifier(bootstrap=True, class_weight=None, criterion='gini',\n",
       "            max_depth=None, max_features='auto', max_leaf_nodes=None,\n",
       "            min_impurity_decrease=0.0, min_impurity_split=None,\n",
       "            min_samples_leaf=1, min_samples_split=2,\n",
       "            min_weight_fraction_leaf=0.0, n_estimators=10, n_jobs=1,\n",
       "            oob_score=False, random_state=None, verbose=0,\n",
       "            warm_start=False),\n",
       "       fit_params=None, iid=True, n_jobs=-1,\n",
       "       param_grid={'n_estimators': array([ 30,  40,  50,  60,  70,  80,  90, 100]), 'max_features': array([3, 4, 5, 6, 7, 8, 9]), 'min_samples_split': array([2, 3, 4, 5])},\n",
       "       pre_dispatch='2*n_jobs', refit=True, return_train_score='warn',\n",
       "       scoring=make_scorer(f1_score), verbose=10)"
      ]
     },
     "execution_count": 31,
     "metadata": {},
     "output_type": "execute_result"
    }
   ],
   "source": [
    "param_grid_l3 = {'n_estimators':np.arange(30, 110, 10),\n",
    "              'max_features':np.arange(3, Xtrain_rfc3.shape[1]+1, 1),\n",
    "              'min_samples_split': np.arange(2, 6, 1)}\n",
    "\n",
    "gs_l3 = GridSearchCV(estimator=rfc3, param_grid=param_grid_l3, n_jobs=-1, cv=kf, verbose=10, scoring=make_scorer(f1_score))\n",
    "gs_l3.fit(Xtrain_rfc3, ytrain_lev1_ind)"
   ]
  },
  {
   "cell_type": "code",
   "execution_count": 32,
   "metadata": {},
   "outputs": [
    {
     "name": "stdout",
     "output_type": "stream",
     "text": [
      "0.371627560344\n",
      "{'max_features': 3, 'min_samples_split': 5, 'n_estimators': 30}\n"
     ]
    }
   ],
   "source": [
    "print(gs_l3.best_score_)\n",
    "print(gs_l3.best_params_)"
   ]
  },
  {
   "cell_type": "code",
   "execution_count": 33,
   "metadata": {},
   "outputs": [
    {
     "data": {
      "text/plain": [
       "RandomForestClassifier(bootstrap=True, class_weight=None, criterion='gini',\n",
       "            max_depth=None, max_features=3, max_leaf_nodes=None,\n",
       "            min_impurity_decrease=0.0, min_impurity_split=None,\n",
       "            min_samples_leaf=1, min_samples_split=5,\n",
       "            min_weight_fraction_leaf=0.0, n_estimators=30, n_jobs=1,\n",
       "            oob_score=False, random_state=None, verbose=0,\n",
       "            warm_start=False)"
      ]
     },
     "execution_count": 33,
     "metadata": {},
     "output_type": "execute_result"
    }
   ],
   "source": [
    "rfc3.set_params(max_features=3, min_samples_split=5, n_estimators=30)\n",
    "rfc3.fit(Xtrain_rfc3, ytrain_lev1_ind)"
   ]
  },
  {
   "cell_type": "markdown",
   "metadata": {},
   "source": [
    "**Stacking**"
   ]
  },
  {
   "cell_type": "markdown",
   "metadata": {},
   "source": [
    "Here I'm going to use the predictions from the three learners to train a logistic regression model and come up with the final prediction."
   ]
  },
  {
   "cell_type": "code",
   "execution_count": 36,
   "metadata": {},
   "outputs": [],
   "source": [
    "Xtrain_lev2_rfc1 = Xtrain_lev2[['score', 'card', 'injury', 'rca', 'n_signatures', 'lawyer_score', 'witness_score', 'filing_diff']]\n",
    "Xtrain_lev2_rfc2 = Xtrain_lev2[['score', 'card', 'injury', 'rca', 'n_signatures', 'accident_province', 'black_box', 'black_box_active', 'filing_month']]\n",
    "Xtrain_lev2_rfc3 = Xtrain_lev2[['score', 'card', 'injury', 'rca', 'n_signatures', 'filing_diff', 'total_outgoing_provision', 'n_vehicles','n_people']]"
   ]
  },
  {
   "cell_type": "code",
   "execution_count": 37,
   "metadata": {},
   "outputs": [],
   "source": [
    "ypred_rfc1 = rfc1.predict_proba(Xtrain_lev2_rfc1)\n",
    "ypred_rfc2 = rfc2.predict_proba(Xtrain_lev2_rfc2)\n",
    "ypred_rfc3 = rfc3.predict_proba(Xtrain_lev2_rfc3)"
   ]
  },
  {
   "cell_type": "code",
   "execution_count": 38,
   "metadata": {},
   "outputs": [
    {
     "data": {
      "text/html": [
       "<div>\n",
       "<style>\n",
       "    .dataframe thead tr:only-child th {\n",
       "        text-align: right;\n",
       "    }\n",
       "\n",
       "    .dataframe thead th {\n",
       "        text-align: left;\n",
       "    }\n",
       "\n",
       "    .dataframe tbody tr th {\n",
       "        vertical-align: top;\n",
       "    }\n",
       "</style>\n",
       "<table border=\"1\" class=\"dataframe\">\n",
       "  <thead>\n",
       "    <tr style=\"text-align: right;\">\n",
       "      <th></th>\n",
       "      <th>rfc1</th>\n",
       "      <th>rfc2</th>\n",
       "      <th>rfc3</th>\n",
       "    </tr>\n",
       "    <tr>\n",
       "      <th>claim_code</th>\n",
       "      <th></th>\n",
       "      <th></th>\n",
       "      <th></th>\n",
       "    </tr>\n",
       "  </thead>\n",
       "  <tbody>\n",
       "    <tr>\n",
       "      <th>2016030400394300</th>\n",
       "      <td>0.0</td>\n",
       "      <td>0.0</td>\n",
       "      <td>0.0</td>\n",
       "    </tr>\n",
       "    <tr>\n",
       "      <th>2016010402002500</th>\n",
       "      <td>0.0</td>\n",
       "      <td>0.0</td>\n",
       "      <td>0.0</td>\n",
       "    </tr>\n",
       "    <tr>\n",
       "      <th>2015010401768000</th>\n",
       "      <td>0.0</td>\n",
       "      <td>0.0</td>\n",
       "      <td>0.0</td>\n",
       "    </tr>\n",
       "    <tr>\n",
       "      <th>2015030430066300</th>\n",
       "      <td>0.0</td>\n",
       "      <td>0.0</td>\n",
       "      <td>0.0</td>\n",
       "    </tr>\n",
       "    <tr>\n",
       "      <th>2016010430003800</th>\n",
       "      <td>0.0</td>\n",
       "      <td>0.0</td>\n",
       "      <td>0.0</td>\n",
       "    </tr>\n",
       "  </tbody>\n",
       "</table>\n",
       "</div>"
      ],
      "text/plain": [
       "                  rfc1  rfc2  rfc3\n",
       "claim_code                        \n",
       "2016030400394300   0.0   0.0   0.0\n",
       "2016010402002500   0.0   0.0   0.0\n",
       "2015010401768000   0.0   0.0   0.0\n",
       "2015030430066300   0.0   0.0   0.0\n",
       "2016010430003800   0.0   0.0   0.0"
      ]
     },
     "execution_count": 38,
     "metadata": {},
     "output_type": "execute_result"
    }
   ],
   "source": [
    "Xtrain_stack = pd.DataFrame(np.vstack([ypred_rfc1[:, 1], ypred_rfc2[:, 1], ypred_rfc3[:, 1]]).T,\n",
    "                            index=Xtrain_lev2.index,\n",
    "                            columns=['rfc1', 'rfc2', 'rfc3'])\n",
    "Xtrain_stack.head()"
   ]
  },
  {
   "cell_type": "code",
   "execution_count": 39,
   "metadata": {},
   "outputs": [],
   "source": [
    "lr = LogisticRegression()"
   ]
  },
  {
   "cell_type": "code",
   "execution_count": 40,
   "metadata": {},
   "outputs": [
    {
     "name": "stdout",
     "output_type": "stream",
     "text": [
      "Fitting 5 folds for each of 18 candidates, totalling 90 fits\n"
     ]
    },
    {
     "name": "stderr",
     "output_type": "stream",
     "text": [
      "[Parallel(n_jobs=-1)]: Done   5 tasks      | elapsed:    9.7s\n",
      "[Parallel(n_jobs=-1)]: Done  10 tasks      | elapsed:    9.8s\n",
      "[Parallel(n_jobs=-1)]: Done  17 tasks      | elapsed:   10.1s\n",
      "[Parallel(n_jobs=-1)]: Done  24 tasks      | elapsed:   10.4s\n",
      "[Parallel(n_jobs=-1)]: Done  33 tasks      | elapsed:   10.8s\n",
      "[Parallel(n_jobs=-1)]: Done  42 tasks      | elapsed:   11.1s\n",
      "[Parallel(n_jobs=-1)]: Done  53 tasks      | elapsed:   11.6s\n",
      "[Parallel(n_jobs=-1)]: Done  64 tasks      | elapsed:   12.2s\n",
      "[Parallel(n_jobs=-1)]: Done  77 tasks      | elapsed:   12.8s\n",
      "[Parallel(n_jobs=-1)]: Done  90 out of  90 | elapsed:   13.3s finished\n"
     ]
    },
    {
     "data": {
      "text/plain": [
       "GridSearchCV(cv=5, error_score='raise',\n",
       "       estimator=LogisticRegression(C=1.0, class_weight=None, dual=False, fit_intercept=True,\n",
       "          intercept_scaling=1, max_iter=100, multi_class='ovr', n_jobs=1,\n",
       "          penalty='l2', random_state=None, solver='liblinear', tol=0.0001,\n",
       "          verbose=0, warm_start=False),\n",
       "       fit_params=None, iid=True, n_jobs=-1,\n",
       "       param_grid={'C': [0.0001, 0.0003, 0.001, 0.003, 0.01, 0.03, 0.1, 0.3, 1, 3, 10.0, 30.0, 100.0, 300.0, 1000.0, 3000.0, 10000.0, 30000.0]},\n",
       "       pre_dispatch='2*n_jobs', refit=True, return_train_score='warn',\n",
       "       scoring=make_scorer(f1_score), verbose=10)"
      ]
     },
     "execution_count": 40,
     "metadata": {},
     "output_type": "execute_result"
    }
   ],
   "source": [
    "param_grid_lr = {'C':[1e-4, 3e-4, 1e-3, 3e-3, 1e-2, 3e-2, 1e-1, 3e-1, 1, 3, 1e1, 3e1, 1e2, 3e2, 1e3, 3e3, 1e4, 3e4]}\n",
    "\n",
    "gs_lr = GridSearchCV(estimator=lr, param_grid=param_grid_lr, n_jobs=-1, cv=5, verbose=10, scoring=make_scorer(f1_score))\n",
    "gs_lr.fit(Xtrain_stack, ytrain_lev2_ind)"
   ]
  },
  {
   "cell_type": "code",
   "execution_count": 41,
   "metadata": {},
   "outputs": [
    {
     "name": "stdout",
     "output_type": "stream",
     "text": [
      "0.384642727923\n",
      "{'C': 100.0}\n"
     ]
    }
   ],
   "source": [
    "print(gs_lr.best_score_)\n",
    "print(gs_lr.best_params_)"
   ]
  },
  {
   "cell_type": "markdown",
   "metadata": {},
   "source": [
    "## Anomaly Detection"
   ]
  },
  {
   "cell_type": "markdown",
   "metadata": {},
   "source": [
    "Finally, I'm going to try to use two anomaly detection algorithms to try and predict frauds. The models I try are KMeans clustering for anomaly detection (I consider anomalous the points far away from cluster centers) and Local Outlier Factor, a density-based algorithm in which points in sparser areas than their neighbours are considered outliers.\n",
    "\n",
    "For both of this algorithms it is best to scale the data; moreover in order to be able to compare their results with the previous ones I will implement k-fold cross-validation by hand."
   ]
  },
  {
   "cell_type": "code",
   "execution_count": 42,
   "metadata": {},
   "outputs": [],
   "source": [
    "sc = StandardScaler()\n",
    "Xtrainsc = sc.fit_transform(Xtrain.drop('accident_province', axis=1))"
   ]
  },
  {
   "cell_type": "markdown",
   "metadata": {},
   "source": [
    "**KMeans**"
   ]
  },
  {
   "cell_type": "code",
   "execution_count": 43,
   "metadata": {},
   "outputs": [],
   "source": [
    "param_grid_km = {'n_clust':np.arange(2, 11, 1),\n",
    "              'n_std':np.arange(2, 4.25, 0.25)}"
   ]
  },
  {
   "cell_type": "code",
   "execution_count": 44,
   "metadata": {},
   "outputs": [
    {
     "name": "stderr",
     "output_type": "stream",
     "text": [
      "C:\\Anaconda3\\lib\\site-packages\\numpy\\core\\fromnumeric.py:2909: RuntimeWarning: Mean of empty slice.\n",
      "  out=out, **kwargs)\n",
      "C:\\Anaconda3\\lib\\site-packages\\numpy\\core\\_methods.py:80: RuntimeWarning: invalid value encountered in double_scalars\n",
      "  ret = ret.dtype.type(ret / rcount)\n",
      "C:\\Anaconda3\\lib\\site-packages\\numpy\\core\\_methods.py:135: RuntimeWarning: Degrees of freedom <= 0 for slice\n",
      "  keepdims=keepdims)\n",
      "C:\\Anaconda3\\lib\\site-packages\\numpy\\core\\_methods.py:105: RuntimeWarning: invalid value encountered in true_divide\n",
      "  arrmean, rcount, out=arrmean, casting='unsafe', subok=False)\n",
      "C:\\Anaconda3\\lib\\site-packages\\numpy\\core\\_methods.py:127: RuntimeWarning: invalid value encountered in double_scalars\n",
      "  ret = ret.dtype.type(ret / rcount)\n"
     ]
    }
   ],
   "source": [
    "scores_km = {}\n",
    "for n_clust in param_grid_km['n_clust']:\n",
    "    curr_scores = []\n",
    "    for n_std in param_grid_km['n_std']:\n",
    "        for train_idx, val_idx in kf.split(Xtrainsc, ytrain_ind):\n",
    "            Xtr_fold = Xtrainsc[train_idx]\n",
    "            Xval_fold = Xtrainsc[val_idx]\n",
    "            ytr_fold = ytrain_ind.iloc[train_idx]\n",
    "            yval_fold = ytrain_ind.iloc[val_idx]\n",
    "\n",
    "            km = KMeans(n_clusters=n_clust)\n",
    "            km.fit(Xtr_fold)\n",
    "\n",
    "            distances = km.transform(Xval_fold)\n",
    "            labels = km.predict(Xval_fold)\n",
    "            distances = np.array([distances[i, labels[i]] for i in range(len(labels))])\n",
    "\n",
    "            centroid_median_dist = np.zeros(n_clust)\n",
    "            centroid_std_dist = np.zeros(n_clust)\n",
    "            for i in range(n_clust):\n",
    "                centroid_median_dist[i] = np.median(distances[labels==i])\n",
    "                centroid_std_dist[i] = np.std(distances[labels==i])\n",
    "\n",
    "            yval_pred = np.abs(distances - centroid_median_dist[labels]) > n_std*centroid_std_dist[labels]\n",
    "            curr_scores.append(f1_score(yval_fold, yval_pred))\n",
    "    \n",
    "        scores_km['n_clust={}, n_std={}'.format(n_clust, n_std)] = np.mean(curr_scores)"
   ]
  },
  {
   "cell_type": "code",
   "execution_count": 45,
   "metadata": {},
   "outputs": [
    {
     "data": {
      "text/plain": [
       "('n_clust=5, n_std=2.0', 0.11025358411772934)"
      ]
     },
     "execution_count": 45,
     "metadata": {},
     "output_type": "execute_result"
    }
   ],
   "source": [
    "best_params_km = ''\n",
    "best_score_km = 0\n",
    "for key in scores_km:\n",
    "    if scores_km[key] > best_score_km:\n",
    "        best_score_km = scores_km[key]\n",
    "        best_params_km = key\n",
    "\n",
    "best_params_km, best_score_km"
   ]
  },
  {
   "cell_type": "markdown",
   "metadata": {},
   "source": [
    "**Local Outlier Factor**"
   ]
  },
  {
   "cell_type": "code",
   "execution_count": 46,
   "metadata": {},
   "outputs": [],
   "source": [
    "param_grid_lof = {'n_neigh':np.arange(2, 11, 1),\n",
    "              'contamination':np.arange(0.01, 0.055, 0.005)}"
   ]
  },
  {
   "cell_type": "code",
   "execution_count": 47,
   "metadata": {},
   "outputs": [],
   "source": [
    "n_jobs = -1\n",
    "scores_lof = {}\n",
    "for n_neigh in param_grid_lof['n_neigh']:\n",
    "    curr_scores = []\n",
    "    for contamination in param_grid_lof['contamination']:\n",
    "        for train_idx, val_idx in kf.split(Xtrainsc, ytrain_ind):\n",
    "            Xtr_fold = Xtrainsc[train_idx]\n",
    "            Xval_fold = Xtrainsc[val_idx]\n",
    "            ytr_fold = ytrain_ind.iloc[train_idx]\n",
    "            yval_fold = ytrain_ind.iloc[val_idx]\n",
    "\n",
    "            lof = LocalOutlierFactor(n_neighbors=n_neigh, contamination=contamination, n_jobs=n_jobs)\n",
    "            lof.fit(Xtr_fold)\n",
    "\n",
    "            yval_pred = lof.fit_predict(Xval_fold)\n",
    "            yval_pred = np.array((yval_pred - 1) / -2, dtype=int)\n",
    "            curr_scores.append(f1_score(yval_fold, yval_pred))\n",
    "    \n",
    "        scores_lof['n_neigh={}, contamination={}'.format(n_neigh, contamination)] = np.mean(curr_scores)"
   ]
  },
  {
   "cell_type": "code",
   "execution_count": 48,
   "metadata": {},
   "outputs": [
    {
     "data": {
      "text/plain": [
       "('n_neigh=2, contamination=0.01', 0.0017937219730941704)"
      ]
     },
     "execution_count": 48,
     "metadata": {},
     "output_type": "execute_result"
    }
   ],
   "source": [
    "best_params_lof = ''\n",
    "best_score_lof = 0\n",
    "for key in scores_lof:\n",
    "    if scores_lof[key] > best_score_lof:\n",
    "        best_score_lof = scores_lof[key]\n",
    "        best_params_lof = key\n",
    "\n",
    "best_params_lof, best_score_lof"
   ]
  },
  {
   "cell_type": "markdown",
   "metadata": {},
   "source": [
    "## And the Winner Is..."
   ]
  },
  {
   "cell_type": "markdown",
   "metadata": {},
   "source": [
    "The anomaly detection models are clearly underperforming, and while I may try to tweak a little the stacked random forests to get a better result I don't think the added complexity is worth it.\n",
    "\n",
    "This leaves me with the first two random forests, and since the cross-validation score is quite similar I'm going with the model without province data to avoid the possibility of bias, as I mentioned before."
   ]
  },
  {
   "cell_type": "code",
   "execution_count": 49,
   "metadata": {},
   "outputs": [],
   "source": [
    "rfc_noprov.set_params(max_features=12, min_samples_split=3, n_estimators=30)\n",
    "rfc_noprov.fit(Xtrain, ytrain_ind)\n",
    "ypred = rfc_noprov.predict(Xtrain)\n",
    "ypred_proba = rfc_noprov.predict_proba(Xtrain)"
   ]
  },
  {
   "cell_type": "markdown",
   "metadata": {},
   "source": [
    "I'm glad to see that the scores computed from the various networks are quite important in the model:"
   ]
  },
  {
   "cell_type": "code",
   "execution_count": 52,
   "metadata": {},
   "outputs": [
    {
     "name": "stdout",
     "output_type": "stream",
     "text": [
      "filing_diff importance: 0.24020\n",
      "score importance: 0.20638\n",
      "lawyer_score importance: 0.15382\n",
      "filing_month importance: 0.08169\n",
      "total_outgoing_provision importance: 0.06989\n",
      "witness_score importance: 0.05275\n",
      "accident_province importance: 0.05175\n",
      "n_signatures importance: 0.02699\n",
      "n_vehicles importance: 0.02344\n",
      "black_box_active importance: 0.02176\n",
      "n_people importance: 0.02073\n",
      "card importance: 0.01767\n",
      "rca importance: 0.01444\n",
      "black_box importance: 0.01242\n",
      "injury importance: 0.00608\n"
     ]
    }
   ],
   "source": [
    "for imp, col in sorted(zip(rfc_noprov.feature_importances_, Xtrain.columns), reverse=True):\n",
    "    print('{} importance: {:.5f}'.format(col, imp))"
   ]
  },
  {
   "cell_type": "markdown",
   "metadata": {},
   "source": [
    "The model has a pretty high accuracy (as expected, since the target variable is very skewed) and a good precision. The recall score is not very high and the F1 score is close sufficiently close to 0.5, which is not great but neither that bad considering the difficulty of the task."
   ]
  },
  {
   "cell_type": "code",
   "execution_count": 54,
   "metadata": {},
   "outputs": [
    {
     "name": "stdout",
     "output_type": "stream",
     "text": [
      "Accuracy: 0.9840099734402948\n",
      "Recall: 0.3548387096774194\n",
      "Precision: 0.7058823529411765\n",
      "F1: 0.47227191413237923\n"
     ]
    }
   ],
   "source": [
    "ypred_ts = rfc_noprov.predict(Xtest)\n",
    "ypred_ts_proba = rfc_noprov.predict_proba(Xtest)\n",
    "print('Accuracy: {}'.format(accuracy_score(ytest_ind, ypred_ts)))\n",
    "print('Recall: {}'.format(recall_score(ytest_ind, ypred_ts)))\n",
    "print('Precision: {}'.format(precision_score(ytest_ind, ypred_ts)))\n",
    "print('F1: {}'.format(f1_score(ytest_ind, ypred_ts)))"
   ]
  },
  {
   "cell_type": "markdown",
   "metadata": {},
   "source": [
    "Let's also take a look at the confusion matrix and precision-recall curve:"
   ]
  },
  {
   "cell_type": "code",
   "execution_count": 55,
   "metadata": {},
   "outputs": [
    {
     "data": {
      "text/html": [
       "<div>\n",
       "<style>\n",
       "    .dataframe thead tr:only-child th {\n",
       "        text-align: right;\n",
       "    }\n",
       "\n",
       "    .dataframe thead th {\n",
       "        text-align: left;\n",
       "    }\n",
       "\n",
       "    .dataframe tbody tr th {\n",
       "        vertical-align: top;\n",
       "    }\n",
       "</style>\n",
       "<table border=\"1\" class=\"dataframe\">\n",
       "  <thead>\n",
       "    <tr style=\"text-align: right;\">\n",
       "      <th></th>\n",
       "      <th>pred=0</th>\n",
       "      <th>pred=1</th>\n",
       "    </tr>\n",
       "  </thead>\n",
       "  <tbody>\n",
       "    <tr>\n",
       "      <th>y=0</th>\n",
       "      <td>18022</td>\n",
       "      <td>55</td>\n",
       "    </tr>\n",
       "    <tr>\n",
       "      <th>y=1</th>\n",
       "      <td>240</td>\n",
       "      <td>132</td>\n",
       "    </tr>\n",
       "  </tbody>\n",
       "</table>\n",
       "</div>"
      ],
      "text/plain": [
       "     pred=0  pred=1\n",
       "y=0   18022      55\n",
       "y=1     240     132"
      ]
     },
     "execution_count": 55,
     "metadata": {},
     "output_type": "execute_result"
    }
   ],
   "source": [
    "pd.DataFrame(confusion_matrix(ytest_ind, ypred_ts), index=['y=0', 'y=1'], columns=['pred=0', 'pred=1'])"
   ]
  },
  {
   "cell_type": "code",
   "execution_count": 56,
   "metadata": {},
   "outputs": [
    {
     "data": {
      "image/png": "[encoded data removed]",
      "text/plain": [
       "<matplotlib.figure.Figure at 0x1883b8683c8>"
      ]
     },
     "metadata": {},
     "output_type": "display_data"
    }
   ],
   "source": [
    "precision, recall, thresholds = precision_recall_curve(ytest_ind, [prob[1] for prob in ypred_ts_proba])\n",
    "\n",
    "plt.figure(figsize=(10, 10))\n",
    "plt.step(recall, precision, color='b', alpha=0.2,\n",
    "         where='post')\n",
    "plt.fill_between(recall, precision, step='post', alpha=0.2,\n",
    "                 color='b')\n",
    "\n",
    "plt.xlabel('Recall')\n",
    "plt.ylabel('Precision')\n",
    "plt.ylim([0.0, 1.05])\n",
    "plt.xlim([0.0, 1.0])\n",
    "plt.title('Precision-Recall curve');\n",
    "# plt.savefig('../reports/figures/precision_recall.png');"
   ]
  },
  {
   "cell_type": "markdown",
   "metadata": {},
   "source": [
    "I could try to tweak a little the threshold value to get a better recall score, but I won't try it now.\n",
    "\n",
    "Instead I want to look closely at the false positives and negatives and see how they compare to the fraud evaluation, which is something more precise than the score since it involves some official investigation of the claim."
   ]
  },
  {
   "cell_type": "code",
   "execution_count": 57,
   "metadata": {},
   "outputs": [],
   "source": [
    "assessments = pd.read_csv('../data/raw/antifraud_assessments.csv', sep=';')"
   ]
  },
  {
   "cell_type": "markdown",
   "metadata": {},
   "source": [
    "These are the false negatives, among them there are 51 proven frauds (`Frode acclarata`), but also 20 claims which were proven *not* fraudolent (`Nessuna frode`)."
   ]
  },
  {
   "cell_type": "code",
   "execution_count": 58,
   "metadata": {},
   "outputs": [
    {
     "data": {
      "text/html": [
       "<div>\n",
       "<style>\n",
       "    .dataframe thead tr:only-child th {\n",
       "        text-align: right;\n",
       "    }\n",
       "\n",
       "    .dataframe thead th {\n",
       "        text-align: left;\n",
       "    }\n",
       "\n",
       "    .dataframe tbody tr th {\n",
       "        vertical-align: top;\n",
       "    }\n",
       "</style>\n",
       "<table border=\"1\" class=\"dataframe\">\n",
       "  <thead>\n",
       "    <tr style=\"text-align: right;\">\n",
       "      <th></th>\n",
       "      <th>fraud_evaluation</th>\n",
       "    </tr>\n",
       "  </thead>\n",
       "  <tbody>\n",
       "    <tr>\n",
       "      <th>Frode probabile</th>\n",
       "      <td>84</td>\n",
       "    </tr>\n",
       "    <tr>\n",
       "      <th>Frode acclarata</th>\n",
       "      <td>51</td>\n",
       "    </tr>\n",
       "    <tr>\n",
       "      <th>Nessuna frode</th>\n",
       "      <td>20</td>\n",
       "    </tr>\n",
       "  </tbody>\n",
       "</table>\n",
       "</div>"
      ],
      "text/plain": [
       "                 fraud_evaluation\n",
       "Frode probabile                84\n",
       "Frode acclarata                51\n",
       "Nessuna frode                  20"
      ]
     },
     "execution_count": 58,
     "metadata": {},
     "output_type": "execute_result"
    }
   ],
   "source": [
    "pd.DataFrame(assessments.loc[(assessments['claim_code'].isin(Xtest.iloc[ypred_ts==0].index)) & (assessments['company_score']>50), 'fraud_evaluation'].value_counts())"
   ]
  },
  {
   "cell_type": "markdown",
   "metadata": {},
   "source": [
    "Among the false positives instead I have 8 proven frauds and only 4 non-frauds."
   ]
  },
  {
   "cell_type": "code",
   "execution_count": 59,
   "metadata": {},
   "outputs": [
    {
     "data": {
      "text/html": [
       "<div>\n",
       "<style>\n",
       "    .dataframe thead tr:only-child th {\n",
       "        text-align: right;\n",
       "    }\n",
       "\n",
       "    .dataframe thead th {\n",
       "        text-align: left;\n",
       "    }\n",
       "\n",
       "    .dataframe tbody tr th {\n",
       "        vertical-align: top;\n",
       "    }\n",
       "</style>\n",
       "<table border=\"1\" class=\"dataframe\">\n",
       "  <thead>\n",
       "    <tr style=\"text-align: right;\">\n",
       "      <th></th>\n",
       "      <th>fraud_evaluation</th>\n",
       "    </tr>\n",
       "  </thead>\n",
       "  <tbody>\n",
       "    <tr>\n",
       "      <th>Frode probabile</th>\n",
       "      <td>8</td>\n",
       "    </tr>\n",
       "    <tr>\n",
       "      <th>Frode acclarata</th>\n",
       "      <td>8</td>\n",
       "    </tr>\n",
       "    <tr>\n",
       "      <th>Nessuna frode</th>\n",
       "      <td>4</td>\n",
       "    </tr>\n",
       "  </tbody>\n",
       "</table>\n",
       "</div>"
      ],
      "text/plain": [
       "                 fraud_evaluation\n",
       "Frode probabile                 8\n",
       "Frode acclarata                 8\n",
       "Nessuna frode                   4"
      ]
     },
     "execution_count": 59,
     "metadata": {},
     "output_type": "execute_result"
    }
   ],
   "source": [
    "pd.DataFrame(assessments.loc[(assessments['claim_code'].isin(Xtest.iloc[ypred_ts==1].index)) & (assessments['company_score']<=50), 'fraud_evaluation'].value_counts())"
   ]
  },
  {
   "cell_type": "markdown",
   "metadata": {
    "collapsed": true
   },
   "source": [
    "## Conclusions"
   ]
  },
  {
   "cell_type": "markdown",
   "metadata": {
    "collapsed": true
   },
   "source": [
    "In this project I tried to predict whether a claim is fraudolent analyzing network-like data obtained from the involvement of parties in claims. I learned a lot about graphs and rankings on them and I had fun trying out different techniques to label the claims, such as stacking and anomaly detection.\n",
    "\n",
    "While the final F1 score of 0.47 isn't great I'm quite happy with it, given the difficulty of the task at hand; also, by looking at the false positives' and negatives' fraud evaluations, I found out that even if my score isn't perfect the same holds true for the company score, since some claims are mislabeled in both ways.\n",
    "\n",
    "I think this score may be useful for the insurance company, if anything because it can give them another way to find fraudolent claims or suggest new directions to investigate. In addition I think this score may be of help to the people assessing frauds and could spare them some manual work, namely the research into parties involved in the claim."
   ]
  },
  {
   "cell_type": "markdown",
   "metadata": {
    "collapsed": true
   },
   "source": [
    "## Further Analysis"
   ]
  },
  {
   "cell_type": "markdown",
   "metadata": {
    "collapsed": true
   },
   "source": [
    "Things I could have tried if I had more time:\n",
    "\n",
    "- Find some absolute ground truth, since the score I used as a target variable is a company score, so it is obviously biased.\n",
    "- Try some other values for the threshold of my model and compare how false positives and negatives behave.\n",
    "- Find out if it is possible to get network-like data for all the claims in Italy, since using only data from one company makes my network incomplete."
   ]
  }
 ],
 "metadata": {
  "kernelspec": {
   "display_name": "Python 3",
   "language": "python",
   "name": "python3"
  },
  "language_info": {
   "codemirror_mode": {
    "name": "ipython",
    "version": 3
   },
   "file_extension": ".py",
   "mimetype": "text/x-python",
   "name": "python",
   "nbconvert_exporter": "python",
   "pygments_lexer": "ipython3",
   "version": "3.6.3"
  }
 },
 "nbformat": 4,
 "nbformat_minor": 2
}
