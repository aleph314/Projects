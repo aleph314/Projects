{
 "cells": [
  {
   "cell_type": "markdown",
   "metadata": {},
   "source": [
    "# Fraud Detection Project"
   ]
  },
  {
   "cell_type": "markdown",
   "metadata": {},
   "source": [
    "## Previous Notebooks\n",
    "\n",
    "- [EDA](1-EDA.ipynb)\n",
    "- [Network Analysis](2.1-Network.ipynb)\n",
    "- [Lawyers' Network Analysis](2.2-Network-Lawyers.ipynb)"
   ]
  },
  {
   "cell_type": "code",
   "execution_count": 1,
   "metadata": {},
   "outputs": [],
   "source": [
    "import numpy as np\n",
    "import pandas as pd\n",
    "import networkx as nx"
   ]
  },
  {
   "cell_type": "markdown",
   "metadata": {},
   "source": [
    "In this notebook I will propagate the PageRank calculated for the entities involved in a claim to all the witnesses involved in a claim; then again I will use this scores to calculate an overall score for a claim.\n",
    "\n",
    "To propagate the score I will create a network of all witnesses and entities, using claims as links, and calculate PageRank on the resulting graph assigning the previously calculated weights to the entities and 0 to the witnesses as a starting score."
   ]
  },
  {
   "cell_type": "code",
   "execution_count": 2,
   "metadata": {},
   "outputs": [],
   "source": [
    "network = pd.read_csv('../data/raw/network_witnesses.csv', sep=';')"
   ]
  },
  {
   "cell_type": "code",
   "execution_count": 3,
   "metadata": {},
   "outputs": [],
   "source": [
    "nw = nx.MultiGraph()\n",
    "nw.add_edges_from(network[['id_lt', 'id_rt']].values);"
   ]
  },
  {
   "cell_type": "code",
   "execution_count": 4,
   "metadata": {},
   "outputs": [
    {
     "name": "stdout",
     "output_type": "stream",
     "text": [
      "Number of nodes: 17340\n",
      "Number of edges: 13584\n",
      "Number of connected components: 5285\n"
     ]
    }
   ],
   "source": [
    "print('Number of nodes: {}\\nNumber of edges: {}\\nNumber of connected components: {}'\n",
    "      .format(nw.number_of_nodes(), nw.number_of_edges(), nx.number_connected_components(nw)))"
   ]
  },
  {
   "cell_type": "code",
   "execution_count": 5,
   "metadata": {},
   "outputs": [],
   "source": [
    "node_scores = pd.read_pickle('../data/interim/node_scores.pkl')"
   ]
  },
  {
   "cell_type": "code",
   "execution_count": 6,
   "metadata": {},
   "outputs": [],
   "source": [
    "weights_df = pd.DataFrame(list(nw.nodes())).merge(node_scores, how='left', left_on=0, right_index=True)\\\n",
    "                .drop('weights', axis=1).rename(columns={0:'id'})"
   ]
  },
  {
   "cell_type": "code",
   "execution_count": 7,
   "metadata": {},
   "outputs": [
    {
     "data": {
      "text/plain": [
       "0.08020313547003893"
      ]
     },
     "execution_count": 7,
     "metadata": {},
     "output_type": "execute_result"
    }
   ],
   "source": [
    "weights_df['pagerank'].sum()"
   ]
  },
  {
   "cell_type": "markdown",
   "metadata": {},
   "source": [
    "I'm normalizing the weights to make them sum to 1, as it is requested by PageRank:"
   ]
  },
  {
   "cell_type": "code",
   "execution_count": 8,
   "metadata": {},
   "outputs": [
    {
     "data": {
      "text/plain": [
       "1.0000000000000007"
      ]
     },
     "execution_count": 8,
     "metadata": {},
     "output_type": "execute_result"
    }
   ],
   "source": [
    "weights = (weights_df['pagerank'] / weights_df['pagerank'].sum()).fillna(0).values\n",
    "weights.sum()"
   ]
  },
  {
   "cell_type": "markdown",
   "metadata": {},
   "source": [
    "## PageRank"
   ]
  },
  {
   "cell_type": "code",
   "execution_count": 9,
   "metadata": {},
   "outputs": [],
   "source": [
    "from scipy import sparse\n",
    "from sklearn.preprocessing import normalize"
   ]
  },
  {
   "cell_type": "code",
   "execution_count": 10,
   "metadata": {},
   "outputs": [],
   "source": [
    "adj = nx.adj_matrix(nw, weight=None)\n",
    "M = normalize(adj, norm='l1', axis=1)"
   ]
  },
  {
   "cell_type": "code",
   "execution_count": 11,
   "metadata": {},
   "outputs": [],
   "source": [
    "v = weights.reshape(-1, 1)"
   ]
  },
  {
   "cell_type": "code",
   "execution_count": 12,
   "metadata": {},
   "outputs": [],
   "source": [
    "# initializing the rank with 1/number of nodes\n",
    "r = np.ones(len(v)) / len(v)\n",
    "r = r.reshape(-1, 1)"
   ]
  },
  {
   "cell_type": "code",
   "execution_count": 13,
   "metadata": {},
   "outputs": [],
   "source": [
    "# precision level\n",
    "eps = 1e-9\n",
    "d = 0.9 # damping factor\n",
    "r_prev = r\n",
    "r = d * M.T.dot(r_prev) + (1-d) * v\n",
    "while np.linalg.norm(r - r_prev) > eps:\n",
    "    r_prev = r\n",
    "    r = d * M.T.dot(r_prev) + (1-d) * v"
   ]
  },
  {
   "cell_type": "code",
   "execution_count": 14,
   "metadata": {},
   "outputs": [],
   "source": [
    "node_scores = pd.DataFrame(np.hstack([v, r]), index=list(weights_df['id']))\n",
    "node_scores.rename(columns={0: 'weights', 1:'pagerank'}, inplace=True)"
   ]
  },
  {
   "cell_type": "code",
   "execution_count": 15,
   "metadata": {},
   "outputs": [
    {
     "data": {
      "text/html": [
       "<div>\n",
       "<style>\n",
       "    .dataframe thead tr:only-child th {\n",
       "        text-align: right;\n",
       "    }\n",
       "\n",
       "    .dataframe thead th {\n",
       "        text-align: left;\n",
       "    }\n",
       "\n",
       "    .dataframe tbody tr th {\n",
       "        vertical-align: top;\n",
       "    }\n",
       "</style>\n",
       "<table border=\"1\" class=\"dataframe\">\n",
       "  <thead>\n",
       "    <tr style=\"text-align: right;\">\n",
       "      <th></th>\n",
       "      <th>weights</th>\n",
       "      <th>pagerank</th>\n",
       "    </tr>\n",
       "  </thead>\n",
       "  <tbody>\n",
       "    <tr>\n",
       "      <th>210886</th>\n",
       "      <td>0.0</td>\n",
       "      <td>0.030113</td>\n",
       "    </tr>\n",
       "    <tr>\n",
       "      <th>215156</th>\n",
       "      <td>0.0</td>\n",
       "      <td>0.000769</td>\n",
       "    </tr>\n",
       "    <tr>\n",
       "      <th>214757</th>\n",
       "      <td>0.0</td>\n",
       "      <td>0.000609</td>\n",
       "    </tr>\n",
       "    <tr>\n",
       "      <th>212747</th>\n",
       "      <td>0.0</td>\n",
       "      <td>0.000523</td>\n",
       "    </tr>\n",
       "    <tr>\n",
       "      <th>215234</th>\n",
       "      <td>0.0</td>\n",
       "      <td>0.000507</td>\n",
       "    </tr>\n",
       "    <tr>\n",
       "      <th>211003</th>\n",
       "      <td>0.0</td>\n",
       "      <td>0.000435</td>\n",
       "    </tr>\n",
       "    <tr>\n",
       "      <th>214851</th>\n",
       "      <td>0.0</td>\n",
       "      <td>0.000416</td>\n",
       "    </tr>\n",
       "    <tr>\n",
       "      <th>214402</th>\n",
       "      <td>0.0</td>\n",
       "      <td>0.000416</td>\n",
       "    </tr>\n",
       "    <tr>\n",
       "      <th>210753</th>\n",
       "      <td>0.0</td>\n",
       "      <td>0.000397</td>\n",
       "    </tr>\n",
       "    <tr>\n",
       "      <th>214892</th>\n",
       "      <td>0.0</td>\n",
       "      <td>0.000385</td>\n",
       "    </tr>\n",
       "    <tr>\n",
       "      <th>211488</th>\n",
       "      <td>0.0</td>\n",
       "      <td>0.000384</td>\n",
       "    </tr>\n",
       "    <tr>\n",
       "      <th>211985</th>\n",
       "      <td>0.0</td>\n",
       "      <td>0.000364</td>\n",
       "    </tr>\n",
       "    <tr>\n",
       "      <th>212629</th>\n",
       "      <td>0.0</td>\n",
       "      <td>0.000337</td>\n",
       "    </tr>\n",
       "    <tr>\n",
       "      <th>212558</th>\n",
       "      <td>0.0</td>\n",
       "      <td>0.000337</td>\n",
       "    </tr>\n",
       "    <tr>\n",
       "      <th>213042</th>\n",
       "      <td>0.0</td>\n",
       "      <td>0.000337</td>\n",
       "    </tr>\n",
       "    <tr>\n",
       "      <th>209109</th>\n",
       "      <td>0.0</td>\n",
       "      <td>0.000336</td>\n",
       "    </tr>\n",
       "    <tr>\n",
       "      <th>212632</th>\n",
       "      <td>0.0</td>\n",
       "      <td>0.000330</td>\n",
       "    </tr>\n",
       "    <tr>\n",
       "      <th>215399</th>\n",
       "      <td>0.0</td>\n",
       "      <td>0.000330</td>\n",
       "    </tr>\n",
       "    <tr>\n",
       "      <th>212452</th>\n",
       "      <td>0.0</td>\n",
       "      <td>0.000330</td>\n",
       "    </tr>\n",
       "    <tr>\n",
       "      <th>213069</th>\n",
       "      <td>0.0</td>\n",
       "      <td>0.000330</td>\n",
       "    </tr>\n",
       "    <tr>\n",
       "      <th>210994</th>\n",
       "      <td>0.0</td>\n",
       "      <td>0.000324</td>\n",
       "    </tr>\n",
       "    <tr>\n",
       "      <th>212532</th>\n",
       "      <td>0.0</td>\n",
       "      <td>0.000309</td>\n",
       "    </tr>\n",
       "    <tr>\n",
       "      <th>209187</th>\n",
       "      <td>0.0</td>\n",
       "      <td>0.000307</td>\n",
       "    </tr>\n",
       "    <tr>\n",
       "      <th>211706</th>\n",
       "      <td>0.0</td>\n",
       "      <td>0.000302</td>\n",
       "    </tr>\n",
       "    <tr>\n",
       "      <th>211289</th>\n",
       "      <td>0.0</td>\n",
       "      <td>0.000302</td>\n",
       "    </tr>\n",
       "  </tbody>\n",
       "</table>\n",
       "</div>"
      ],
      "text/plain": [
       "        weights  pagerank\n",
       "210886      0.0  0.030113\n",
       "215156      0.0  0.000769\n",
       "214757      0.0  0.000609\n",
       "212747      0.0  0.000523\n",
       "215234      0.0  0.000507\n",
       "211003      0.0  0.000435\n",
       "214851      0.0  0.000416\n",
       "214402      0.0  0.000416\n",
       "210753      0.0  0.000397\n",
       "214892      0.0  0.000385\n",
       "211488      0.0  0.000384\n",
       "211985      0.0  0.000364\n",
       "212629      0.0  0.000337\n",
       "212558      0.0  0.000337\n",
       "213042      0.0  0.000337\n",
       "209109      0.0  0.000336\n",
       "212632      0.0  0.000330\n",
       "215399      0.0  0.000330\n",
       "212452      0.0  0.000330\n",
       "213069      0.0  0.000330\n",
       "210994      0.0  0.000324\n",
       "212532      0.0  0.000309\n",
       "209187      0.0  0.000307\n",
       "211706      0.0  0.000302\n",
       "211289      0.0  0.000302"
      ]
     },
     "execution_count": 15,
     "metadata": {},
     "output_type": "execute_result"
    }
   ],
   "source": [
    "node_scores.loc[network['id_rt'].unique()].sort_values(by='pagerank', ascending=False).head(25)"
   ]
  },
  {
   "cell_type": "markdown",
   "metadata": {},
   "source": [
    "## Scoring the Claims\n",
    "\n",
    "As previously I'm going to use the mean of the scores of all the witnesses involved."
   ]
  },
  {
   "cell_type": "code",
   "execution_count": 16,
   "metadata": {},
   "outputs": [],
   "source": [
    "network = network.merge(node_scores, how='left', left_on='id_rt', right_index=True)\\\n",
    "                .drop('weights', axis=1).rename(columns={'pagerank':'witness_pagerank'})"
   ]
  },
  {
   "cell_type": "code",
   "execution_count": 17,
   "metadata": {},
   "outputs": [],
   "source": [
    "network['witness_score'] = network['witness_pagerank']"
   ]
  },
  {
   "cell_type": "code",
   "execution_count": 18,
   "metadata": {
    "scrolled": false
   },
   "outputs": [],
   "source": [
    "nw_scores = network.groupby('claim_code')['witness_score'].mean().reset_index()\n",
    "nw_scores.to_pickle('../data/interim/witnesses_network_scores.pkl')"
   ]
  },
  {
   "cell_type": "markdown",
   "metadata": {},
   "source": [
    "## Following Notebooks\n",
    "\n",
    "- [Dataset Creation](3-Input_dataset_creation.ipynb)\n",
    "- [Random Forest Prediction](4-Model.ipynb)"
   ]
  }
 ],
 "metadata": {
  "kernelspec": {
   "display_name": "Python 3",
   "language": "python",
   "name": "python3"
  },
  "language_info": {
   "codemirror_mode": {
    "name": "ipython",
    "version": 3
   },
   "file_extension": ".py",
   "mimetype": "text/x-python",
   "name": "python",
   "nbconvert_exporter": "python",
   "pygments_lexer": "ipython3",
   "version": "3.6.3"
  }
 },
 "nbformat": 4,
 "nbformat_minor": 2
}
