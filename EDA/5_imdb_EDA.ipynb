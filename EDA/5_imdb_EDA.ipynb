{
 "cells": [
  {
   "cell_type": "markdown",
   "metadata": {},
   "source": [
    "# Imdb Movies' EDA"
   ]
  },
  {
   "cell_type": "code",
   "execution_count": 1,
   "metadata": {
    "collapsed": false
   },
   "outputs": [],
   "source": [
    "import pandas as pd\n",
    "import numpy as np\n",
    "import matplotlib.pyplot as plt\n",
    "import seaborn as sns\n",
    "%matplotlib inline\n",
    "\n",
    "from scipy import stats\n",
    "\n",
    "from helper import *\n",
    "\n",
    "pd.set_option('display.max_columns', 100)"
   ]
  },
  {
   "cell_type": "markdown",
   "metadata": {},
   "source": [
    "## The question"
   ]
  },
  {
   "cell_type": "markdown",
   "metadata": {},
   "source": [
    "What factors make a movie financially successful? Is it a question of genre and/or actors and directors taking part in the movie or do the movie rating sites play a role in making a movie successful (or, as it has been said [here](http://www.hollywoodreporter.com/news/studios-fight-back-withering-rotten-tomatoes-scores-1025575), *unsuccessful*)?"
   ]
  },
  {
   "cell_type": "markdown",
   "metadata": {},
   "source": [
    "## Importing the Data"
   ]
  },
  {
   "cell_type": "markdown",
   "metadata": {},
   "source": [
    "We start by reading the pickle file containing the imdb and budget data and looking at the top movies by worldwide ROI:"
   ]
  },
  {
   "cell_type": "code",
   "execution_count": 2,
   "metadata": {
    "collapsed": true
   },
   "outputs": [],
   "source": [
    "imdb = pd.read_pickle('pickle/imdb_full.p')"
   ]
  },
  {
   "cell_type": "code",
   "execution_count": 3,
   "metadata": {
    "collapsed": false
   },
   "outputs": [
    {
     "data": {
      "text/html": [
       "<div>\n",
       "<table border=\"1\" class=\"dataframe\">\n",
       "  <thead>\n",
       "    <tr style=\"text-align: right;\">\n",
       "      <th></th>\n",
       "      <th>movie_title</th>\n",
       "      <th>release_year</th>\n",
       "      <th>worldwide_ROI</th>\n",
       "      <th>adj_production_budget</th>\n",
       "      <th>adj_worldwide_gross</th>\n",
       "      <th>budget_type</th>\n",
       "    </tr>\n",
       "  </thead>\n",
       "  <tbody>\n",
       "    <tr>\n",
       "      <th>430</th>\n",
       "      <td>Paranormal Activity</td>\n",
       "      <td>2009.0</td>\n",
       "      <td>430.517853</td>\n",
       "      <td>5.034244e+05</td>\n",
       "      <td>2.172366e+08</td>\n",
       "      <td>low</td>\n",
       "    </tr>\n",
       "    <tr>\n",
       "      <th>430</th>\n",
       "      <td>The Gallows</td>\n",
       "      <td>2015.0</td>\n",
       "      <td>416.538810</td>\n",
       "      <td>1.012615e+05</td>\n",
       "      <td>4.228061e+07</td>\n",
       "      <td>micro</td>\n",
       "    </tr>\n",
       "    <tr>\n",
       "      <th>430</th>\n",
       "      <td>The Blair Witch Project</td>\n",
       "      <td>1999.0</td>\n",
       "      <td>412.833333</td>\n",
       "      <td>8.643709e+05</td>\n",
       "      <td>3.577055e+08</td>\n",
       "      <td>low</td>\n",
       "    </tr>\n",
       "    <tr>\n",
       "      <th>430</th>\n",
       "      <td>Super Size Me</td>\n",
       "      <td>2004.0</td>\n",
       "      <td>341.058585</td>\n",
       "      <td>8.258579e+04</td>\n",
       "      <td>2.824918e+07</td>\n",
       "      <td>micro</td>\n",
       "    </tr>\n",
       "    <tr>\n",
       "      <th>430</th>\n",
       "      <td>Bambi</td>\n",
       "      <td>1942.0</td>\n",
       "      <td>311.354312</td>\n",
       "      <td>1.263350e+07</td>\n",
       "      <td>3.946127e+09</td>\n",
       "      <td>normal</td>\n",
       "    </tr>\n",
       "    <tr>\n",
       "      <th>430</th>\n",
       "      <td>El Mariachi</td>\n",
       "      <td>1993.0</td>\n",
       "      <td>290.704000</td>\n",
       "      <td>1.162664e+04</td>\n",
       "      <td>3.391536e+06</td>\n",
       "      <td>micro</td>\n",
       "    </tr>\n",
       "    <tr>\n",
       "      <th>430</th>\n",
       "      <td>Rocky</td>\n",
       "      <td>1976.0</td>\n",
       "      <td>224.000000</td>\n",
       "      <td>4.218049e+06</td>\n",
       "      <td>9.490611e+08</td>\n",
       "      <td>normal</td>\n",
       "    </tr>\n",
       "    <tr>\n",
       "      <th>430</th>\n",
       "      <td>Halloween</td>\n",
       "      <td>1978.0</td>\n",
       "      <td>214.384615</td>\n",
       "      <td>1.196354e+06</td>\n",
       "      <td>2.576762e+08</td>\n",
       "      <td>low</td>\n",
       "    </tr>\n",
       "    <tr>\n",
       "      <th>430</th>\n",
       "      <td>The Brothers McMullen</td>\n",
       "      <td>1995.0</td>\n",
       "      <td>207.530120</td>\n",
       "      <td>7.874245e+04</td>\n",
       "      <td>1.642017e+07</td>\n",
       "      <td>micro</td>\n",
       "    </tr>\n",
       "    <tr>\n",
       "      <th>430</th>\n",
       "      <td>American Graffiti</td>\n",
       "      <td>1973.0</td>\n",
       "      <td>179.180180</td>\n",
       "      <td>4.200122e+06</td>\n",
       "      <td>7.567788e+08</td>\n",
       "      <td>normal</td>\n",
       "    </tr>\n",
       "  </tbody>\n",
       "</table>\n",
       "</div>"
      ],
      "text/plain": [
       "                 movie_title  release_year  worldwide_ROI  \\\n",
       "430      Paranormal Activity        2009.0     430.517853   \n",
       "430              The Gallows        2015.0     416.538810   \n",
       "430  The Blair Witch Project        1999.0     412.833333   \n",
       "430            Super Size Me        2004.0     341.058585   \n",
       "430                    Bambi        1942.0     311.354312   \n",
       "430              El Mariachi        1993.0     290.704000   \n",
       "430                    Rocky        1976.0     224.000000   \n",
       "430                Halloween        1978.0     214.384615   \n",
       "430    The Brothers McMullen        1995.0     207.530120   \n",
       "430        American Graffiti        1973.0     179.180180   \n",
       "\n",
       "     adj_production_budget  adj_worldwide_gross budget_type  \n",
       "430           5.034244e+05         2.172366e+08         low  \n",
       "430           1.012615e+05         4.228061e+07       micro  \n",
       "430           8.643709e+05         3.577055e+08         low  \n",
       "430           8.258579e+04         2.824918e+07       micro  \n",
       "430           1.263350e+07         3.946127e+09      normal  \n",
       "430           1.162664e+04         3.391536e+06       micro  \n",
       "430           4.218049e+06         9.490611e+08      normal  \n",
       "430           1.196354e+06         2.576762e+08         low  \n",
       "430           7.874245e+04         1.642017e+07       micro  \n",
       "430           4.200122e+06         7.567788e+08      normal  "
      ]
     },
     "execution_count": 3,
     "metadata": {},
     "output_type": "execute_result"
    }
   ],
   "source": [
    "imdb[['movie_title', 'release_year', 'worldwide_ROI', 'adj_production_budget', 'adj_worldwide_gross', 'budget_type']].sort_values(by='worldwide_ROI', ascending=False).head(10)"
   ]
  },
  {
   "cell_type": "markdown",
   "metadata": {},
   "source": [
    "As you can see, in the top positions we have a lot of low and micro budget movies (having low budgets it seems quite natural that successful ones would have high ROI); since we want to investigate what makes a movie financially successful, in our analysis we will assume that we are interested only in normal budget movies. Moreover, we will look only at movies released after 2000 because we would like to assert the influence of online ratings.\n",
    "\n",
    "Using this filters there remain 2731 movies in our dataset:"
   ]
  },
  {
   "cell_type": "code",
   "execution_count": 4,
   "metadata": {
    "collapsed": false
   },
   "outputs": [
    {
     "data": {
      "text/plain": [
       "2731"
      ]
     },
     "execution_count": 4,
     "metadata": {},
     "output_type": "execute_result"
    }
   ],
   "source": [
    "normal_post2000 = imdb[(imdb.release_year >= 2000) & (imdb.budget_type == 'normal')].copy()\n",
    "len(normal_post2000)"
   ]
  },
  {
   "cell_type": "markdown",
   "metadata": {},
   "source": [
    "Now we add a column that categorizes the financial success of a movie in five bins, using the percentiles as a guidance:"
   ]
  },
  {
   "cell_type": "code",
   "execution_count": 5,
   "metadata": {
    "collapsed": false
   },
   "outputs": [
    {
     "data": {
      "text/plain": [
       "0.2   -0.347397\n",
       "0.4    0.453957\n",
       "0.6    1.459903\n",
       "0.8    3.161891\n",
       "Name: worldwide_ROI, dtype: float64"
      ]
     },
     "execution_count": 5,
     "metadata": {},
     "output_type": "execute_result"
    }
   ],
   "source": [
    "normal_post2000.worldwide_ROI.quantile([0.2, 0.4, 0.6, 0.8])"
   ]
  },
  {
   "cell_type": "code",
   "execution_count": 6,
   "metadata": {
    "collapsed": false
   },
   "outputs": [
    {
     "name": "stdout",
     "output_type": "stream",
     "text": [
      "434\n",
      "808\n",
      "1657\n",
      "2151\n"
     ]
    }
   ],
   "source": [
    "print(len(normal_post2000[normal_post2000.worldwide_ROI <= -0.5]))\n",
    "print(len(normal_post2000[normal_post2000.worldwide_ROI <= 0]))\n",
    "print(len(normal_post2000[normal_post2000.worldwide_ROI <= 1.5]))\n",
    "print(len(normal_post2000[normal_post2000.worldwide_ROI <= 3]))"
   ]
  },
  {
   "cell_type": "code",
   "execution_count": 7,
   "metadata": {
    "collapsed": true
   },
   "outputs": [],
   "source": [
    "def movie_success(ROI):\n",
    "    if ROI <= -0.5:\n",
    "        return 'very bad'\n",
    "    if ROI <= 0:\n",
    "        return 'bad'\n",
    "    if ROI <= 1.5:\n",
    "        return 'good'\n",
    "    if ROI <= 3:\n",
    "        return 'very good'\n",
    "    if ROI > 3:\n",
    "        return 'excellent'\n",
    "    else:\n",
    "        return 'missing'"
   ]
  },
  {
   "cell_type": "code",
   "execution_count": 8,
   "metadata": {
    "collapsed": false
   },
   "outputs": [],
   "source": [
    "normal_post2000['movie_success'] = normal_post2000.worldwide_ROI.apply(movie_success)"
   ]
  },
  {
   "cell_type": "markdown",
   "metadata": {},
   "source": [
    "\n",
    "## Analysis by Actor"
   ]
  },
  {
   "cell_type": "markdown",
   "metadata": {},
   "source": [
    "From now on we investigate the eventual correlation between actors, directors and genres with the success of a movie.\n",
    "\n",
    "We start by creating a list of all the actors in the dataset and calculating the ROI for every one of them based on all the movies they were in."
   ]
  },
  {
   "cell_type": "code",
   "execution_count": 9,
   "metadata": {
    "collapsed": false
   },
   "outputs": [
    {
     "data": {
      "text/plain": [
       "3530"
      ]
     },
     "execution_count": 9,
     "metadata": {},
     "output_type": "execute_result"
    }
   ],
   "source": [
    "actors = actors_list(normal_post2000)\n",
    "len(actors)"
   ]
  },
  {
   "cell_type": "markdown",
   "metadata": {},
   "source": [
    "(I think I should account for actor's importance in the movie, such as assigning 1/2, 1/3, 1/6 -> 1, 2/3, 1/3 but I won't do it for the moment being.)"
   ]
  },
  {
   "cell_type": "code",
   "execution_count": 10,
   "metadata": {
    "collapsed": false,
    "scrolled": true
   },
   "outputs": [],
   "source": [
    "imdb_by_actor = movies_by_actor(normal_post2000, actors)"
   ]
  },
  {
   "cell_type": "markdown",
   "metadata": {},
   "source": [
    "Let's see who the top 20 actors with at least 10 movies by worldwide ROI are:"
   ]
  },
  {
   "cell_type": "code",
   "execution_count": 11,
   "metadata": {
    "collapsed": false
   },
   "outputs": [
    {
     "data": {
      "image/png": "[encoded data removed]",
      "text/plain": [
       "<matplotlib.figure.Figure at 0x26a05aa5630>"
      ]
     },
     "metadata": {},
     "output_type": "display_data"
    }
   ],
   "source": [
    "imdb_actors_ROI = actors_ROI(imdb_by_actor)\n",
    "ax = imdb_actors_ROI[(imdb_actors_ROI.number_movies > 9)].sort_values(by='ROI', ascending=False).head(20).plot.bar(y=['ROI'], figsize=(16, 8))\n",
    "fig = ax.get_figure()\n",
    "fig.savefig('figures/top_actors.png');"
   ]
  },
  {
   "cell_type": "markdown",
   "metadata": {},
   "source": [
    "To see if the presence of an actor is related to the success of a movie, we will add the actor's ROI to every movie they were in and use the same logic used for the movies to categorize them in bins. We will do so for actor number 1, 2 and 3:"
   ]
  },
  {
   "cell_type": "code",
   "execution_count": 12,
   "metadata": {
    "collapsed": false
   },
   "outputs": [],
   "source": [
    "normal_post2000 = normal_post2000.merge(\n",
    "    imdb_actors_ROI[['ROI', 'number_movies']], left_on='actor_1_name', right_index=True, how='left').rename(\n",
    "    columns={\n",
    "        'ROI_x':'movie_ROI',\n",
    "        'ROI_y':'actor_1_ROI',\n",
    "        'number_movies':'actor_1_number_movies'\n",
    "    })\n",
    "\n",
    "normal_post2000['actor_1_success'] = normal_post2000.actor_1_ROI.apply(movie_success)"
   ]
  },
  {
   "cell_type": "code",
   "execution_count": 13,
   "metadata": {
    "collapsed": false
   },
   "outputs": [],
   "source": [
    "normal_post2000 = normal_post2000.merge(\n",
    "    imdb_actors_ROI[['ROI', 'number_movies']], left_on='actor_2_name', right_index=True, how='left').rename(\n",
    "    columns={\n",
    "        'ROI':'actor_2_ROI',\n",
    "        'number_movies':'actor_2_number_movies'\n",
    "    })\n",
    "\n",
    "normal_post2000['actor_2_success'] = normal_post2000.actor_2_ROI.apply(movie_success)"
   ]
  },
  {
   "cell_type": "code",
   "execution_count": 14,
   "metadata": {
    "collapsed": true
   },
   "outputs": [],
   "source": [
    "normal_post2000 = normal_post2000.merge(\n",
    "    imdb_actors_ROI[['ROI', 'number_movies']], left_on='actor_3_name', right_index=True, how='left').rename(\n",
    "    columns={\n",
    "        'ROI':'actor_3_ROI',\n",
    "        'number_movies':'actor_3_number_movies'\n",
    "    })\n",
    "\n",
    "normal_post2000['actor_3_success'] = normal_post2000.actor_3_ROI.apply(movie_success)"
   ]
  },
  {
   "cell_type": "markdown",
   "metadata": {},
   "source": [
    "Now, we use a chi square contingency test to see movie success and actor success are related:"
   ]
  },
  {
   "cell_type": "code",
   "execution_count": 15,
   "metadata": {
    "collapsed": false
   },
   "outputs": [
    {
     "name": "stdout",
     "output_type": "stream",
     "text": [
      "Contingency table for actor 1:\n",
      "\n",
      "actor_1_success  bad  excellent  good  very bad  very good\n",
      "movie_success                                             \n",
      "bad               83         36   131         8        116\n",
      "excellent          3        249    70         0        258\n",
      "good              15         62   439         2        331\n",
      "very bad          31         33   142       112        116\n",
      "very good          3         45   141         0        305\n",
      "\n",
      "Expected values for actor 1:\n",
      "\n",
      "[[  18.48773343   58.20212376  126.4013182    16.70743317  154.20139143]\n",
      " [  28.67081655   90.25997803  196.02343464   25.90992311  239.13584767]\n",
      " [  41.96814354  132.12193336  286.93775174   37.92676675  350.04540461]\n",
      " [  21.45367997   67.53936287  146.67960454   19.38777005  178.93958257]\n",
      " [  24.41962651   76.87660198  166.95789088   22.06810692  203.67777371]]\n",
      "\n",
      "p-value for actor 1: 1.3484523348907006e-293\n",
      "\n"
     ]
    }
   ],
   "source": [
    "cross_actor_1 = pd.crosstab(index=normal_post2000.movie_success, columns=normal_post2000.actor_1_success)\n",
    "print('Contingency table for actor 1:\\n\\n{}\\n'.format(cross_actor_1))\n",
    "test_actor_1 = stats.chi2_contingency(cross_actor_1)\n",
    "print('Expected values for actor 1:\\n\\n{}\\n'.format(test_actor_1[-1]))\n",
    "print('p-value for actor 1: {}\\n'.format(test_actor_1[1]))"
   ]
  },
  {
   "cell_type": "code",
   "execution_count": 16,
   "metadata": {
    "collapsed": false
   },
   "outputs": [
    {
     "name": "stdout",
     "output_type": "stream",
     "text": [
      "Contingency table for actor 2:\n",
      "\n",
      "actor_2_success  bad  excellent  good  very bad  very good\n",
      "movie_success                                             \n",
      "bad              153         23   131        10         57\n",
      "excellent          2        310    81         0        187\n",
      "good              35         38   575         8        192\n",
      "very bad          38         21   151       175         49\n",
      "very good          5         42   151         0        296\n",
      "\n",
      "Expected values for actor 2:\n",
      "\n",
      "[[  31.92014652   59.45641026  149.18901099   26.44029304  106.99413919]\n",
      " [  49.5018315    92.20512821  231.36263736   41.003663    165.92673993]\n",
      " [  72.37509158  134.81025641  338.26813187   59.95018315  242.596337  ]\n",
      " [  37.04102564   68.99487179  173.12307692   30.68205128  124.15897436]\n",
      " [  42.16190476   78.53333333  197.05714286   34.92380952  141.32380952]]\n",
      "\n",
      "p-value for actor 2: 0.0\n",
      "\n"
     ]
    }
   ],
   "source": [
    "cross_actor_2 = pd.crosstab(index=normal_post2000[normal_post2000.actor_2_success != 'missing'].movie_success,\n",
    "                            columns=normal_post2000[normal_post2000.actor_2_success != 'missing'].actor_2_success)\n",
    "print('Contingency table for actor 2:\\n\\n{}\\n'.format(cross_actor_2))\n",
    "test_actor_2 = stats.chi2_contingency(cross_actor_2)\n",
    "print('Expected values for actor 2:\\n\\n{}\\n'.format(test_actor_2[-1]))\n",
    "print('p-value for actor 2: {}\\n'.format(test_actor_2[1]))"
   ]
  },
  {
   "cell_type": "code",
   "execution_count": 17,
   "metadata": {
    "collapsed": false
   },
   "outputs": [
    {
     "name": "stdout",
     "output_type": "stream",
     "text": [
      "Contingency table for actor 3:\n",
      "\n",
      "actor_3_success  bad  excellent  good  very bad  very good\n",
      "movie_success                                             \n",
      "bad              189         15   110        13         47\n",
      "excellent          4        378    55         0        143\n",
      "good              27         37   639         1        143\n",
      "very bad          42         13    98       250         30\n",
      "very good          3         44   153         0        293\n",
      "\n",
      "Expected values for actor 3:\n",
      "\n",
      "[[  36.34396773   66.79061239  144.69013568   36.20682068   89.96846351]\n",
      " [  56.3623029   103.57902457  224.38577191   56.14961496  139.52328566]\n",
      " [  82.30839751  151.26109278  327.68060139   81.99779978  203.75210854]\n",
      " [  42.0773744    77.32709938  167.51558489   41.91859186  104.16134947]\n",
      " [  47.90795746   88.04217088  190.72790612   47.72717272  118.59479281]]\n",
      "\n",
      "p-value for actor 3: 0.0\n",
      "\n"
     ]
    }
   ],
   "source": [
    "cross_actor_3 = pd.crosstab(index=normal_post2000[normal_post2000.actor_3_success != 'missing'].movie_success,\n",
    "                            columns=normal_post2000[normal_post2000.actor_3_success != 'missing'].actor_3_success)\n",
    "print('Contingency table for actor 3:\\n\\n{}\\n'.format(cross_actor_3))\n",
    "test_actor_3 = stats.chi2_contingency(cross_actor_3)\n",
    "print('Expected values for actor 3:\\n\\n{}\\n'.format(test_actor_3[-1]))\n",
    "print('p-value for actor 3: {}\\n'.format(test_actor_3[1]))"
   ]
  },
  {
   "cell_type": "markdown",
   "metadata": {},
   "source": [
    "Since all the expected values are over 5 and the p-values are much less than 0.01 we can reject the null hypothesis that movie and actor success are independent."
   ]
  },
  {
   "cell_type": "markdown",
   "metadata": {},
   "source": [
    "## Analysis by Director"
   ]
  },
  {
   "cell_type": "markdown",
   "metadata": {},
   "source": [
    "Now we repeat all the steps above for the directors:"
   ]
  },
  {
   "cell_type": "code",
   "execution_count": 18,
   "metadata": {
    "collapsed": false
   },
   "outputs": [
    {
     "data": {
      "text/plain": [
       "1388"
      ]
     },
     "execution_count": 18,
     "metadata": {},
     "output_type": "execute_result"
    }
   ],
   "source": [
    "directors = directors_list(normal_post2000)\n",
    "len(directors)"
   ]
  },
  {
   "cell_type": "code",
   "execution_count": 19,
   "metadata": {
    "collapsed": false
   },
   "outputs": [],
   "source": [
    "imdb_by_director = movies_by_director(normal_post2000, directors)"
   ]
  },
  {
   "cell_type": "markdown",
   "metadata": {},
   "source": [
    "Let's see who the top 20 directors with at least 5 movies by worldwide ROI are:"
   ]
  },
  {
   "cell_type": "code",
   "execution_count": 20,
   "metadata": {
    "collapsed": false,
    "scrolled": false
   },
   "outputs": [
    {
     "data": {
      "image/png": "[encoded data removed]",
      "text/plain": [
       "<matplotlib.figure.Figure at 0x26a06b37d68>"
      ]
     },
     "metadata": {},
     "output_type": "display_data"
    }
   ],
   "source": [
    "imdb_directors_ROI = directors_ROI(imdb_by_director)\n",
    "ax = imdb_directors_ROI[(imdb_directors_ROI.number_movies > 4)].sort_values(by='ROI', ascending=False).head(20).plot.bar(y=['ROI'], figsize=(16, 8));\n",
    "fig = ax.get_figure()\n",
    "fig.savefig('figures/top_directors.png');"
   ]
  },
  {
   "cell_type": "markdown",
   "metadata": {},
   "source": [
    "Here we create the director success column and test for independence with the movie success:"
   ]
  },
  {
   "cell_type": "code",
   "execution_count": 21,
   "metadata": {
    "collapsed": false
   },
   "outputs": [],
   "source": [
    "normal_post2000 = normal_post2000.merge(\n",
    "    imdb_directors_ROI[['ROI', 'number_movies']], left_on='director_name', right_index=True, how='left').rename(\n",
    "    columns={\n",
    "        'ROI':'director_ROI',\n",
    "        'number_movies':'director_number_movies'\n",
    "    })\n",
    "\n",
    "normal_post2000['director_success'] = normal_post2000.director_ROI.apply(movie_success)"
   ]
  },
  {
   "cell_type": "code",
   "execution_count": 22,
   "metadata": {
    "collapsed": false
   },
   "outputs": [
    {
     "name": "stdout",
     "output_type": "stream",
     "text": [
      "Contingency table for director:\n",
      "\n",
      "director_success  bad  excellent  good  very bad  very good\n",
      "movie_success                                              \n",
      "bad               177         11   125        12         49\n",
      "excellent           0        294    66         0        220\n",
      "good               33         33   571         6        206\n",
      "very bad           40         10    80       281         23\n",
      "very good           1         48   147         0        298\n",
      "\n",
      "Expected values for director:\n",
      "\n",
      "[[  34.37348956   54.23068473  135.43976565   40.9469059   109.00915416]\n",
      " [  53.30648114   84.10106188  210.04027829   63.50054925  169.05162944]\n",
      " [  78.02965947  123.10655438  307.4555108    92.95166606  247.4566093 ]\n",
      " [  39.88795313   62.93079458  157.1680703    47.51592823  126.49725375]\n",
      " [  45.4024167    71.63090443  178.89637495   54.08495057  143.98535335]]\n",
      "\n",
      "p-value for director: 0.0\n",
      "\n"
     ]
    }
   ],
   "source": [
    "cross_director = pd.crosstab(index=normal_post2000.movie_success,\n",
    "                            columns=normal_post2000.director_success)\n",
    "print('Contingency table for director:\\n\\n{}\\n'.format(cross_director))\n",
    "test_director = stats.chi2_contingency(cross_director)\n",
    "print('Expected values for director:\\n\\n{}\\n'.format(test_director[-1]))\n",
    "print('p-value for director: {}\\n'.format(test_director[1]))"
   ]
  },
  {
   "cell_type": "markdown",
   "metadata": {},
   "source": [
    "The p-value is 0, so we can reject the null hypothesis of independence for the director too."
   ]
  },
  {
   "cell_type": "markdown",
   "metadata": {},
   "source": [
    "## Analysis by Genre"
   ]
  },
  {
   "cell_type": "markdown",
   "metadata": {},
   "source": [
    "Now we'll do the same analysis for the genres: since we don't have many of them we can use the genres directly without assigning categories to them."
   ]
  },
  {
   "cell_type": "code",
   "execution_count": 23,
   "metadata": {
    "collapsed": false,
    "scrolled": true
   },
   "outputs": [],
   "source": [
    "imdb_by_genre = movies_by_genre_worldwide(normal_post2000)\n",
    "imdb_by_genre['movie_success'] = imdb_by_genre.worldwide_ROI.apply(movie_success)"
   ]
  },
  {
   "cell_type": "code",
   "execution_count": 24,
   "metadata": {
    "collapsed": false
   },
   "outputs": [
    {
     "name": "stdout",
     "output_type": "stream",
     "text": [
      "Contingency table for genre:\n",
      "\n",
      "genre          Action  Adventure  Animation  Biography  Comedy  Crime  \\\n",
      "movie_success                                                           \n",
      "bad                85         65         14         28     162     75   \n",
      "excellent         110        128         61         40     244     68   \n",
      "good              245        181         55         53     342    185   \n",
      "very bad           80         45         13         36     160     90   \n",
      "very good         143        130         30         27     205     81   \n",
      "\n",
      "genre          Documentary  Drama  Family  Fantasy  History  Horror  Music  \\\n",
      "movie_success                                                                \n",
      "bad                      5    203      36       39       21      29     34   \n",
      "excellent               18    262      99       91       19      76     45   \n",
      "good                     6    409     125      124       39      61     40   \n",
      "very bad                 7    301      28       33       19      28     24   \n",
      "very good                7    209      75       66       13      47     25   \n",
      "\n",
      "genre          Musical  Mystery  News  Romance  Sci-Fi  Short  Sport  \\\n",
      "movie_success                                                          \n",
      "bad                 11       37     1      103      35      0     22   \n",
      "excellent           14       65     0      127      63      0     16   \n",
      "good                13       92     0      186     110      0     44   \n",
      "very bad            11       41     0      107      45      0     22   \n",
      "very good            9       54     0      114      76      1     14   \n",
      "\n",
      "genre          Thriller  War  Western  \n",
      "movie_success                          \n",
      "bad                 110   13        5  \n",
      "excellent           128   16        3  \n",
      "good                260   38       11  \n",
      "very bad            112   35       14  \n",
      "very good           156   15        2  \n",
      "\n",
      "Expected values for genre:\n",
      "\n",
      "[[  9.16630872e+01   7.59020134e+01   2.39181208e+01   2.54389262e+01\n",
      "    1.53877852e+02   6.89892617e+01   5.94496644e+00   1.91344966e+02\n",
      "    5.01865772e+01   4.88040268e+01   1.53463087e+01   3.33194631e+01\n",
      "    2.32268456e+01   8.01879195e+00   3.99557047e+01   1.38255034e-01\n",
      "    8.80684564e+01   4.54859060e+01   1.38255034e-01   1.63140940e+01\n",
      "    1.05903356e+02   1.61758389e+01   4.83892617e+00]\n",
      " [  1.36968761e+02   1.13417572e+02   3.57399634e+01   3.80124466e+01\n",
      "    2.29933984e+02   1.03088103e+02   8.88334350e+00   2.85919707e+02\n",
      "    7.49919463e+01   7.29260525e+01   2.29314216e+01   4.97880415e+01\n",
      "    3.47070165e+01   1.19821843e+01   5.97043319e+01   2.06589384e-01\n",
      "    1.31597437e+02   6.79679073e+01   2.06589384e-01   2.43775473e+01\n",
      "    1.58247468e+02   2.41709579e+01   7.23062843e+00]\n",
      " [  2.11884930e+02   1.75452227e+02   5.52882245e+01   5.88036608e+01\n",
      "    3.55698231e+02   1.59472971e+02   1.37421599e+01   4.42305796e+02\n",
      "    1.16009396e+02   1.12813545e+02   3.54739475e+01   7.70200122e+01\n",
      "    5.36902990e+01   1.85359365e+01   9.23600976e+01   3.19585113e-01\n",
      "    2.03575717e+02   1.05143502e+02   3.19585113e-01   3.77110433e+01\n",
      "    2.44802196e+02   3.73914582e+01   1.11854790e+01]\n",
      " [  1.01209640e+02   8.38070775e+01   2.64091519e+01   2.80883466e+01\n",
      "    1.69903966e+02   7.61743746e+01   6.56412447e+00   2.11273215e+02\n",
      "    5.54134228e+01   5.38868822e+01   1.69446004e+01   3.67896278e+01\n",
      "    2.56458816e+01   8.85393533e+00   4.41170226e+01   1.52654057e-01\n",
      "    9.72406345e+01   5.02231849e+01   1.52654057e-01   1.80131788e+01\n",
      "    1.16933008e+02   1.78605247e+01   5.34289201e+00]\n",
      " [  1.21273581e+02   1.00421110e+02   3.16445394e+01   3.36566199e+01\n",
      "    2.03585967e+02   9.12752898e+01   7.86540574e+00   2.53156315e+02\n",
      "    6.63986577e+01   6.45694936e+01   2.03037218e+01   4.40828554e+01\n",
      "    3.07299573e+01   1.06091519e+01   5.28628432e+01   1.82916412e-01\n",
      "    1.16517755e+02   6.01794997e+01   1.82916412e-01   2.15841367e+01\n",
      "    1.40113972e+02   2.14012203e+01   6.40207444e+00]]\n",
      "\n",
      "p-value for genre: 2.5336586498513917e-31\n",
      "\n"
     ]
    }
   ],
   "source": [
    "cross_genre = pd.crosstab(index=imdb_by_genre.movie_success,\n",
    "                            columns=imdb_by_genre.genre)\n",
    "print('Contingency table for genre:\\n\\n{}\\n'.format(cross_genre))\n",
    "test_genre = stats.chi2_contingency(cross_genre)\n",
    "print('Expected values for genre:\\n\\n{}\\n'.format(test_genre[-1]))\n",
    "print('p-value for genre: {}\\n'.format(test_genre[1]))"
   ]
  },
  {
   "cell_type": "markdown",
   "metadata": {},
   "source": [
    "Unfortunately, some of the expected counts are under 5 so we can't use the chi square test. This happens because some of the genres have very few movies, we can though use the top genres by number of movies to perform the test:"
   ]
  },
  {
   "cell_type": "code",
   "execution_count": 25,
   "metadata": {
    "collapsed": true
   },
   "outputs": [],
   "source": [
    "imdb_genres_ROI = genres_ROI_worldwide(imdb_by_genre)"
   ]
  },
  {
   "cell_type": "code",
   "execution_count": 26,
   "metadata": {
    "collapsed": false,
    "scrolled": false
   },
   "outputs": [
    {
     "data": {
      "text/html": [
       "<div>\n",
       "<table border=\"1\" class=\"dataframe\">\n",
       "  <thead>\n",
       "    <tr style=\"text-align: right;\">\n",
       "      <th></th>\n",
       "      <th>ROI</th>\n",
       "      <th>number_movies</th>\n",
       "      <th>total_budget</th>\n",
       "      <th>total_gross</th>\n",
       "    </tr>\n",
       "    <tr>\n",
       "      <th>genre</th>\n",
       "      <th></th>\n",
       "      <th></th>\n",
       "      <th></th>\n",
       "      <th></th>\n",
       "    </tr>\n",
       "  </thead>\n",
       "  <tbody>\n",
       "    <tr>\n",
       "      <th>Drama</th>\n",
       "      <td>1.450549</td>\n",
       "      <td>1384.0</td>\n",
       "      <td>4.126071e+10</td>\n",
       "      <td>1.011114e+11</td>\n",
       "    </tr>\n",
       "    <tr>\n",
       "      <th>Comedy</th>\n",
       "      <td>1.847587</td>\n",
       "      <td>1113.0</td>\n",
       "      <td>4.159500e+10</td>\n",
       "      <td>1.184454e+11</td>\n",
       "    </tr>\n",
       "    <tr>\n",
       "      <th>Thriller</th>\n",
       "      <td>1.530693</td>\n",
       "      <td>766.0</td>\n",
       "      <td>3.367724e+10</td>\n",
       "      <td>8.522675e+10</td>\n",
       "    </tr>\n",
       "    <tr>\n",
       "      <th>Action</th>\n",
       "      <td>1.741503</td>\n",
       "      <td>663.0</td>\n",
       "      <td>4.964225e+10</td>\n",
       "      <td>1.360944e+11</td>\n",
       "    </tr>\n",
       "    <tr>\n",
       "      <th>Romance</th>\n",
       "      <td>1.716543</td>\n",
       "      <td>637.0</td>\n",
       "      <td>2.042148e+10</td>\n",
       "      <td>5.547583e+10</td>\n",
       "    </tr>\n",
       "    <tr>\n",
       "      <th>Adventure</th>\n",
       "      <td>2.110928</td>\n",
       "      <td>549.0</td>\n",
       "      <td>5.005327e+10</td>\n",
       "      <td>1.557121e+11</td>\n",
       "    </tr>\n",
       "    <tr>\n",
       "      <th>Crime</th>\n",
       "      <td>1.231194</td>\n",
       "      <td>499.0</td>\n",
       "      <td>1.720078e+10</td>\n",
       "      <td>3.837828e+10</td>\n",
       "    </tr>\n",
       "    <tr>\n",
       "      <th>Family</th>\n",
       "      <td>2.192180</td>\n",
       "      <td>363.0</td>\n",
       "      <td>2.513620e+10</td>\n",
       "      <td>8.023927e+10</td>\n",
       "    </tr>\n",
       "    <tr>\n",
       "      <th>Fantasy</th>\n",
       "      <td>2.096644</td>\n",
       "      <td>353.0</td>\n",
       "      <td>2.830550e+10</td>\n",
       "      <td>8.765205e+10</td>\n",
       "    </tr>\n",
       "    <tr>\n",
       "      <th>Sci-Fi</th>\n",
       "      <td>1.944186</td>\n",
       "      <td>329.0</td>\n",
       "      <td>2.569090e+10</td>\n",
       "      <td>7.563878e+10</td>\n",
       "    </tr>\n",
       "    <tr>\n",
       "      <th>Mystery</th>\n",
       "      <td>1.707151</td>\n",
       "      <td>289.0</td>\n",
       "      <td>1.109931e+10</td>\n",
       "      <td>3.004752e+10</td>\n",
       "    </tr>\n",
       "    <tr>\n",
       "      <th>Horror</th>\n",
       "      <td>1.960810</td>\n",
       "      <td>241.0</td>\n",
       "      <td>6.259575e+09</td>\n",
       "      <td>1.853342e+10</td>\n",
       "    </tr>\n",
       "    <tr>\n",
       "      <th>Biography</th>\n",
       "      <td>1.521239</td>\n",
       "      <td>184.0</td>\n",
       "      <td>4.999400e+09</td>\n",
       "      <td>1.260468e+10</td>\n",
       "    </tr>\n",
       "    <tr>\n",
       "      <th>Animation</th>\n",
       "      <td>2.453049</td>\n",
       "      <td>173.0</td>\n",
       "      <td>1.430330e+10</td>\n",
       "      <td>4.938999e+10</td>\n",
       "    </tr>\n",
       "    <tr>\n",
       "      <th>Music</th>\n",
       "      <td>1.989506</td>\n",
       "      <td>168.0</td>\n",
       "      <td>5.113700e+09</td>\n",
       "      <td>1.528743e+10</td>\n",
       "    </tr>\n",
       "  </tbody>\n",
       "</table>\n",
       "</div>"
      ],
      "text/plain": [
       "                ROI  number_movies  total_budget   total_gross\n",
       "genre                                                         \n",
       "Drama      1.450549         1384.0  4.126071e+10  1.011114e+11\n",
       "Comedy     1.847587         1113.0  4.159500e+10  1.184454e+11\n",
       "Thriller   1.530693          766.0  3.367724e+10  8.522675e+10\n",
       "Action     1.741503          663.0  4.964225e+10  1.360944e+11\n",
       "Romance    1.716543          637.0  2.042148e+10  5.547583e+10\n",
       "Adventure  2.110928          549.0  5.005327e+10  1.557121e+11\n",
       "Crime      1.231194          499.0  1.720078e+10  3.837828e+10\n",
       "Family     2.192180          363.0  2.513620e+10  8.023927e+10\n",
       "Fantasy    2.096644          353.0  2.830550e+10  8.765205e+10\n",
       "Sci-Fi     1.944186          329.0  2.569090e+10  7.563878e+10\n",
       "Mystery    1.707151          289.0  1.109931e+10  3.004752e+10\n",
       "Horror     1.960810          241.0  6.259575e+09  1.853342e+10\n",
       "Biography  1.521239          184.0  4.999400e+09  1.260468e+10\n",
       "Animation  2.453049          173.0  1.430330e+10  4.938999e+10\n",
       "Music      1.989506          168.0  5.113700e+09  1.528743e+10"
      ]
     },
     "execution_count": 26,
     "metadata": {},
     "output_type": "execute_result"
    }
   ],
   "source": [
    "imdb_genres_ROI.sort_values(by='number_movies', ascending=False).head(15)"
   ]
  },
  {
   "cell_type": "code",
   "execution_count": 27,
   "metadata": {
    "collapsed": true
   },
   "outputs": [],
   "source": [
    "top15genres = ['Drama', 'Comedy', 'Thriller', 'Action', 'Romance', 'Adventure', 'Crime', 'Family', 'Fantasy', 'Sci-Fi', 'Mystery', 'Horror', 'Biography', 'Animation', 'Music']"
   ]
  },
  {
   "cell_type": "code",
   "execution_count": 28,
   "metadata": {
    "collapsed": false
   },
   "outputs": [
    {
     "name": "stdout",
     "output_type": "stream",
     "text": [
      "Contingency table for genre:\n",
      "\n",
      "genre          Action  Adventure  Animation  Biography  Comedy  Crime  Drama  \\\n",
      "movie_success                                                                  \n",
      "bad                85         65         14         28     162     75    203   \n",
      "excellent         110        128         61         40     244     68    262   \n",
      "good              245        181         55         53     342    185    409   \n",
      "very bad           80         45         13         36     160     90    301   \n",
      "very good         143        130         30         27     205     81    209   \n",
      "\n",
      "genre          Family  Fantasy  Horror  Music  Mystery  Romance  Sci-Fi  \\\n",
      "movie_success                                                             \n",
      "bad                36       39      29     34       37      103      35   \n",
      "excellent          99       91      76     45       65      127      63   \n",
      "good              125      124      61     40       92      186     110   \n",
      "very bad           28       33      28     24       41      107      45   \n",
      "very good          75       66      47     25       54      114      76   \n",
      "\n",
      "genre          Thriller  \n",
      "movie_success            \n",
      "bad                 110  \n",
      "excellent           128  \n",
      "good                260  \n",
      "very bad            112  \n",
      "very good           156  \n",
      "\n",
      "Expected values for genre:\n",
      "\n",
      "[[  90.71002464   75.11282583   23.66943328   25.17442614  152.27791467\n",
      "    68.27194916  189.35546622   49.66476462   48.29658929   32.97302555\n",
      "    22.98534561   39.54026715   87.15276877   45.01296849  104.80223058]\n",
      " [ 138.17157308  114.41356504   36.05381922   38.34625859  231.95318376\n",
      "   103.99338607  288.43055375   75.65049929   73.56646349   50.22526261\n",
      "    35.01180132   60.22863442  132.75308002   68.56477759  159.63714175]\n",
      " [ 212.20127091  175.71417456   55.37076903   58.89145377  356.22928284\n",
      "   159.71106212  442.96615225  116.18259629  112.9819738    77.13500195\n",
      "    53.77045779   92.49798988  203.87965244  105.30047983  245.16768253]\n",
      " [  98.27635845   81.37816107   25.64375567   27.27428349  164.97976916\n",
      "    73.96667099  205.15004539   53.80741797   52.32511996   35.72338218\n",
      "    24.90260667   42.83841266   94.42238361   48.76760472  113.54402801]\n",
      " [ 123.64077292  102.38127351   32.2622228    34.31357801  207.55984957\n",
      "    93.05693166  258.09778239   67.69472183   65.82985346   44.94332771\n",
      "    31.32978861   53.89469589  118.79211516   61.35416937  142.84891713]]\n",
      "\n",
      "p-value for genre: 3.556694091051536e-27\n",
      "\n"
     ]
    }
   ],
   "source": [
    "cross_genre = pd.crosstab(index=imdb_by_genre.loc[imdb_by_genre.genre.isin(top15genres), 'movie_success'],\n",
    "                            columns=imdb_by_genre.loc[imdb_by_genre.genre.isin(top15genres), 'genre'])\n",
    "print('Contingency table for genre:\\n\\n{}\\n'.format(cross_genre))\n",
    "test_genre = stats.chi2_contingency(cross_genre)\n",
    "print('Expected values for genre:\\n\\n{}\\n'.format(test_genre[-1]))\n",
    "print('p-value for genre: {}\\n'.format(test_genre[1]))"
   ]
  },
  {
   "cell_type": "markdown",
   "metadata": {},
   "source": [
    "The p-value is again very low and we reject the null hypothesis of independence between movie success and genre."
   ]
  },
  {
   "cell_type": "markdown",
   "metadata": {
    "collapsed": true
   },
   "source": [
    "## Testing the Ratings "
   ]
  },
  {
   "cell_type": "markdown",
   "metadata": {},
   "source": [
    "Finally, we will test whether imdb ratings are related to movie success. We apply the same method as above, binning the scores using the quantiles as guidance:"
   ]
  },
  {
   "cell_type": "code",
   "execution_count": 29,
   "metadata": {
    "collapsed": false
   },
   "outputs": [
    {
     "data": {
      "text/plain": [
       "0.2    5.6\n",
       "0.4    6.3\n",
       "0.6    6.7\n",
       "0.8    7.3\n",
       "Name: imdb_score, dtype: float64"
      ]
     },
     "execution_count": 29,
     "metadata": {},
     "output_type": "execute_result"
    }
   ],
   "source": [
    "normal_post2000.imdb_score.quantile([0.2, 0.4, 0.6, 0.8])"
   ]
  },
  {
   "cell_type": "code",
   "execution_count": 30,
   "metadata": {
    "collapsed": false
   },
   "outputs": [
    {
     "name": "stdout",
     "output_type": "stream",
     "text": [
      "261\n",
      "888\n",
      "1964\n",
      "2646\n",
      "2731\n"
     ]
    }
   ],
   "source": [
    "print(len(normal_post2000[normal_post2000.imdb_score <= 5]))\n",
    "print(len(normal_post2000[normal_post2000.imdb_score <= 6]))\n",
    "print(len(normal_post2000[normal_post2000.imdb_score <= 7]))\n",
    "print(len(normal_post2000[normal_post2000.imdb_score <= 8]))\n",
    "print(len(normal_post2000))"
   ]
  },
  {
   "cell_type": "code",
   "execution_count": 31,
   "metadata": {
    "collapsed": false
   },
   "outputs": [],
   "source": [
    "def score_category(score):\n",
    "    if score <= 5:\n",
    "        return 'very low'\n",
    "    if score <= 6:\n",
    "        return 'low'\n",
    "    if score <= 7:\n",
    "        return 'good'\n",
    "    if score <= 8:\n",
    "        return 'very good'\n",
    "    if score <= 10:\n",
    "        return 'excellent'\n",
    "    else:\n",
    "        return 'missing'"
   ]
  },
  {
   "cell_type": "code",
   "execution_count": 32,
   "metadata": {
    "collapsed": true
   },
   "outputs": [],
   "source": [
    "normal_post2000['score_category'] = normal_post2000.imdb_score.apply(score_category)"
   ]
  },
  {
   "cell_type": "markdown",
   "metadata": {},
   "source": [
    "and we repeat the chi square test using the categories just defined:"
   ]
  },
  {
   "cell_type": "code",
   "execution_count": 33,
   "metadata": {
    "collapsed": false
   },
   "outputs": [
    {
     "name": "stdout",
     "output_type": "stream",
     "text": [
      "Contingency table for score:\n",
      "\n",
      "score_category  excellent  good  low  very good  very low\n",
      "movie_success                                            \n",
      "bad                     5   137  117         68        47\n",
      "excellent              46   181   81        233        39\n",
      "good                   11   374  204        184        76\n",
      "very bad                3   197  110         63        61\n",
      "very good              20   187  115        134        38\n",
      "\n",
      "Expected values for score:\n",
      "\n",
      "[[  11.64042475  147.35408275   85.86525082   93.39729037   35.7429513 ]\n",
      " [  18.05199561  228.51702673  133.16001465  144.84071769   55.43024533]\n",
      " [  26.42438667  334.50164775  194.91871109  212.01684365   81.13841084]\n",
      " [  13.50787257  170.99377517   99.64042475  108.38081289   41.47711461]\n",
      " [  15.3753204   194.63346759  113.41559868  123.36433541   47.21127792]]\n",
      "\n",
      "p-value for score: 2.361167719529988e-38\n",
      "\n"
     ]
    }
   ],
   "source": [
    "cross_score = pd.crosstab(index=normal_post2000.movie_success,\n",
    "                            columns=normal_post2000.score_category)\n",
    "print('Contingency table for score:\\n\\n{}\\n'.format(cross_score))\n",
    "test_score = stats.chi2_contingency(cross_score)\n",
    "print('Expected values for score:\\n\\n{}\\n'.format(test_score[-1]))\n",
    "print('p-value for score: {}\\n'.format(test_score[1]))"
   ]
  },
  {
   "cell_type": "markdown",
   "metadata": {},
   "source": [
    "The p-value is very low, so we can say that the score is related to the movie success.\n",
    "\n",
    "This is in contrast with the preliminary findings, but the method we used here is very different from the one used previously: here we have binned movie scores and ROI and performed a chi-square test, in the preliminary EDA instead we tried to find a correlation between the raw quantities. Both analysis may have their value, although we could argue that a good or bad evaluation is how we normalyy perceive a raw score.\n",
    "\n",
    "To wrap it all, we can still perform a one-way ANOVA to test whether the mean of the (non-binned) worldwide ROI differs significantly throughout the score categories:"
   ]
  },
  {
   "cell_type": "code",
   "execution_count": 34,
   "metadata": {
    "collapsed": false
   },
   "outputs": [
    {
     "name": "stdout",
     "output_type": "stream",
     "text": [
      "ANOVA p-value: {} 4.6353484066751246e-21\n"
     ]
    }
   ],
   "source": [
    "score_anova = stats.f_oneway(normal_post2000.loc[normal_post2000.score_category=='very low', 'worldwide_ROI'],\n",
    "                                      normal_post2000.loc[normal_post2000.score_category=='low', 'worldwide_ROI'],\n",
    "                                      normal_post2000.loc[normal_post2000.score_category=='good', 'worldwide_ROI'],\n",
    "                                      normal_post2000.loc[normal_post2000.score_category=='very good', 'worldwide_ROI'],\n",
    "                                      normal_post2000.loc[normal_post2000.score_category=='excellent', 'worldwide_ROI'])\n",
    "\n",
    "print('ANOVA p-value: {}',format(score_anova[1]))"
   ]
  },
  {
   "cell_type": "markdown",
   "metadata": {},
   "source": [
    "finding that it does, and plot a heatmap of the contingency table used for the chi-square test between ratings and ROI:"
   ]
  },
  {
   "cell_type": "code",
   "execution_count": 35,
   "metadata": {
    "collapsed": false,
    "scrolled": false
   },
   "outputs": [
    {
     "data": {
      "image/png": "[encoded data removed]",
      "text/plain": [
       "<matplotlib.figure.Figure at 0x26a06d6e358>"
      ]
     },
     "metadata": {},
     "output_type": "display_data"
    }
   ],
   "source": [
    "fig, ax = plt.subplots(figsize=(16, 10)) \n",
    "ax = sns.heatmap(cross_score.loc[['very bad', 'bad', 'good', 'very good', 'excellent'],\n",
    "                                 ['very low', 'low', 'good', 'very good', 'excellent']],\n",
    "                 cmap=sns.light_palette('blue', as_cmap=True))\n",
    "fig.savefig('figures/heatmap.png');"
   ]
  }
 ],
 "metadata": {
  "kernelspec": {
   "display_name": "Python 3",
   "language": "python",
   "name": "python3"
  },
  "language_info": {
   "codemirror_mode": {
    "name": "ipython",
    "version": 3
   },
   "file_extension": ".py",
   "mimetype": "text/x-python",
   "name": "python",
   "nbconvert_exporter": "python",
   "pygments_lexer": "ipython3",
   "version": "3.6.0"
  }
 },
 "nbformat": 4,
 "nbformat_minor": 2
}
