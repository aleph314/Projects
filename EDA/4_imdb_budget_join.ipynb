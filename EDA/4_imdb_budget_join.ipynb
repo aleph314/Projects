{
 "cells": [
  {
   "cell_type": "markdown",
   "metadata": {},
   "source": [
    "# Imdb and budgets join"
   ]
  },
  {
   "cell_type": "code",
   "execution_count": 1,
   "metadata": {
    "collapsed": true
   },
   "outputs": [],
   "source": [
    "import pandas as pd\n",
    "import numpy as np\n",
    "import matplotlib.pyplot as plt\n",
    "import seaborn as sns\n",
    "%matplotlib inline\n",
    "\n",
    "from helper import *"
   ]
  },
  {
   "cell_type": "code",
   "execution_count": 2,
   "metadata": {
    "collapsed": false
   },
   "outputs": [],
   "source": [
    "budgets = pd.read_pickle('pickle/budget_cleaned.p')\n",
    "imdb = pd.read_pickle('pickle/imdb_cleaned.p')"
   ]
  },
  {
   "cell_type": "markdown",
   "metadata": {},
   "source": [
    "Let's put the data toghether.\n",
    "\n",
    "Note that we have some duplicate titles in the budgets dataframe, so we cannot use only the movie title to join the datasets. The duplicates are movies with the same title but from different years, so we will use also the year to perform the join."
   ]
  },
  {
   "cell_type": "code",
   "execution_count": 3,
   "metadata": {
    "collapsed": false,
    "scrolled": true
   },
   "outputs": [
    {
     "data": {
      "text/plain": [
       "King Kong                     3\n",
       "Home                          3\n",
       "Ben-Hur                       3\n",
       "The Last House on the Left    2\n",
       "Fantastic Four                2\n",
       "Name: movie, dtype: int64"
      ]
     },
     "execution_count": 3,
     "metadata": {},
     "output_type": "execute_result"
    }
   ],
   "source": [
    "budgets.movie.value_counts().head()"
   ]
  },
  {
   "cell_type": "code",
   "execution_count": 4,
   "metadata": {
    "collapsed": false,
    "scrolled": true
   },
   "outputs": [
    {
     "data": {
      "text/html": [
       "<div>\n",
       "<table border=\"1\" class=\"dataframe\">\n",
       "  <thead>\n",
       "    <tr style=\"text-align: right;\">\n",
       "      <th></th>\n",
       "      <th>release_date</th>\n",
       "      <th>movie</th>\n",
       "      <th>production_budget</th>\n",
       "      <th>domestic_gross</th>\n",
       "      <th>worldwide_gross</th>\n",
       "      <th>release_year</th>\n",
       "      <th>avg_cumulative_inflation</th>\n",
       "      <th>domestic_ROI</th>\n",
       "      <th>worldwide_ROI</th>\n",
       "      <th>adj_production_budget</th>\n",
       "      <th>adj_domestic_gross</th>\n",
       "      <th>adj_worldwide_gross</th>\n",
       "      <th>budget_type</th>\n",
       "      <th>release_month_day</th>\n",
       "    </tr>\n",
       "  </thead>\n",
       "  <tbody>\n",
       "    <tr>\n",
       "      <th>1991</th>\n",
       "      <td>2009-12-04</td>\n",
       "      <td>Brothers</td>\n",
       "      <td>26000000.0</td>\n",
       "      <td>28544157.0</td>\n",
       "      <td>45043870.0</td>\n",
       "      <td>2009</td>\n",
       "      <td>1.118721</td>\n",
       "      <td>0.097852</td>\n",
       "      <td>0.732457</td>\n",
       "      <td>2.908674e+07</td>\n",
       "      <td>3.193294e+07</td>\n",
       "      <td>5.039151e+07</td>\n",
       "      <td>normal</td>\n",
       "      <td>2016-12-04</td>\n",
       "    </tr>\n",
       "    <tr>\n",
       "      <th>3095</th>\n",
       "      <td>2015-08-14</td>\n",
       "      <td>Brothers</td>\n",
       "      <td>13000000.0</td>\n",
       "      <td>656688.0</td>\n",
       "      <td>17856688.0</td>\n",
       "      <td>2015</td>\n",
       "      <td>1.012615</td>\n",
       "      <td>-0.949486</td>\n",
       "      <td>0.373591</td>\n",
       "      <td>1.316400e+07</td>\n",
       "      <td>6.649722e+05</td>\n",
       "      <td>1.808195e+07</td>\n",
       "      <td>normal</td>\n",
       "      <td>2016-08-14</td>\n",
       "    </tr>\n",
       "  </tbody>\n",
       "</table>\n",
       "</div>"
      ],
      "text/plain": [
       "     release_date     movie  production_budget  domestic_gross  \\\n",
       "1991   2009-12-04  Brothers         26000000.0      28544157.0   \n",
       "3095   2015-08-14  Brothers         13000000.0        656688.0   \n",
       "\n",
       "      worldwide_gross  release_year  avg_cumulative_inflation  domestic_ROI  \\\n",
       "1991       45043870.0          2009                  1.118721      0.097852   \n",
       "3095       17856688.0          2015                  1.012615     -0.949486   \n",
       "\n",
       "      worldwide_ROI  adj_production_budget  adj_domestic_gross  \\\n",
       "1991       0.732457           2.908674e+07        3.193294e+07   \n",
       "3095       0.373591           1.316400e+07        6.649722e+05   \n",
       "\n",
       "      adj_worldwide_gross budget_type release_month_day  \n",
       "1991         5.039151e+07      normal        2016-12-04  \n",
       "3095         1.808195e+07      normal        2016-08-14  "
      ]
     },
     "execution_count": 4,
     "metadata": {},
     "output_type": "execute_result"
    }
   ],
   "source": [
    "budgets[budgets.movie=='Brothers']"
   ]
  },
  {
   "cell_type": "markdown",
   "metadata": {},
   "source": [
    "With this join we don't duplicate the rows on the imdb dataframe but we have several missing values:"
   ]
  },
  {
   "cell_type": "code",
   "execution_count": 5,
   "metadata": {
    "collapsed": false
   },
   "outputs": [
    {
     "data": {
      "text/plain": [
       "898"
      ]
     },
     "execution_count": 5,
     "metadata": {},
     "output_type": "execute_result"
    }
   ],
   "source": [
    "temp = imdb.merge(budgets, left_on=['movie_title', 'title_year'], right_on=['movie', 'release_year'], how='left')\n",
    "len(temp[pd.isnull(temp.budget_type)].movie_title)"
   ]
  },
  {
   "cell_type": "markdown",
   "metadata": {},
   "source": [
    "By looking at the missing data we can distinguish three cases:\n",
    "\n",
    "1. *Different dates*: on the imdb dataframe we have production dates, while on the budgets dataframe we have release dates; these dates aren't always in the same year even if we are looking at the same movie.\n",
    "2. *Different titles*: some movies have the titles spelled in different ways, or with different punctuation and so on.\n",
    "3. *Different languages*: on the imdb dataframe most of the titles are in english, while on the budgets dataframe they mostly are in the original language."
   ]
  },
  {
   "cell_type": "code",
   "execution_count": 6,
   "metadata": {
    "collapsed": false
   },
   "outputs": [
    {
     "name": "stdout",
     "output_type": "stream",
     "text": [
      "            movie  release_year\n",
      "5394  El Mariachi          1993\n",
      "      movie_title  title_year\n",
      "5035  El Mariachi      1992.0\n"
     ]
    }
   ],
   "source": [
    "print(budgets.loc[budgets.movie.str.contains('El Mariachi'), ['movie', 'release_year']])\n",
    "print(imdb.loc[imdb.movie_title.str.contains('El Mariachi'), ['movie_title', 'title_year']])"
   ]
  },
  {
   "cell_type": "code",
   "execution_count": 7,
   "metadata": {
    "collapsed": false
   },
   "outputs": [
    {
     "name": "stdout",
     "output_type": "stream",
     "text": [
      "     movie  release_year\n",
      "74  WALL-E          2008\n",
      "   movie_title  title_year\n",
      "58      WALL·E      2008.0\n"
     ]
    }
   ],
   "source": [
    "print(budgets.loc[budgets.movie.str.contains('WALL-E'), ['movie', 'release_year']])\n",
    "print(imdb.loc[imdb.movie_title.str.contains('WALL'), ['movie_title', 'title_year']])"
   ]
  },
  {
   "cell_type": "code",
   "execution_count": 8,
   "metadata": {
    "collapsed": false
   },
   "outputs": [
    {
     "name": "stdout",
     "output_type": "stream",
     "text": [
      "                   movie  release_year\n",
      "3205  La grande bellezza          2013\n",
      "           movie_title  title_year\n",
      "2992  The Great Beauty      2013.0\n"
     ]
    }
   ],
   "source": [
    "print(budgets.loc[budgets.movie.str.contains('La grande bellezza'), ['movie', 'release_year']])\n",
    "print(imdb.loc[imdb.movie_title.str.contains('The Great Beauty'), ['movie_title', 'title_year']])"
   ]
  },
  {
   "cell_type": "markdown",
   "metadata": {},
   "source": [
    "For the first item we define a function that joins the datasets on title and year and, if there is no match, we soften the condition on the year by asking that the production year is at most 10 years earlier than the release year.\n",
    "\n",
    "We also decide to add only the budget index to the imdb dataset and perform the join in one step after we treat all the cases identified above."
   ]
  },
  {
   "cell_type": "code",
   "execution_count": 9,
   "metadata": {
    "collapsed": false
   },
   "outputs": [],
   "source": [
    "def match_movies(movie, year):\n",
    "    temp = budgets.reset_index().loc[(budgets.movie == movie) & (year == budgets.release_year)]\n",
    "    if not temp.empty:\n",
    "        return temp.iloc[0, 0]\n",
    "\n",
    "    temp = budgets.reset_index().loc[(budgets.movie == movie) & (year <= budgets.release_year) & (year >= budgets.release_year - 10)]\n",
    "    if not temp.empty:\n",
    "        return temp.iloc[0, 0]\n",
    "    \n",
    "    return -1"
   ]
  },
  {
   "cell_type": "code",
   "execution_count": 10,
   "metadata": {
    "collapsed": false
   },
   "outputs": [],
   "source": [
    "imdb['budget_index'] = imdb.apply(lambda x: match_movies(x.movie_title, x.title_year), axis=1)"
   ]
  },
  {
   "cell_type": "markdown",
   "metadata": {},
   "source": [
    "For the second and third items we have to manually match the titles, so we have saved the titles for which the budget index is missing and analyzed them on excel."
   ]
  },
  {
   "cell_type": "code",
   "execution_count": 11,
   "metadata": {
    "collapsed": false
   },
   "outputs": [],
   "source": [
    "imdb.loc[imdb.budget_index == -1].movie_title.to_csv('data/unmatched.csv')"
   ]
  },
  {
   "cell_type": "code",
   "execution_count": 12,
   "metadata": {
    "collapsed": true
   },
   "outputs": [],
   "source": [
    "budgets.movie.to_csv('data/budget_titles.csv')"
   ]
  },
  {
   "cell_type": "markdown",
   "metadata": {},
   "source": [
    "After matching the data manually we can import the result and add the missing indexes to the dataframe:"
   ]
  },
  {
   "cell_type": "code",
   "execution_count": 13,
   "metadata": {
    "collapsed": true
   },
   "outputs": [],
   "source": [
    "missing_indexes = pd.read_csv('data/missing_indexes.csv', sep=';')"
   ]
  },
  {
   "cell_type": "code",
   "execution_count": 14,
   "metadata": {
    "collapsed": false
   },
   "outputs": [],
   "source": [
    "imdb = imdb.merge(missing_indexes, how='left', left_index=True, right_on='index').drop('index', axis=1)"
   ]
  },
  {
   "cell_type": "code",
   "execution_count": 15,
   "metadata": {
    "collapsed": false
   },
   "outputs": [],
   "source": [
    "imdb['budget_index_x'] = imdb.apply(lambda x: x.budget_index_y if x.budget_index_x == -1 else x.budget_index_x, axis=1)"
   ]
  },
  {
   "cell_type": "code",
   "execution_count": 16,
   "metadata": {
    "collapsed": true
   },
   "outputs": [],
   "source": [
    "imdb.drop('budget_index_y', axis=1, inplace=True)"
   ]
  },
  {
   "cell_type": "markdown",
   "metadata": {},
   "source": [
    "(We still have some missing values, which we can add manually column by column, but for this movies I wasn't able to find the budget data, so we'll simply ignore them for the time being.)"
   ]
  },
  {
   "cell_type": "code",
   "execution_count": 17,
   "metadata": {
    "collapsed": false
   },
   "outputs": [],
   "source": [
    "# dateparse = lambda x: pd.datetime.strptime(x, '%m/%d/%Y')\n",
    "\n",
    "# missing_data = pd.read_csv('data/missing_data.csv', sep=';', parse_dates=['Release Date'], date_parser=dateparse)\n",
    "# missing_data.columns = ['movie', 'domestic_gross', 'worldwide_gross', 'release_date']"
   ]
  },
  {
   "cell_type": "code",
   "execution_count": 18,
   "metadata": {
    "collapsed": false
   },
   "outputs": [],
   "source": [
    "# inflation = pd.read_csv('data/us_dollar_inflation.csv', sep=';')\n",
    "\n",
    "# missing_data['release_year'] = missing_data.release_date.dt.year\n",
    "\n",
    "# missing_data = missing_data.merge(inflation[['year', 'avg_cumulative_inflation']],\n",
    "#                                 left_on='release_year',\n",
    "#                                 right_on='year',\n",
    "#                                 how='left').drop('year', axis=1)\n",
    "\n",
    "# missing_data['domestic_ROI'] = (missing_data.domestic_gross - missing_data.production_budget) / missing_data.production_budget\n",
    "# missing_data['worldwide_ROI'] = (missing_data.worldwide_gross - missing_data.production_budget) / missing_data.production_budget\n",
    "# missing_data['adj_production_budget'] = missing_data.production_budget * missing_data.avg_cumulative_inflation\n",
    "# missing_data['adj_domestic_gross'] = missing_data.domestic_gross * missing_data.avg_cumulative_inflation\n",
    "# missing_data['adj_worldwide_gross'] = missing_data.worldwide_gross * missing_data.avg_cumulative_inflation\n",
    "# missing_data['budget_type'] = missing_data.adj_production_budget.apply(budget_type)\n",
    "# missing_data['release_month_day'] = missing_data.apply(lambda x: pd.to_datetime('2016-' + str(x.release_date.month) + '-' + str(x.release_date.day)), axis=1)"
   ]
  },
  {
   "cell_type": "markdown",
   "metadata": {},
   "source": [
    "Finally, we join the imdb and budget datasets and save them in a pickle to analyze them."
   ]
  },
  {
   "cell_type": "code",
   "execution_count": 19,
   "metadata": {
    "collapsed": false
   },
   "outputs": [],
   "source": [
    "imdb = imdb.merge(budgets, left_on='budget_index_x', right_index=True, how='left').drop(['movie', 'budget_index_x'])"
   ]
  },
  {
   "cell_type": "code",
   "execution_count": 20,
   "metadata": {
    "collapsed": true
   },
   "outputs": [],
   "source": [
    "imdb.to_pickle('pickle/imdb_full.p')"
   ]
  }
 ],
 "metadata": {
  "kernelspec": {
   "display_name": "Python 3",
   "language": "python",
   "name": "python3"
  },
  "language_info": {
   "codemirror_mode": {
    "name": "ipython",
    "version": 3
   },
   "file_extension": ".py",
   "mimetype": "text/x-python",
   "name": "python",
   "nbconvert_exporter": "python",
   "pygments_lexer": "ipython3",
   "version": "3.6.0"
  }
 },
 "nbformat": 4,
 "nbformat_minor": 2
}
